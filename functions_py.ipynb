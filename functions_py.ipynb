{
  "nbformat": 4,
  "nbformat_minor": 0,
  "metadata": {
    "colab": {
      "provenance": [],
      "authorship_tag": "ABX9TyM+1ylL82OE6jvPBeFCw5TX",
      "include_colab_link": true
    },
    "kernelspec": {
      "name": "python3",
      "display_name": "Python 3"
    },
    "language_info": {
      "name": "python"
    }
  },
  "cells": [
    {
      "cell_type": "markdown",
      "metadata": {
        "id": "view-in-github",
        "colab_type": "text"
      },
      "source": [
        "<a href=\"https://colab.research.google.com/github/Shannonari1/Start-up-practice2/blob/main/functions_py.ipynb\" target=\"_parent\"><img src=\"https://colab.research.google.com/assets/colab-badge.svg\" alt=\"Open In Colab\"/></a>"
      ]
    },
    {
      "cell_type": "code",
      "source": [
        "def fahrToCelsius(tempFahrenheit):\n",
        "\n",
        "    # Conversion formula: (F - 32) /1.8\n",
        "    convertedTemp = (tempFahrenheit - 32) / 1.8\n",
        "    return convertedTemp\n",
        "\n",
        "# Main program\n",
        "if __name__ == \"__main__\":\n",
        "\n",
        "    # Get user input for temperature in Fahrenheit\n",
        "        temp_fahrenheit = float(input(\"Enter temperature in Fahrenheit: \"))\n",
        "\n",
        "    # Call the function\n",
        "        temp_celsius = fahrToCelsius(temp_fahrenheit)\n",
        "\n",
        "    # Print the result\n",
        "        print(f\"{temp_fahrenheit} degrees Fahrenheit is equal to {temp_celsius:.2f} degrees Celsius.\")\n",
        "\n",
        "def tempClassifier(tempCelsius):\n",
        "\n",
        "    if tempCelsius < -2:\n",
        "        return 0\n",
        "    elif -2 <= tempCelsius < 2:\n",
        "        return 1\n",
        "    elif 2 <= tempCelsius < 15:\n",
        "        return 2\n",
        "    else:\n",
        "        return 3\n",
        "\n",
        "# Test cases\n",
        "\n",
        "print(\"Class value for 16.5 degrees Celsius:\", tempClassifier(16.5))\n",
        "print(\"Class value for +2 degrees Celsius:\", tempClassifier(2))"
      ],
      "metadata": {
        "colab": {
          "base_uri": "https://localhost:8080/"
        },
        "id": "V1OBK1oYOZDP",
        "outputId": "22fc5ddf-a515-4853-d2ba-7e0f4048681c"
      },
      "execution_count": 19,
      "outputs": [
        {
          "output_type": "stream",
          "name": "stdout",
          "text": [
            "Enter temperature in Fahrenheit: 2\n",
            "2.0 degrees Fahrenheit is equal to -16.67 degrees Celsius.\n",
            "Class value for 16.5 degrees Celsius: 3\n",
            "Class value for +2 degrees Celsius: 2\n"
          ]
        }
      ]
    }
  ]
}