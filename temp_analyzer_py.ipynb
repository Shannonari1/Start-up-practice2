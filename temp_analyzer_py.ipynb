{
  "nbformat": 4,
  "nbformat_minor": 0,
  "metadata": {
    "colab": {
      "provenance": [],
      "authorship_tag": "ABX9TyO0ef1sjzrSa1/2u1xqRBhN",
      "include_colab_link": true
    },
    "kernelspec": {
      "name": "python3",
      "display_name": "Python 3"
    },
    "language_info": {
      "name": "python"
    }
  },
  "cells": [
    {
      "cell_type": "markdown",
      "metadata": {
        "id": "view-in-github",
        "colab_type": "text"
      },
      "source": [
        "<a href=\"https://colab.research.google.com/github/Shannonari1/Start-up-practice2/blob/main/temp_analyzer_py.ipynb\" target=\"_parent\"><img src=\"https://colab.research.google.com/assets/colab-badge.svg\" alt=\"Open In Colab\"/></a>"
      ]
    },
    {
      "cell_type": "code",
      "execution_count": 8,
      "metadata": {
        "colab": {
          "base_uri": "https://localhost:8080/",
          "height": 0
        },
        "id": "wCKSGiK1HxkF",
        "outputId": "21265de8-b2af-4fb7-9ff4-528477164500"
      },
      "outputs": [
        {
          "output_type": "stream",
          "name": "stdout",
          "text": [
            "Enter temperature in Fahrenheit: -1\n",
            "-1.0 degrees Fahrenheit is equal to -18.33 degrees Celsius.\n",
            "Number of temperatures in each class:\n",
            "Class 0: 137 temperatures\n",
            "Class 1: 85 temperatures\n",
            "Class 2: 114 temperatures\n",
            "Class 3: 0 temperatures\n"
          ]
        }
      ],
      "source": [
        "#Shannon Young\n",
        "# -*- coding: utf-8 -*-\n",
        "\n",
        "# Python libraries are not required for this Exercise, but if you do load any libraries, do so before the dataset\n",
        "# This file should contain all your Python code, including functions\n",
        "\n",
        "\n",
        "# tempData list has 336 integers in the list.  In later assignments we will load an external\n",
        "# datafile (e.g. .txt or .csv), but as this dataset is not very large, we'll place the data directly in the Python code\n",
        "# List of half-hourly temperature values (in degrees Fahrenheit) for one week\n",
        "tempData =  [19, 21, 21, 21, 23, 23, 23, 21, 19, 21, 19, 21, 23, 27, 27, 28, 30, 30, 32, 32, 32, 32, 34, 34,\n",
        "             34, 36, 36, 36, 36, 36, 36, 34, 34, 34, 34, 34, 34, 32, 30, 30, 30, 28, 28, 27, 27, 27, 23, 23,\n",
        "             21, 21, 21, 19, 19, 19, 18, 18, 21, 27, 28, 30, 32, 34, 36, 37, 37, 37, 39, 39, 39, 39, 39, 39,\n",
        "             41, 41, 41, 41, 41, 39, 39, 37, 37, 36, 36, 34, 34, 32, 30, 30, 28, 27, 27, 25, 23, 23, 21, 21,\n",
        "             19, 19, 19, 18, 18, 18, 21, 25, 27, 28, 34, 34, 41, 37, 37, 39, 39, 39, 39, 41, 41, 39, 39, 39,\n",
        "             39, 39, 41, 39, 39, 39, 37, 36, 34, 32, 28, 28, 27, 25, 25, 25, 23, 23, 23, 23, 21, 21, 21, 21,\n",
        "             19, 21, 19, 21, 21, 19, 21, 27, 28, 32, 36, 36, 37, 39, 39, 39, 39, 39, 41, 41, 41, 41, 41, 41,\n",
        "             41, 41, 41, 39, 37, 36, 36, 34, 32, 30, 28, 28, 27, 27, 25, 25, 23, 23, 23, 21, 21, 21, 19, 19,\n",
        "             19, 19, 19, 19, 21, 23, 23, 23, 25, 27, 30, 36, 37, 37, 39, 39, 41, 41, 41, 39, 39, 41, 43, 43,\n",
        "             43, 43, 43, 43, 43, 43, 43, 39, 37, 37, 37, 36, 36, 36, 36, 34, 32, 32, 32, 32, 30, 30, 28, 28,\n",
        "             28, 27, 27, 27, 27, 25, 27, 27, 27, 28, 28, 28, 30, 32, 32, 32, 34, 34, 36, 36, 36, 37, 37, 37,\n",
        "             37, 37, 37, 37, 37, 37, 36, 34, 30, 30, 27, 27, 25, 25, 23, 21, 21, 21, 21, 19, 19, 19, 19, 19,\n",
        "             18, 18, 18, 18, 18, 19, 23, 27, 30, 32, 32, 32, 32, 32, 32, 34, 34, 34, 34, 34, 36, 36, 36, 36,\n",
        "             36, 32, 32, 32, 32, 32, 32, 32, 32, 30, 30, 30, 30, 30, 30, 30, 30, 30, 30, 30, 30, 30, 28, 28]\n",
        "\n",
        "# Begin your functions and code here, do not forget to document your code with comments\n",
        "\n",
        "def fahrToCelsius(tempFahrenheit):\n",
        "\n",
        "    # Conversion formula: (F - 32) /1.8\n",
        "    convertedTemp = (tempFahrenheit - 32) / 1.8\n",
        "    return convertedTemp\n",
        "\n",
        "# Main program\n",
        "if __name__ == \"__main__\":\n",
        "\n",
        "    # Get user input for temperature in Fahrenheit\n",
        "        temp_fahrenheit = float(input(\"Enter temperature in Fahrenheit: \"))\n",
        "\n",
        "    # Call the function\n",
        "        temp_celsius = fahrToCelsius(temp_fahrenheit)\n",
        "\n",
        "    # Print the result\n",
        "        print(f\"{temp_fahrenheit} degrees Fahrenheit is equal to {temp_celsius:.2f} degrees Celsius.\")\n",
        "\n",
        "#Classify the temperature into four different classes.\n",
        "#reclassify value (0, 1, 2, or 3) based on the temperature criteria.\n",
        "def tempClassifier(tempCelsius):\n",
        "\n",
        "    if tempCelsius < -2:\n",
        "        return 0\n",
        "    elif -2 <= tempCelsius < 2:\n",
        "        return 1\n",
        "    elif 2 <= tempCelsius < 15:\n",
        "        return 2\n",
        "    else:\n",
        "        return 3\n",
        "\n",
        "# Test cases\n",
        "\n",
        "#print(\"Class value for 16.5 degrees Celsius:\", tempClassifier(16.5))\n",
        "#print(\"Class value for +2 degrees Celsius:\", tempClassifier(2))\n",
        "\n",
        "# Create an empty list called tempClasses\n",
        "tempClasses = []\n",
        "\n",
        "# Iterate over Fahrenheit temperature values\n",
        "for temp_fahrenheit in tempData:\n",
        "    # Convert Fahrenheit temperature to Celsius\n",
        "    temp_celsius = fahrToCelsius(temp_fahrenheit)\n",
        "\n",
        "    # Classify the converted temperature\n",
        "    temp_class = tempClassifier(temp_celsius)\n",
        "\n",
        "    # Add tempClass value to tempClasses list\n",
        "    tempClasses.append(temp_class)\n",
        "\n",
        "# Count the number of temperatures within each temperature class\n",
        "class_counts = [tempClasses.count(0), tempClasses.count(1), tempClasses.count(2), tempClasses.count(3)]\n",
        "\n",
        "# Print the results\n",
        "print(\"Number of temperatures in each class:\")\n",
        "print(f\"Class 0: {class_counts[0]} temperatures\")\n",
        "print(f\"Class 1: {class_counts[1]} temperatures\")\n",
        "print(f\"Class 2: {class_counts[2]} temperatures\")\n",
        "print(f\"Class 3: {class_counts[3]} temperatures\")\n",
        "\n",
        "\n"
      ]
    }
  ]
}