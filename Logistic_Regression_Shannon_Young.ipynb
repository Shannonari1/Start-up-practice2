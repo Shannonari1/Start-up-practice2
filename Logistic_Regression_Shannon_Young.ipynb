{
  "nbformat": 4,
  "nbformat_minor": 0,
  "metadata": {
    "colab": {
      "provenance": [],
      "include_colab_link": true
    },
    "kernelspec": {
      "name": "python3",
      "display_name": "Python 3"
    },
    "language_info": {
      "name": "python"
    }
  },
  "cells": [
    {
      "cell_type": "markdown",
      "metadata": {
        "id": "view-in-github",
        "colab_type": "text"
      },
      "source": [
        "<a href=\"https://colab.research.google.com/github/Shannonari1/Start-up-practice2/blob/main/Logistic_Regression_Shannon_Young.ipynb\" target=\"_parent\"><img src=\"https://colab.research.google.com/assets/colab-badge.svg\" alt=\"Open In Colab\"/></a>"
      ]
    },
    {
      "cell_type": "markdown",
      "source": [
        "##We are going to create a machine learning model for a telecommunication company, to determine if its customers will leave for a competitor, in order to take proactive action to retain the customers.\n",
        "\n",
        "#What is the difference between linear regression and logistic regression?\n",
        "## Linear regression is appropriate for predicting dependent variables that are composed of continous values (e.g., predicting house prices), but it is inappropriate for predicting dependent variables that categorical (e.g., yes or no, true or false, etc).\n",
        "\n",
        "#Python libraries\n",
        "## Pandas: \"Pandas is a software library written for the Python programming language for data manipulation and analysis. In particular, it offers data structures and operations for manipulating numerical tables and time series. It is free software released under the three-clause BSD license\" (Wikipedia, 2023).\n",
        "\n",
        "## Numpy: \"NumPy is a library for the Python programming language, adding support for large, multi-dimensional arrays and matrices, along with a large collection of high-level mathematical functions to operate on these arrays\" (Wikepdia, 2023).  \n",
        "\n",
        "## Scikit-Learn: \"Scikit-learn is a free software machine learning library for the Python programming language. It features various classification, regression and clustering algorithms including support-vector machines, ...\" (Wikipedia, 2023).\n",
        "\n",
        "## Matplotlib: \"Matplotlib is a plotting library for the Python programming language and its numerical mathematics extension NumPy. It provides an object-oriented API for embedding plots into applications using general-purpose GUI toolkits like Tkinter, wxPython, Qt, or GTK\" (Wikipedia, 2023).\n",
        "\n",
        "\n",
        "\n",
        "\n",
        "\n"
      ],
      "metadata": {
        "id": "WohQkCFhEFFa"
      }
    },
    {
      "cell_type": "code",
      "execution_count": 210,
      "metadata": {
        "id": "HC_2EFGGZ_2a"
      },
      "outputs": [],
      "source": [
        "#Import libraries that are required for the creation of the machine learning model\n",
        "import pandas as pd\n",
        "import pylab as pl\n",
        "import numpy as np\n",
        "import scipy.optimize as opt\n",
        "from sklearn import preprocessing\n",
        "%matplotlib inline\n",
        "import matplotlib.pyplot as plt"
      ]
    },
    {
      "cell_type": "markdown",
      "source": [
        "#Dataset\n",
        "## The dataset that we will be using is a telecommunications dataset to predict customer churn. This dataset represents historical information about the customers where each row is representative of one customer.\n",
        "\n",
        "## Some of the variables or featurs of this dataset are as follow:\n",
        "\n",
        "## * Customers who left within the last month – the column is called Churn\n",
        "## * Services that each customer has signed up for – phone, multiple lines, internet, online security, online backup, device protection, tech support, and streaming TV and movies\n",
        "## * Customer account information – how long they had been a customer, contract, payment method, paperless billing, monthly charges, and total charges\n",
        "## * Demographic info about customers – gender, age range, and if they have partners and dependents"
      ],
      "metadata": {
        "id": "LQHFnQGDHFHo"
      }
    },
    {
      "cell_type": "code",
      "source": [
        "#Load the data from a CSV file\n",
        "water_df = pd.read_csv(\"waterQuality.csv\")\n",
        "water_df.head()"
      ],
      "metadata": {
        "colab": {
          "base_uri": "https://localhost:8080/",
          "height": 256
        },
        "id": "PuqWasWOaXc1",
        "outputId": "0284bffb-ba16-4162-d960-0d5d5a8cdc55"
      },
      "execution_count": 211,
      "outputs": [
        {
          "output_type": "execute_result",
          "data": {
            "text/plain": [
              "   aluminium ammonia  arsenic  barium  cadmium  chloramine  chromium  copper  \\\n",
              "0       1.65    9.08     0.04    2.85    0.007        0.35      0.83    0.17   \n",
              "1       2.32   21.16     0.01    3.31    0.002        5.28      0.68    0.66   \n",
              "2       1.01   14.02     0.04    0.58    0.008        4.24      0.53    0.02   \n",
              "3       1.36   11.33     0.04    2.96    0.001        7.23      0.03    1.66   \n",
              "4       0.92   24.33     0.03    0.20    0.006        2.67      0.69    0.57   \n",
              "\n",
              "   flouride  bacteria  ...   lead  nitrates  nitrites  mercury  perchlorate  \\\n",
              "0      0.05      0.20  ...  0.054     16.08      1.13    0.007        37.75   \n",
              "1      0.90      0.65  ...  0.100      2.01      1.93    0.003        32.26   \n",
              "2      0.99      0.05  ...  0.078     14.16      1.11    0.006        50.28   \n",
              "3      1.08      0.71  ...  0.016      1.41      1.29    0.004         9.12   \n",
              "4      0.61      0.13  ...  0.117      6.74      1.11    0.003        16.90   \n",
              "\n",
              "   radium  selenium  silver  uranium  is_safe  \n",
              "0    6.78      0.08    0.34     0.02        1  \n",
              "1    3.21      0.08    0.27     0.05        1  \n",
              "2    7.07      0.07    0.44     0.01        0  \n",
              "3    1.72      0.02    0.45     0.05        1  \n",
              "4    2.41      0.02    0.06     0.02        1  \n",
              "\n",
              "[5 rows x 21 columns]"
            ],
            "text/html": [
              "\n",
              "  <div id=\"df-832d03d0-1bd8-45c8-8b03-fcd6ed7853dc\" class=\"colab-df-container\">\n",
              "    <div>\n",
              "<style scoped>\n",
              "    .dataframe tbody tr th:only-of-type {\n",
              "        vertical-align: middle;\n",
              "    }\n",
              "\n",
              "    .dataframe tbody tr th {\n",
              "        vertical-align: top;\n",
              "    }\n",
              "\n",
              "    .dataframe thead th {\n",
              "        text-align: right;\n",
              "    }\n",
              "</style>\n",
              "<table border=\"1\" class=\"dataframe\">\n",
              "  <thead>\n",
              "    <tr style=\"text-align: right;\">\n",
              "      <th></th>\n",
              "      <th>aluminium</th>\n",
              "      <th>ammonia</th>\n",
              "      <th>arsenic</th>\n",
              "      <th>barium</th>\n",
              "      <th>cadmium</th>\n",
              "      <th>chloramine</th>\n",
              "      <th>chromium</th>\n",
              "      <th>copper</th>\n",
              "      <th>flouride</th>\n",
              "      <th>bacteria</th>\n",
              "      <th>...</th>\n",
              "      <th>lead</th>\n",
              "      <th>nitrates</th>\n",
              "      <th>nitrites</th>\n",
              "      <th>mercury</th>\n",
              "      <th>perchlorate</th>\n",
              "      <th>radium</th>\n",
              "      <th>selenium</th>\n",
              "      <th>silver</th>\n",
              "      <th>uranium</th>\n",
              "      <th>is_safe</th>\n",
              "    </tr>\n",
              "  </thead>\n",
              "  <tbody>\n",
              "    <tr>\n",
              "      <th>0</th>\n",
              "      <td>1.65</td>\n",
              "      <td>9.08</td>\n",
              "      <td>0.04</td>\n",
              "      <td>2.85</td>\n",
              "      <td>0.007</td>\n",
              "      <td>0.35</td>\n",
              "      <td>0.83</td>\n",
              "      <td>0.17</td>\n",
              "      <td>0.05</td>\n",
              "      <td>0.20</td>\n",
              "      <td>...</td>\n",
              "      <td>0.054</td>\n",
              "      <td>16.08</td>\n",
              "      <td>1.13</td>\n",
              "      <td>0.007</td>\n",
              "      <td>37.75</td>\n",
              "      <td>6.78</td>\n",
              "      <td>0.08</td>\n",
              "      <td>0.34</td>\n",
              "      <td>0.02</td>\n",
              "      <td>1</td>\n",
              "    </tr>\n",
              "    <tr>\n",
              "      <th>1</th>\n",
              "      <td>2.32</td>\n",
              "      <td>21.16</td>\n",
              "      <td>0.01</td>\n",
              "      <td>3.31</td>\n",
              "      <td>0.002</td>\n",
              "      <td>5.28</td>\n",
              "      <td>0.68</td>\n",
              "      <td>0.66</td>\n",
              "      <td>0.90</td>\n",
              "      <td>0.65</td>\n",
              "      <td>...</td>\n",
              "      <td>0.100</td>\n",
              "      <td>2.01</td>\n",
              "      <td>1.93</td>\n",
              "      <td>0.003</td>\n",
              "      <td>32.26</td>\n",
              "      <td>3.21</td>\n",
              "      <td>0.08</td>\n",
              "      <td>0.27</td>\n",
              "      <td>0.05</td>\n",
              "      <td>1</td>\n",
              "    </tr>\n",
              "    <tr>\n",
              "      <th>2</th>\n",
              "      <td>1.01</td>\n",
              "      <td>14.02</td>\n",
              "      <td>0.04</td>\n",
              "      <td>0.58</td>\n",
              "      <td>0.008</td>\n",
              "      <td>4.24</td>\n",
              "      <td>0.53</td>\n",
              "      <td>0.02</td>\n",
              "      <td>0.99</td>\n",
              "      <td>0.05</td>\n",
              "      <td>...</td>\n",
              "      <td>0.078</td>\n",
              "      <td>14.16</td>\n",
              "      <td>1.11</td>\n",
              "      <td>0.006</td>\n",
              "      <td>50.28</td>\n",
              "      <td>7.07</td>\n",
              "      <td>0.07</td>\n",
              "      <td>0.44</td>\n",
              "      <td>0.01</td>\n",
              "      <td>0</td>\n",
              "    </tr>\n",
              "    <tr>\n",
              "      <th>3</th>\n",
              "      <td>1.36</td>\n",
              "      <td>11.33</td>\n",
              "      <td>0.04</td>\n",
              "      <td>2.96</td>\n",
              "      <td>0.001</td>\n",
              "      <td>7.23</td>\n",
              "      <td>0.03</td>\n",
              "      <td>1.66</td>\n",
              "      <td>1.08</td>\n",
              "      <td>0.71</td>\n",
              "      <td>...</td>\n",
              "      <td>0.016</td>\n",
              "      <td>1.41</td>\n",
              "      <td>1.29</td>\n",
              "      <td>0.004</td>\n",
              "      <td>9.12</td>\n",
              "      <td>1.72</td>\n",
              "      <td>0.02</td>\n",
              "      <td>0.45</td>\n",
              "      <td>0.05</td>\n",
              "      <td>1</td>\n",
              "    </tr>\n",
              "    <tr>\n",
              "      <th>4</th>\n",
              "      <td>0.92</td>\n",
              "      <td>24.33</td>\n",
              "      <td>0.03</td>\n",
              "      <td>0.20</td>\n",
              "      <td>0.006</td>\n",
              "      <td>2.67</td>\n",
              "      <td>0.69</td>\n",
              "      <td>0.57</td>\n",
              "      <td>0.61</td>\n",
              "      <td>0.13</td>\n",
              "      <td>...</td>\n",
              "      <td>0.117</td>\n",
              "      <td>6.74</td>\n",
              "      <td>1.11</td>\n",
              "      <td>0.003</td>\n",
              "      <td>16.90</td>\n",
              "      <td>2.41</td>\n",
              "      <td>0.02</td>\n",
              "      <td>0.06</td>\n",
              "      <td>0.02</td>\n",
              "      <td>1</td>\n",
              "    </tr>\n",
              "  </tbody>\n",
              "</table>\n",
              "<p>5 rows × 21 columns</p>\n",
              "</div>\n",
              "    <div class=\"colab-df-buttons\">\n",
              "\n",
              "  <div class=\"colab-df-container\">\n",
              "    <button class=\"colab-df-convert\" onclick=\"convertToInteractive('df-832d03d0-1bd8-45c8-8b03-fcd6ed7853dc')\"\n",
              "            title=\"Convert this dataframe to an interactive table.\"\n",
              "            style=\"display:none;\">\n",
              "\n",
              "  <svg xmlns=\"http://www.w3.org/2000/svg\" height=\"24px\" viewBox=\"0 -960 960 960\">\n",
              "    <path d=\"M120-120v-720h720v720H120Zm60-500h600v-160H180v160Zm220 220h160v-160H400v160Zm0 220h160v-160H400v160ZM180-400h160v-160H180v160Zm440 0h160v-160H620v160ZM180-180h160v-160H180v160Zm440 0h160v-160H620v160Z\"/>\n",
              "  </svg>\n",
              "    </button>\n",
              "\n",
              "  <style>\n",
              "    .colab-df-container {\n",
              "      display:flex;\n",
              "      gap: 12px;\n",
              "    }\n",
              "\n",
              "    .colab-df-convert {\n",
              "      background-color: #E8F0FE;\n",
              "      border: none;\n",
              "      border-radius: 50%;\n",
              "      cursor: pointer;\n",
              "      display: none;\n",
              "      fill: #1967D2;\n",
              "      height: 32px;\n",
              "      padding: 0 0 0 0;\n",
              "      width: 32px;\n",
              "    }\n",
              "\n",
              "    .colab-df-convert:hover {\n",
              "      background-color: #E2EBFA;\n",
              "      box-shadow: 0px 1px 2px rgba(60, 64, 67, 0.3), 0px 1px 3px 1px rgba(60, 64, 67, 0.15);\n",
              "      fill: #174EA6;\n",
              "    }\n",
              "\n",
              "    .colab-df-buttons div {\n",
              "      margin-bottom: 4px;\n",
              "    }\n",
              "\n",
              "    [theme=dark] .colab-df-convert {\n",
              "      background-color: #3B4455;\n",
              "      fill: #D2E3FC;\n",
              "    }\n",
              "\n",
              "    [theme=dark] .colab-df-convert:hover {\n",
              "      background-color: #434B5C;\n",
              "      box-shadow: 0px 1px 3px 1px rgba(0, 0, 0, 0.15);\n",
              "      filter: drop-shadow(0px 1px 2px rgba(0, 0, 0, 0.3));\n",
              "      fill: #FFFFFF;\n",
              "    }\n",
              "  </style>\n",
              "\n",
              "    <script>\n",
              "      const buttonEl =\n",
              "        document.querySelector('#df-832d03d0-1bd8-45c8-8b03-fcd6ed7853dc button.colab-df-convert');\n",
              "      buttonEl.style.display =\n",
              "        google.colab.kernel.accessAllowed ? 'block' : 'none';\n",
              "\n",
              "      async function convertToInteractive(key) {\n",
              "        const element = document.querySelector('#df-832d03d0-1bd8-45c8-8b03-fcd6ed7853dc');\n",
              "        const dataTable =\n",
              "          await google.colab.kernel.invokeFunction('convertToInteractive',\n",
              "                                                    [key], {});\n",
              "        if (!dataTable) return;\n",
              "\n",
              "        const docLinkHtml = 'Like what you see? Visit the ' +\n",
              "          '<a target=\"_blank\" href=https://colab.research.google.com/notebooks/data_table.ipynb>data table notebook</a>'\n",
              "          + ' to learn more about interactive tables.';\n",
              "        element.innerHTML = '';\n",
              "        dataTable['output_type'] = 'display_data';\n",
              "        await google.colab.output.renderOutput(dataTable, element);\n",
              "        const docLink = document.createElement('div');\n",
              "        docLink.innerHTML = docLinkHtml;\n",
              "        element.appendChild(docLink);\n",
              "      }\n",
              "    </script>\n",
              "  </div>\n",
              "\n",
              "\n",
              "<div id=\"df-0c7a0eed-8507-488d-a76a-fa4064f067fd\">\n",
              "  <button class=\"colab-df-quickchart\" onclick=\"quickchart('df-0c7a0eed-8507-488d-a76a-fa4064f067fd')\"\n",
              "            title=\"Suggest charts\"\n",
              "            style=\"display:none;\">\n",
              "\n",
              "<svg xmlns=\"http://www.w3.org/2000/svg\" height=\"24px\"viewBox=\"0 0 24 24\"\n",
              "     width=\"24px\">\n",
              "    <g>\n",
              "        <path d=\"M19 3H5c-1.1 0-2 .9-2 2v14c0 1.1.9 2 2 2h14c1.1 0 2-.9 2-2V5c0-1.1-.9-2-2-2zM9 17H7v-7h2v7zm4 0h-2V7h2v10zm4 0h-2v-4h2v4z\"/>\n",
              "    </g>\n",
              "</svg>\n",
              "  </button>\n",
              "\n",
              "<style>\n",
              "  .colab-df-quickchart {\n",
              "      --bg-color: #E8F0FE;\n",
              "      --fill-color: #1967D2;\n",
              "      --hover-bg-color: #E2EBFA;\n",
              "      --hover-fill-color: #174EA6;\n",
              "      --disabled-fill-color: #AAA;\n",
              "      --disabled-bg-color: #DDD;\n",
              "  }\n",
              "\n",
              "  [theme=dark] .colab-df-quickchart {\n",
              "      --bg-color: #3B4455;\n",
              "      --fill-color: #D2E3FC;\n",
              "      --hover-bg-color: #434B5C;\n",
              "      --hover-fill-color: #FFFFFF;\n",
              "      --disabled-bg-color: #3B4455;\n",
              "      --disabled-fill-color: #666;\n",
              "  }\n",
              "\n",
              "  .colab-df-quickchart {\n",
              "    background-color: var(--bg-color);\n",
              "    border: none;\n",
              "    border-radius: 50%;\n",
              "    cursor: pointer;\n",
              "    display: none;\n",
              "    fill: var(--fill-color);\n",
              "    height: 32px;\n",
              "    padding: 0;\n",
              "    width: 32px;\n",
              "  }\n",
              "\n",
              "  .colab-df-quickchart:hover {\n",
              "    background-color: var(--hover-bg-color);\n",
              "    box-shadow: 0 1px 2px rgba(60, 64, 67, 0.3), 0 1px 3px 1px rgba(60, 64, 67, 0.15);\n",
              "    fill: var(--button-hover-fill-color);\n",
              "  }\n",
              "\n",
              "  .colab-df-quickchart-complete:disabled,\n",
              "  .colab-df-quickchart-complete:disabled:hover {\n",
              "    background-color: var(--disabled-bg-color);\n",
              "    fill: var(--disabled-fill-color);\n",
              "    box-shadow: none;\n",
              "  }\n",
              "\n",
              "  .colab-df-spinner {\n",
              "    border: 2px solid var(--fill-color);\n",
              "    border-color: transparent;\n",
              "    border-bottom-color: var(--fill-color);\n",
              "    animation:\n",
              "      spin 1s steps(1) infinite;\n",
              "  }\n",
              "\n",
              "  @keyframes spin {\n",
              "    0% {\n",
              "      border-color: transparent;\n",
              "      border-bottom-color: var(--fill-color);\n",
              "      border-left-color: var(--fill-color);\n",
              "    }\n",
              "    20% {\n",
              "      border-color: transparent;\n",
              "      border-left-color: var(--fill-color);\n",
              "      border-top-color: var(--fill-color);\n",
              "    }\n",
              "    30% {\n",
              "      border-color: transparent;\n",
              "      border-left-color: var(--fill-color);\n",
              "      border-top-color: var(--fill-color);\n",
              "      border-right-color: var(--fill-color);\n",
              "    }\n",
              "    40% {\n",
              "      border-color: transparent;\n",
              "      border-right-color: var(--fill-color);\n",
              "      border-top-color: var(--fill-color);\n",
              "    }\n",
              "    60% {\n",
              "      border-color: transparent;\n",
              "      border-right-color: var(--fill-color);\n",
              "    }\n",
              "    80% {\n",
              "      border-color: transparent;\n",
              "      border-right-color: var(--fill-color);\n",
              "      border-bottom-color: var(--fill-color);\n",
              "    }\n",
              "    90% {\n",
              "      border-color: transparent;\n",
              "      border-bottom-color: var(--fill-color);\n",
              "    }\n",
              "  }\n",
              "</style>\n",
              "\n",
              "  <script>\n",
              "    async function quickchart(key) {\n",
              "      const quickchartButtonEl =\n",
              "        document.querySelector('#' + key + ' button');\n",
              "      quickchartButtonEl.disabled = true;  // To prevent multiple clicks.\n",
              "      quickchartButtonEl.classList.add('colab-df-spinner');\n",
              "      try {\n",
              "        const charts = await google.colab.kernel.invokeFunction(\n",
              "            'suggestCharts', [key], {});\n",
              "      } catch (error) {\n",
              "        console.error('Error during call to suggestCharts:', error);\n",
              "      }\n",
              "      quickchartButtonEl.classList.remove('colab-df-spinner');\n",
              "      quickchartButtonEl.classList.add('colab-df-quickchart-complete');\n",
              "    }\n",
              "    (() => {\n",
              "      let quickchartButtonEl =\n",
              "        document.querySelector('#df-0c7a0eed-8507-488d-a76a-fa4064f067fd button');\n",
              "      quickchartButtonEl.style.display =\n",
              "        google.colab.kernel.accessAllowed ? 'block' : 'none';\n",
              "    })();\n",
              "  </script>\n",
              "</div>\n",
              "\n",
              "    </div>\n",
              "  </div>\n"
            ],
            "application/vnd.google.colaboratory.intrinsic+json": {
              "type": "dataframe",
              "variable_name": "water_df"
            }
          },
          "metadata": {},
          "execution_count": 211
        }
      ]
    },
    {
      "cell_type": "markdown",
      "source": [
        "# Data Pre-Processing"
      ],
      "metadata": {
        "id": "_KTiF5cSIfwB"
      }
    },
    {
      "cell_type": "code",
      "source": [
        "# Let's select the features or independent variables and the dependent variable or target vector\n",
        "# We also change the data type to integer since it is required by skitlearn algorithm\n",
        "# Integers – This value is represented by int class. It contains positive or negative whole numbers (without fractions or decimals)\n",
        "\n",
        "water_df = water_df[['ammonia', 'arsenic', 'chloramine', 'flouride', 'bacteria', 'lead', 'nitrates', 'mercury', 'radium', 'is_safe']]\n",
        "water_df['is_safe'] = pd.to_numeric(water_df['is_safe'], errors='coerce')\n",
        "\n",
        "water_df.head()\n"
      ],
      "metadata": {
        "colab": {
          "base_uri": "https://localhost:8080/",
          "height": 206
        },
        "id": "E-a7wLaVaamF",
        "outputId": "2f13f3bf-fc6e-483d-c61c-6b87565bd327"
      },
      "execution_count": 225,
      "outputs": [
        {
          "output_type": "execute_result",
          "data": {
            "text/plain": [
              "  ammonia  arsenic  chloramine  flouride  bacteria   lead  nitrates  mercury  \\\n",
              "0    9.08     0.04        0.35      0.05      0.20  0.054     16.08    0.007   \n",
              "1   21.16     0.01        5.28      0.90      0.65  0.100      2.01    0.003   \n",
              "2   14.02     0.04        4.24      0.99      0.05  0.078     14.16    0.006   \n",
              "3   11.33     0.04        7.23      1.08      0.71  0.016      1.41    0.004   \n",
              "4   24.33     0.03        2.67      0.61      0.13  0.117      6.74    0.003   \n",
              "\n",
              "   radium  is_safe  \n",
              "0    6.78      1.0  \n",
              "1    3.21      1.0  \n",
              "2    7.07      0.0  \n",
              "3    1.72      1.0  \n",
              "4    2.41      1.0  "
            ],
            "text/html": [
              "\n",
              "  <div id=\"df-5b442fe8-f821-45e2-93e2-c6625ba30fe5\" class=\"colab-df-container\">\n",
              "    <div>\n",
              "<style scoped>\n",
              "    .dataframe tbody tr th:only-of-type {\n",
              "        vertical-align: middle;\n",
              "    }\n",
              "\n",
              "    .dataframe tbody tr th {\n",
              "        vertical-align: top;\n",
              "    }\n",
              "\n",
              "    .dataframe thead th {\n",
              "        text-align: right;\n",
              "    }\n",
              "</style>\n",
              "<table border=\"1\" class=\"dataframe\">\n",
              "  <thead>\n",
              "    <tr style=\"text-align: right;\">\n",
              "      <th></th>\n",
              "      <th>ammonia</th>\n",
              "      <th>arsenic</th>\n",
              "      <th>chloramine</th>\n",
              "      <th>flouride</th>\n",
              "      <th>bacteria</th>\n",
              "      <th>lead</th>\n",
              "      <th>nitrates</th>\n",
              "      <th>mercury</th>\n",
              "      <th>radium</th>\n",
              "      <th>is_safe</th>\n",
              "    </tr>\n",
              "  </thead>\n",
              "  <tbody>\n",
              "    <tr>\n",
              "      <th>0</th>\n",
              "      <td>9.08</td>\n",
              "      <td>0.04</td>\n",
              "      <td>0.35</td>\n",
              "      <td>0.05</td>\n",
              "      <td>0.20</td>\n",
              "      <td>0.054</td>\n",
              "      <td>16.08</td>\n",
              "      <td>0.007</td>\n",
              "      <td>6.78</td>\n",
              "      <td>1.0</td>\n",
              "    </tr>\n",
              "    <tr>\n",
              "      <th>1</th>\n",
              "      <td>21.16</td>\n",
              "      <td>0.01</td>\n",
              "      <td>5.28</td>\n",
              "      <td>0.90</td>\n",
              "      <td>0.65</td>\n",
              "      <td>0.100</td>\n",
              "      <td>2.01</td>\n",
              "      <td>0.003</td>\n",
              "      <td>3.21</td>\n",
              "      <td>1.0</td>\n",
              "    </tr>\n",
              "    <tr>\n",
              "      <th>2</th>\n",
              "      <td>14.02</td>\n",
              "      <td>0.04</td>\n",
              "      <td>4.24</td>\n",
              "      <td>0.99</td>\n",
              "      <td>0.05</td>\n",
              "      <td>0.078</td>\n",
              "      <td>14.16</td>\n",
              "      <td>0.006</td>\n",
              "      <td>7.07</td>\n",
              "      <td>0.0</td>\n",
              "    </tr>\n",
              "    <tr>\n",
              "      <th>3</th>\n",
              "      <td>11.33</td>\n",
              "      <td>0.04</td>\n",
              "      <td>7.23</td>\n",
              "      <td>1.08</td>\n",
              "      <td>0.71</td>\n",
              "      <td>0.016</td>\n",
              "      <td>1.41</td>\n",
              "      <td>0.004</td>\n",
              "      <td>1.72</td>\n",
              "      <td>1.0</td>\n",
              "    </tr>\n",
              "    <tr>\n",
              "      <th>4</th>\n",
              "      <td>24.33</td>\n",
              "      <td>0.03</td>\n",
              "      <td>2.67</td>\n",
              "      <td>0.61</td>\n",
              "      <td>0.13</td>\n",
              "      <td>0.117</td>\n",
              "      <td>6.74</td>\n",
              "      <td>0.003</td>\n",
              "      <td>2.41</td>\n",
              "      <td>1.0</td>\n",
              "    </tr>\n",
              "  </tbody>\n",
              "</table>\n",
              "</div>\n",
              "    <div class=\"colab-df-buttons\">\n",
              "\n",
              "  <div class=\"colab-df-container\">\n",
              "    <button class=\"colab-df-convert\" onclick=\"convertToInteractive('df-5b442fe8-f821-45e2-93e2-c6625ba30fe5')\"\n",
              "            title=\"Convert this dataframe to an interactive table.\"\n",
              "            style=\"display:none;\">\n",
              "\n",
              "  <svg xmlns=\"http://www.w3.org/2000/svg\" height=\"24px\" viewBox=\"0 -960 960 960\">\n",
              "    <path d=\"M120-120v-720h720v720H120Zm60-500h600v-160H180v160Zm220 220h160v-160H400v160Zm0 220h160v-160H400v160ZM180-400h160v-160H180v160Zm440 0h160v-160H620v160ZM180-180h160v-160H180v160Zm440 0h160v-160H620v160Z\"/>\n",
              "  </svg>\n",
              "    </button>\n",
              "\n",
              "  <style>\n",
              "    .colab-df-container {\n",
              "      display:flex;\n",
              "      gap: 12px;\n",
              "    }\n",
              "\n",
              "    .colab-df-convert {\n",
              "      background-color: #E8F0FE;\n",
              "      border: none;\n",
              "      border-radius: 50%;\n",
              "      cursor: pointer;\n",
              "      display: none;\n",
              "      fill: #1967D2;\n",
              "      height: 32px;\n",
              "      padding: 0 0 0 0;\n",
              "      width: 32px;\n",
              "    }\n",
              "\n",
              "    .colab-df-convert:hover {\n",
              "      background-color: #E2EBFA;\n",
              "      box-shadow: 0px 1px 2px rgba(60, 64, 67, 0.3), 0px 1px 3px 1px rgba(60, 64, 67, 0.15);\n",
              "      fill: #174EA6;\n",
              "    }\n",
              "\n",
              "    .colab-df-buttons div {\n",
              "      margin-bottom: 4px;\n",
              "    }\n",
              "\n",
              "    [theme=dark] .colab-df-convert {\n",
              "      background-color: #3B4455;\n",
              "      fill: #D2E3FC;\n",
              "    }\n",
              "\n",
              "    [theme=dark] .colab-df-convert:hover {\n",
              "      background-color: #434B5C;\n",
              "      box-shadow: 0px 1px 3px 1px rgba(0, 0, 0, 0.15);\n",
              "      filter: drop-shadow(0px 1px 2px rgba(0, 0, 0, 0.3));\n",
              "      fill: #FFFFFF;\n",
              "    }\n",
              "  </style>\n",
              "\n",
              "    <script>\n",
              "      const buttonEl =\n",
              "        document.querySelector('#df-5b442fe8-f821-45e2-93e2-c6625ba30fe5 button.colab-df-convert');\n",
              "      buttonEl.style.display =\n",
              "        google.colab.kernel.accessAllowed ? 'block' : 'none';\n",
              "\n",
              "      async function convertToInteractive(key) {\n",
              "        const element = document.querySelector('#df-5b442fe8-f821-45e2-93e2-c6625ba30fe5');\n",
              "        const dataTable =\n",
              "          await google.colab.kernel.invokeFunction('convertToInteractive',\n",
              "                                                    [key], {});\n",
              "        if (!dataTable) return;\n",
              "\n",
              "        const docLinkHtml = 'Like what you see? Visit the ' +\n",
              "          '<a target=\"_blank\" href=https://colab.research.google.com/notebooks/data_table.ipynb>data table notebook</a>'\n",
              "          + ' to learn more about interactive tables.';\n",
              "        element.innerHTML = '';\n",
              "        dataTable['output_type'] = 'display_data';\n",
              "        await google.colab.output.renderOutput(dataTable, element);\n",
              "        const docLink = document.createElement('div');\n",
              "        docLink.innerHTML = docLinkHtml;\n",
              "        element.appendChild(docLink);\n",
              "      }\n",
              "    </script>\n",
              "  </div>\n",
              "\n",
              "\n",
              "<div id=\"df-a05261b4-5956-48e2-847b-131886d3c6d9\">\n",
              "  <button class=\"colab-df-quickchart\" onclick=\"quickchart('df-a05261b4-5956-48e2-847b-131886d3c6d9')\"\n",
              "            title=\"Suggest charts\"\n",
              "            style=\"display:none;\">\n",
              "\n",
              "<svg xmlns=\"http://www.w3.org/2000/svg\" height=\"24px\"viewBox=\"0 0 24 24\"\n",
              "     width=\"24px\">\n",
              "    <g>\n",
              "        <path d=\"M19 3H5c-1.1 0-2 .9-2 2v14c0 1.1.9 2 2 2h14c1.1 0 2-.9 2-2V5c0-1.1-.9-2-2-2zM9 17H7v-7h2v7zm4 0h-2V7h2v10zm4 0h-2v-4h2v4z\"/>\n",
              "    </g>\n",
              "</svg>\n",
              "  </button>\n",
              "\n",
              "<style>\n",
              "  .colab-df-quickchart {\n",
              "      --bg-color: #E8F0FE;\n",
              "      --fill-color: #1967D2;\n",
              "      --hover-bg-color: #E2EBFA;\n",
              "      --hover-fill-color: #174EA6;\n",
              "      --disabled-fill-color: #AAA;\n",
              "      --disabled-bg-color: #DDD;\n",
              "  }\n",
              "\n",
              "  [theme=dark] .colab-df-quickchart {\n",
              "      --bg-color: #3B4455;\n",
              "      --fill-color: #D2E3FC;\n",
              "      --hover-bg-color: #434B5C;\n",
              "      --hover-fill-color: #FFFFFF;\n",
              "      --disabled-bg-color: #3B4455;\n",
              "      --disabled-fill-color: #666;\n",
              "  }\n",
              "\n",
              "  .colab-df-quickchart {\n",
              "    background-color: var(--bg-color);\n",
              "    border: none;\n",
              "    border-radius: 50%;\n",
              "    cursor: pointer;\n",
              "    display: none;\n",
              "    fill: var(--fill-color);\n",
              "    height: 32px;\n",
              "    padding: 0;\n",
              "    width: 32px;\n",
              "  }\n",
              "\n",
              "  .colab-df-quickchart:hover {\n",
              "    background-color: var(--hover-bg-color);\n",
              "    box-shadow: 0 1px 2px rgba(60, 64, 67, 0.3), 0 1px 3px 1px rgba(60, 64, 67, 0.15);\n",
              "    fill: var(--button-hover-fill-color);\n",
              "  }\n",
              "\n",
              "  .colab-df-quickchart-complete:disabled,\n",
              "  .colab-df-quickchart-complete:disabled:hover {\n",
              "    background-color: var(--disabled-bg-color);\n",
              "    fill: var(--disabled-fill-color);\n",
              "    box-shadow: none;\n",
              "  }\n",
              "\n",
              "  .colab-df-spinner {\n",
              "    border: 2px solid var(--fill-color);\n",
              "    border-color: transparent;\n",
              "    border-bottom-color: var(--fill-color);\n",
              "    animation:\n",
              "      spin 1s steps(1) infinite;\n",
              "  }\n",
              "\n",
              "  @keyframes spin {\n",
              "    0% {\n",
              "      border-color: transparent;\n",
              "      border-bottom-color: var(--fill-color);\n",
              "      border-left-color: var(--fill-color);\n",
              "    }\n",
              "    20% {\n",
              "      border-color: transparent;\n",
              "      border-left-color: var(--fill-color);\n",
              "      border-top-color: var(--fill-color);\n",
              "    }\n",
              "    30% {\n",
              "      border-color: transparent;\n",
              "      border-left-color: var(--fill-color);\n",
              "      border-top-color: var(--fill-color);\n",
              "      border-right-color: var(--fill-color);\n",
              "    }\n",
              "    40% {\n",
              "      border-color: transparent;\n",
              "      border-right-color: var(--fill-color);\n",
              "      border-top-color: var(--fill-color);\n",
              "    }\n",
              "    60% {\n",
              "      border-color: transparent;\n",
              "      border-right-color: var(--fill-color);\n",
              "    }\n",
              "    80% {\n",
              "      border-color: transparent;\n",
              "      border-right-color: var(--fill-color);\n",
              "      border-bottom-color: var(--fill-color);\n",
              "    }\n",
              "    90% {\n",
              "      border-color: transparent;\n",
              "      border-bottom-color: var(--fill-color);\n",
              "    }\n",
              "  }\n",
              "</style>\n",
              "\n",
              "  <script>\n",
              "    async function quickchart(key) {\n",
              "      const quickchartButtonEl =\n",
              "        document.querySelector('#' + key + ' button');\n",
              "      quickchartButtonEl.disabled = true;  // To prevent multiple clicks.\n",
              "      quickchartButtonEl.classList.add('colab-df-spinner');\n",
              "      try {\n",
              "        const charts = await google.colab.kernel.invokeFunction(\n",
              "            'suggestCharts', [key], {});\n",
              "      } catch (error) {\n",
              "        console.error('Error during call to suggestCharts:', error);\n",
              "      }\n",
              "      quickchartButtonEl.classList.remove('colab-df-spinner');\n",
              "      quickchartButtonEl.classList.add('colab-df-quickchart-complete');\n",
              "    }\n",
              "    (() => {\n",
              "      let quickchartButtonEl =\n",
              "        document.querySelector('#df-a05261b4-5956-48e2-847b-131886d3c6d9 button');\n",
              "      quickchartButtonEl.style.display =\n",
              "        google.colab.kernel.accessAllowed ? 'block' : 'none';\n",
              "    })();\n",
              "  </script>\n",
              "</div>\n",
              "\n",
              "    </div>\n",
              "  </div>\n"
            ],
            "application/vnd.google.colaboratory.intrinsic+json": {
              "type": "dataframe",
              "variable_name": "water_df",
              "summary": "{\n  \"name\": \"water_df\",\n  \"rows\": 7996,\n  \"fields\": [\n    {\n      \"column\": \"ammonia\",\n      \"properties\": {\n        \"dtype\": \"category\",\n        \"num_unique_values\": 2563,\n        \"samples\": [\n          \"4.94\",\n          \"13.04\",\n          \"25.05\"\n        ],\n        \"semantic_type\": \"\",\n        \"description\": \"\"\n      }\n    },\n    {\n      \"column\": \"arsenic\",\n      \"properties\": {\n        \"dtype\": \"number\",\n        \"std\": 0.2526324832201346,\n        \"min\": 0.0,\n        \"max\": 1.05,\n        \"num_unique_values\": 107,\n        \"samples\": [\n          0.07,\n          0.17,\n          0.001\n        ],\n        \"semantic_type\": \"\",\n        \"description\": \"\"\n      }\n    },\n    {\n      \"column\": \"chloramine\",\n      \"properties\": {\n        \"dtype\": \"number\",\n        \"std\": 2.567209651034509,\n        \"min\": 0.0,\n        \"max\": 8.68,\n        \"num_unique_values\": 812,\n        \"samples\": [\n          6.78,\n          6.54,\n          2.16\n        ],\n        \"semantic_type\": \"\",\n        \"description\": \"\"\n      }\n    },\n    {\n      \"column\": \"flouride\",\n      \"properties\": {\n        \"dtype\": \"number\",\n        \"std\": 0.43542340151044356,\n        \"min\": 0.0,\n        \"max\": 1.5,\n        \"num_unique_values\": 151,\n        \"samples\": [\n          1.18,\n          0.22,\n          1.38\n        ],\n        \"semantic_type\": \"\",\n        \"description\": \"\"\n      }\n    },\n    {\n      \"column\": \"bacteria\",\n      \"properties\": {\n        \"dtype\": \"number\",\n        \"std\": 0.32949660169192424,\n        \"min\": 0.0,\n        \"max\": 1.0,\n        \"num_unique_values\": 101,\n        \"samples\": [\n          0.93,\n          0.64,\n          0.19\n        ],\n        \"semantic_type\": \"\",\n        \"description\": \"\"\n      }\n    },\n    {\n      \"column\": \"lead\",\n      \"properties\": {\n        \"dtype\": \"number\",\n        \"std\": 0.05816850590111695,\n        \"min\": 0.0,\n        \"max\": 0.2,\n        \"num_unique_values\": 200,\n        \"samples\": [\n          0.194,\n          0.017,\n          0.193\n        ],\n        \"semantic_type\": \"\",\n        \"description\": \"\"\n      }\n    },\n    {\n      \"column\": \"nitrates\",\n      \"properties\": {\n        \"dtype\": \"number\",\n        \"std\": 5.541976583539615,\n        \"min\": 0.0,\n        \"max\": 19.83,\n        \"num_unique_values\": 1803,\n        \"samples\": [\n          8.28,\n          10.67,\n          1.06\n        ],\n        \"semantic_type\": \"\",\n        \"description\": \"\"\n      }\n    },\n    {\n      \"column\": \"mercury\",\n      \"properties\": {\n        \"dtype\": \"number\",\n        \"std\": 0.002967141329191858,\n        \"min\": 0.0,\n        \"max\": 0.01,\n        \"num_unique_values\": 11,\n        \"samples\": [\n          0.01,\n          0.007,\n          0.005\n        ],\n        \"semantic_type\": \"\",\n        \"description\": \"\"\n      }\n    },\n    {\n      \"column\": \"radium\",\n      \"properties\": {\n        \"dtype\": \"number\",\n        \"std\": 2.3228051287175466,\n        \"min\": 0.0,\n        \"max\": 7.99,\n        \"num_unique_values\": 735,\n        \"samples\": [\n          3.37,\n          1.71,\n          4.01\n        ],\n        \"semantic_type\": \"\",\n        \"description\": \"\"\n      }\n    },\n    {\n      \"column\": \"is_safe\",\n      \"properties\": {\n        \"dtype\": \"number\",\n        \"std\": 0.31790039582063123,\n        \"min\": 0.0,\n        \"max\": 1.0,\n        \"num_unique_values\": 2,\n        \"samples\": [\n          0.0,\n          1.0\n        ],\n        \"semantic_type\": \"\",\n        \"description\": \"\"\n      }\n    }\n  ]\n}"
            }
          },
          "metadata": {},
          "execution_count": 225
        }
      ]
    },
    {
      "cell_type": "markdown",
      "source": [
        "# In this step, we need to define our X and our Y. X= Features or independent variables and Y= Dependent variable or target vector"
      ],
      "metadata": {
        "id": "blsuWx84JpAS"
      }
    },
    {
      "cell_type": "code",
      "source": [
        "X = water_df.drop('is_safe', axis=1).values\n",
        "X[0:5]"
      ],
      "metadata": {
        "colab": {
          "base_uri": "https://localhost:8080/"
        },
        "id": "xK2whPksawGc",
        "outputId": "f22e3753-103e-419b-a3df-237be624c77a"
      },
      "execution_count": 214,
      "outputs": [
        {
          "output_type": "execute_result",
          "data": {
            "text/plain": [
              "array([['9.08', 0.04, 0.35, 0.05, 0.2, 0.054, 16.08, 0.007, 6.78],\n",
              "       ['21.16', 0.01, 5.28, 0.9, 0.65, 0.1, 2.01, 0.003, 3.21],\n",
              "       ['14.02', 0.04, 4.24, 0.99, 0.05, 0.078, 14.16, 0.006, 7.07],\n",
              "       ['11.33', 0.04, 7.23, 1.08, 0.71, 0.016, 1.41, 0.004, 1.72],\n",
              "       ['24.33', 0.03, 2.67, 0.61, 0.13, 0.117, 6.74, 0.003, 2.41]],\n",
              "      dtype=object)"
            ]
          },
          "metadata": {},
          "execution_count": 214
        }
      ]
    },
    {
      "cell_type": "code",
      "source": [
        "y = water_df['is_safe'].values\n",
        "y[0:5]"
      ],
      "metadata": {
        "colab": {
          "base_uri": "https://localhost:8080/"
        },
        "id": "Q-mmn11sayuM",
        "outputId": "0a74764a-75aa-4057-99c7-ee70f145bde4"
      },
      "execution_count": 215,
      "outputs": [
        {
          "output_type": "execute_result",
          "data": {
            "text/plain": [
              "array([1., 1., 0., 1., 1.])"
            ]
          },
          "metadata": {},
          "execution_count": 215
        }
      ]
    },
    {
      "cell_type": "markdown",
      "source": [
        "#In this step, we normalize our dataset."
      ],
      "metadata": {
        "id": "f19xLoHpJ8kR"
      }
    },
    {
      "cell_type": "code",
      "source": [
        "from sklearn import preprocessing\n",
        "scaler = preprocessing.StandardScaler()\n",
        "X_train_scaled = scaler.fit_transform(X_train_imputed)\n",
        "X_test_scaled = scaler.transform(X_test_imputed)\n",
        "X[0:5]"
      ],
      "metadata": {
        "colab": {
          "base_uri": "https://localhost:8080/"
        },
        "id": "_IZD3Dica6OE",
        "outputId": "bfb71800-f7de-4619-e84b-e4258925b14a"
      },
      "execution_count": 216,
      "outputs": [
        {
          "output_type": "execute_result",
          "data": {
            "text/plain": [
              "array([['9.08', 0.04, 0.35, 0.05, 0.2, 0.054, 16.08, 0.007, 6.78],\n",
              "       ['21.16', 0.01, 5.28, 0.9, 0.65, 0.1, 2.01, 0.003, 3.21],\n",
              "       ['14.02', 0.04, 4.24, 0.99, 0.05, 0.078, 14.16, 0.006, 7.07],\n",
              "       ['11.33', 0.04, 7.23, 1.08, 0.71, 0.016, 1.41, 0.004, 1.72],\n",
              "       ['24.33', 0.03, 2.67, 0.61, 0.13, 0.117, 6.74, 0.003, 2.41]],\n",
              "      dtype=object)"
            ]
          },
          "metadata": {},
          "execution_count": 216
        }
      ]
    },
    {
      "cell_type": "markdown",
      "source": [
        "# In this step we split the dataset into train/test sets"
      ],
      "metadata": {
        "id": "au5jyCAFKQeq"
      }
    },
    {
      "cell_type": "code",
      "source": [
        "from sklearn.model_selection import train_test_split\n",
        "X_train, X_test, y_train, y_test = train_test_split(X, y, test_size=0.2, random_state=4)\n",
        "print ('Train set:', X_train.shape,  y_train.shape)\n",
        "print ('Test set:', X_test.shape,  y_test.shape)"
      ],
      "metadata": {
        "colab": {
          "base_uri": "https://localhost:8080/"
        },
        "id": "xzmprG2ha8wc",
        "outputId": "e33c9145-5284-4ee2-d224-e11843921256"
      },
      "execution_count": 217,
      "outputs": [
        {
          "output_type": "stream",
          "name": "stdout",
          "text": [
            "Train set: (6396, 9) (6396,)\n",
            "Test set: (1600, 9) (1600,)\n"
          ]
        }
      ]
    },
    {
      "cell_type": "code",
      "source": [
        "from sklearn.linear_model import LogisticRegression\n",
        "from sklearn.impute import SimpleImputer\n",
        "\n",
        "#We will need to confusion matrix for the assignment\n",
        "from sklearn.metrics import confusion_matrix\n",
        "\n",
        "#Impute missing values using mean\n",
        "imputer = SimpleImputer(strategy='mean')\n",
        "X_train_imputed = imputer.fit_transform(X_train)\n",
        "X_test_imputed = imputer.transform(X_test)\n",
        "\n",
        "\n",
        "# Scale the features using StandardScaler\n",
        "scaler = preprocessing.StandardScaler()\n",
        "X_train_scaled = scaler.fit_transform(X_train_imputed)\n",
        "X_test_scaled = scaler.transform(X_test_imputed)\n",
        "\n",
        "\n",
        "# You can experiment with these optimizers to determine if they can yield greater accuracy:  ‘newton-cg’, ‘lbfgs’, ‘liblinear’, ‘sag’, ‘saga’ solvers'\n",
        "\n",
        "# Train the Logistic Regression model\n",
        "LR = LogisticRegression(C=0.01, solver='liblinear', class_weight='balanced').fit(X_train_scaled, y_train)\n",
        "LR"
      ],
      "metadata": {
        "colab": {
          "base_uri": "https://localhost:8080/",
          "height": 75
        },
        "id": "2RaFaXxybEsc",
        "outputId": "89564478-189a-446c-8b55-0e2f34f0f34a"
      },
      "execution_count": 218,
      "outputs": [
        {
          "output_type": "execute_result",
          "data": {
            "text/plain": [
              "LogisticRegression(C=0.01, class_weight='balanced', solver='liblinear')"
            ],
            "text/html": [
              "<style>#sk-container-id-11 {color: black;background-color: white;}#sk-container-id-11 pre{padding: 0;}#sk-container-id-11 div.sk-toggleable {background-color: white;}#sk-container-id-11 label.sk-toggleable__label {cursor: pointer;display: block;width: 100%;margin-bottom: 0;padding: 0.3em;box-sizing: border-box;text-align: center;}#sk-container-id-11 label.sk-toggleable__label-arrow:before {content: \"▸\";float: left;margin-right: 0.25em;color: #696969;}#sk-container-id-11 label.sk-toggleable__label-arrow:hover:before {color: black;}#sk-container-id-11 div.sk-estimator:hover label.sk-toggleable__label-arrow:before {color: black;}#sk-container-id-11 div.sk-toggleable__content {max-height: 0;max-width: 0;overflow: hidden;text-align: left;background-color: #f0f8ff;}#sk-container-id-11 div.sk-toggleable__content pre {margin: 0.2em;color: black;border-radius: 0.25em;background-color: #f0f8ff;}#sk-container-id-11 input.sk-toggleable__control:checked~div.sk-toggleable__content {max-height: 200px;max-width: 100%;overflow: auto;}#sk-container-id-11 input.sk-toggleable__control:checked~label.sk-toggleable__label-arrow:before {content: \"▾\";}#sk-container-id-11 div.sk-estimator input.sk-toggleable__control:checked~label.sk-toggleable__label {background-color: #d4ebff;}#sk-container-id-11 div.sk-label input.sk-toggleable__control:checked~label.sk-toggleable__label {background-color: #d4ebff;}#sk-container-id-11 input.sk-hidden--visually {border: 0;clip: rect(1px 1px 1px 1px);clip: rect(1px, 1px, 1px, 1px);height: 1px;margin: -1px;overflow: hidden;padding: 0;position: absolute;width: 1px;}#sk-container-id-11 div.sk-estimator {font-family: monospace;background-color: #f0f8ff;border: 1px dotted black;border-radius: 0.25em;box-sizing: border-box;margin-bottom: 0.5em;}#sk-container-id-11 div.sk-estimator:hover {background-color: #d4ebff;}#sk-container-id-11 div.sk-parallel-item::after {content: \"\";width: 100%;border-bottom: 1px solid gray;flex-grow: 1;}#sk-container-id-11 div.sk-label:hover label.sk-toggleable__label {background-color: #d4ebff;}#sk-container-id-11 div.sk-serial::before {content: \"\";position: absolute;border-left: 1px solid gray;box-sizing: border-box;top: 0;bottom: 0;left: 50%;z-index: 0;}#sk-container-id-11 div.sk-serial {display: flex;flex-direction: column;align-items: center;background-color: white;padding-right: 0.2em;padding-left: 0.2em;position: relative;}#sk-container-id-11 div.sk-item {position: relative;z-index: 1;}#sk-container-id-11 div.sk-parallel {display: flex;align-items: stretch;justify-content: center;background-color: white;position: relative;}#sk-container-id-11 div.sk-item::before, #sk-container-id-11 div.sk-parallel-item::before {content: \"\";position: absolute;border-left: 1px solid gray;box-sizing: border-box;top: 0;bottom: 0;left: 50%;z-index: -1;}#sk-container-id-11 div.sk-parallel-item {display: flex;flex-direction: column;z-index: 1;position: relative;background-color: white;}#sk-container-id-11 div.sk-parallel-item:first-child::after {align-self: flex-end;width: 50%;}#sk-container-id-11 div.sk-parallel-item:last-child::after {align-self: flex-start;width: 50%;}#sk-container-id-11 div.sk-parallel-item:only-child::after {width: 0;}#sk-container-id-11 div.sk-dashed-wrapped {border: 1px dashed gray;margin: 0 0.4em 0.5em 0.4em;box-sizing: border-box;padding-bottom: 0.4em;background-color: white;}#sk-container-id-11 div.sk-label label {font-family: monospace;font-weight: bold;display: inline-block;line-height: 1.2em;}#sk-container-id-11 div.sk-label-container {text-align: center;}#sk-container-id-11 div.sk-container {/* jupyter's `normalize.less` sets `[hidden] { display: none; }` but bootstrap.min.css set `[hidden] { display: none !important; }` so we also need the `!important` here to be able to override the default hidden behavior on the sphinx rendered scikit-learn.org. See: https://github.com/scikit-learn/scikit-learn/issues/21755 */display: inline-block !important;position: relative;}#sk-container-id-11 div.sk-text-repr-fallback {display: none;}</style><div id=\"sk-container-id-11\" class=\"sk-top-container\"><div class=\"sk-text-repr-fallback\"><pre>LogisticRegression(C=0.01, class_weight=&#x27;balanced&#x27;, solver=&#x27;liblinear&#x27;)</pre><b>In a Jupyter environment, please rerun this cell to show the HTML representation or trust the notebook. <br />On GitHub, the HTML representation is unable to render, please try loading this page with nbviewer.org.</b></div><div class=\"sk-container\" hidden><div class=\"sk-item\"><div class=\"sk-estimator sk-toggleable\"><input class=\"sk-toggleable__control sk-hidden--visually\" id=\"sk-estimator-id-11\" type=\"checkbox\" checked><label for=\"sk-estimator-id-11\" class=\"sk-toggleable__label sk-toggleable__label-arrow\">LogisticRegression</label><div class=\"sk-toggleable__content\"><pre>LogisticRegression(C=0.01, class_weight=&#x27;balanced&#x27;, solver=&#x27;liblinear&#x27;)</pre></div></div></div></div></div>"
            ]
          },
          "metadata": {},
          "execution_count": 218
        }
      ]
    },
    {
      "cell_type": "code",
      "source": [
        "from sklearn.linear_model import LogisticRegression\n",
        "from sklearn.impute import SimpleImputer\n",
        "from sklearn.metrics import confusion_matrix\n",
        "\n",
        "# Predict the target values\n",
        "y_pred = LR.predict(X_test_scaled)\n",
        "y_pred\n"
      ],
      "metadata": {
        "colab": {
          "base_uri": "https://localhost:8080/"
        },
        "id": "-aKa-2PObGgc",
        "outputId": "0419af9e-6e0a-4bdc-a8b2-036f418a9648"
      },
      "execution_count": 219,
      "outputs": [
        {
          "output_type": "execute_result",
          "data": {
            "text/plain": [
              "array([1., 0., 0., ..., 1., 0., 0.])"
            ]
          },
          "metadata": {},
          "execution_count": 219
        }
      ]
    },
    {
      "cell_type": "markdown",
      "source": [
        "# Let's evaluate our machine learning model\n",
        "\n",
        "## jaccard index\n",
        "###  If the entire set of predicted labels for a sample strictly match with the true set of labels, then the subset accuracy is 1.0; otherwise it is 0.0."
      ],
      "metadata": {
        "id": "LgZ2tZgdK6GH"
      }
    },
    {
      "cell_type": "code",
      "source": [
        "from sklearn.metrics import jaccard_score\n",
        "jaccard_score(y_test, y_pred,pos_label=0)"
      ],
      "metadata": {
        "colab": {
          "base_uri": "https://localhost:8080/"
        },
        "id": "c-LTN5n1bXJU",
        "outputId": "b76478b2-7825-48c4-e17a-7dbc6c80457f"
      },
      "execution_count": 220,
      "outputs": [
        {
          "output_type": "execute_result",
          "data": {
            "text/plain": [
              "0.7434166103983795"
            ]
          },
          "metadata": {},
          "execution_count": 220
        }
      ]
    },
    {
      "cell_type": "markdown",
      "source": [
        "### Log loss( Logarithmic loss) measures the performance of a classifier where the predicted output is a probability value between 0 and 1. \"The more the predicted probability diverges from the actual value, the higher is the log-loss value\" (Gaurav Dembla, 2020).\n",
        "\n",
        "Reference\n",
        "Gaurav Dembla. (2020). Intuition behind Log-loss score. Retrieved on March 19, 2023 from https://towardsdatascience.com/intuition-behind-log-loss-score-4e0c9979680a"
      ],
      "metadata": {
        "id": "VPKRZ0mZLRVJ"
      }
    },
    {
      "cell_type": "code",
      "source": [
        "from sklearn.metrics import log_loss\n",
        "y_pred_proba = LR.predict_proba(X_test_imputed)\n",
        "log_loss(y_test, y_pred)"
      ],
      "metadata": {
        "colab": {
          "base_uri": "https://localhost:8080/"
        },
        "id": "LhD9fidtbY5M",
        "outputId": "eb340ef2-243a-4883-8284-4c835484fabb"
      },
      "execution_count": 221,
      "outputs": [
        {
          "output_type": "execute_result",
          "data": {
            "text/plain": [
              "8.560367679915323"
            ]
          },
          "metadata": {},
          "execution_count": 221
        }
      ]
    },
    {
      "cell_type": "markdown",
      "source": [
        "# Confusion matrix"
      ],
      "metadata": {
        "id": "DzbOPDdvSCMJ"
      }
    },
    {
      "cell_type": "code",
      "source": [
        "from sklearn.metrics import classification_report, confusion_matrix\n",
        "import itertools\n",
        "def plot_confusion_matrix(cm, classes,\n",
        "                          normalize=False,\n",
        "                          title='Confusion matrix',\n",
        "                          cmap=plt.cm.Blues):\n",
        "    \"\"\"\n",
        "    This function prints and plots the confusion matrix.\n",
        "    Normalization can be applied by setting `normalize=True`.\n",
        "    \"\"\"\n",
        "    if normalize:\n",
        "        cm = cm.astype('float') / cm.sum(axis=1)[:, np.newaxis]\n",
        "        print(\"Normalized confusion matrix\")\n",
        "    else:\n",
        "        print('Confusion matrix, without normalization')\n",
        "\n",
        "    print(cm)\n",
        "\n",
        "    plt.imshow(cm, interpolation='nearest', cmap=cmap)\n",
        "    plt.title(title)\n",
        "    plt.colorbar()\n",
        "    tick_marks = np.arange(len(classes))\n",
        "    plt.xticks(tick_marks, classes, rotation=45)\n",
        "    plt.yticks(tick_marks, classes)\n",
        "\n",
        "    fmt = '.2f' if normalize else 'd'\n",
        "    thresh = cm.max() / 2.\n",
        "    for i, j in itertools.product(range(cm.shape[0]), range(cm.shape[1])):\n",
        "        plt.text(j, i, format(cm[i, j], fmt),\n",
        "                 horizontalalignment=\"center\",\n",
        "                 color=\"white\" if cm[i, j] > thresh else \"black\")\n",
        "\n",
        "    plt.tight_layout()\n",
        "    plt.ylabel('True label')\n",
        "    plt.xlabel('Predicted label')\n",
        "print(confusion_matrix(y_test, y_pred, labels=[1,0]))"
      ],
      "metadata": {
        "colab": {
          "base_uri": "https://localhost:8080/"
        },
        "id": "awNj6bFAXveR",
        "outputId": "17056813-172f-4ffd-9f9a-a3570828b214"
      },
      "execution_count": 222,
      "outputs": [
        {
          "output_type": "stream",
          "name": "stdout",
          "text": [
            "[[ 119   60]\n",
            " [ 320 1101]]\n"
          ]
        }
      ]
    },
    {
      "cell_type": "code",
      "source": [
        "# Compute confusion matrix\n",
        "cnf_matrix = confusion_matrix(y_test, y_pred, labels=[1,0])\n",
        "np.set_printoptions(precision=2)\n",
        "\n",
        "\n",
        "# Plot non-normalized confusion matrix\n",
        "plt.figure()\n",
        "plot_confusion_matrix(cnf_matrix, classes=['is_safe=1','is_safe=0'],normalize= False,  title='Confusion matrix')"
      ],
      "metadata": {
        "colab": {
          "base_uri": "https://localhost:8080/",
          "height": 558
        },
        "id": "t_SHmv_dSKU4",
        "outputId": "2f554081-a8aa-438c-9612-e8efca0b5f31"
      },
      "execution_count": 223,
      "outputs": [
        {
          "output_type": "stream",
          "name": "stdout",
          "text": [
            "Confusion matrix, without normalization\n",
            "[[ 119   60]\n",
            " [ 320 1101]]\n"
          ]
        },
        {
          "output_type": "display_data",
          "data": {
            "text/plain": [
              "<Figure size 640x480 with 2 Axes>"
            ],
            "image/png": "[encoded data removed]"
          },
          "metadata": {}
        }
      ]
    },
    {
      "cell_type": "markdown",
      "source": [
        "# Now, lets calculate the precision and recall"
      ],
      "metadata": {
        "id": "66TAySjjSt9-"
      }
    },
    {
      "cell_type": "code",
      "source": [
        "print (classification_report(y_test, y_pred))\n"
      ],
      "metadata": {
        "colab": {
          "base_uri": "https://localhost:8080/"
        },
        "id": "aPuJrjuWS3ad",
        "outputId": "529eef96-85dc-4deb-d7d8-99b88fe8792d"
      },
      "execution_count": 224,
      "outputs": [
        {
          "output_type": "stream",
          "name": "stdout",
          "text": [
            "              precision    recall  f1-score   support\n",
            "\n",
            "         0.0       0.95      0.77      0.85      1421\n",
            "         1.0       0.27      0.66      0.39       179\n",
            "\n",
            "    accuracy                           0.76      1600\n",
            "   macro avg       0.61      0.72      0.62      1600\n",
            "weighted avg       0.87      0.76      0.80      1600\n",
            "\n"
          ]
        }
      ]
    },
    {
      "cell_type": "markdown",
      "source": [
        "### Based on the count of each section, we can calculate precision and recall of each label:\n",
        "\n",
        "### Precision is a measure of the accuracy provided that a class label has been predicted. It is defined by: precision = TP / (TP + FP)\n",
        "\n",
        "### Recall is the true positive rate. It is defined as: Recall = TP / (TP + FN)\n",
        "\n",
        "### So, we can calculate the precision and recall of each class.\n",
        "\n",
        "### F1 score: Now we are in the position to calculate the F1 scores for each label based on the precision and recall of that label.\n",
        "\n",
        "### The F1 score is the harmonic average of the precision and recall, where an F1 score reaches its best value at 1 (perfect precision and recall) and worst at 0. It is a good way to show that a classifer has a good value for both recall and precision.\n",
        "\n",
        "### Finally, we can tell the average accuracy for this classifier is the average of the F1-score for both labels, which is 0.72 in our case.\n",
        "\n",
        "![confusion.webp](data:image/webp;base64,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)\n",
        "\n",
        "![confusion model.jpg](data:image/jpeg;base64,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)\n",
        "\n",
        "\n",
        "![precision.jpg](data:image/jpeg;base64,/9j/4AAQSkZJRgABAQEAqACoAAD/2wBDAAMCAgMCAgMDAwMEAwMEBQgFBQQEBQoHBwYIDAoMDAsKCwsNDhIQDQ4RDgsLEBYQERMUFRUVDA8XGBYUGBIUFRT/2wBDAQMEBAUEBQkFBQkUDQsNFBQUFBQUFBQUFBQUFBQUFBQUFBQUFBQUFBQUFBQUFBQUFBQUFBQUFBQUFBQUFBQUFBT/wAARCAD/BKADASIAAhEBAxEB/8QAHwAAAQUBAQEBAQEAAAAAAAAAAAECAwQFBgcICQoL/8QAtRAAAgEDAwIEAwUFBAQAAAF9AQIDAAQRBRIhMUEGE1FhByJxFDKBkaEII0KxwRVS0fAkM2JyggkKFhcYGRolJicoKSo0NTY3ODk6Q0RFRkdISUpTVFVWV1hZWmNkZWZnaGlqc3R1dnd4eXqDhIWGh4iJipKTlJWWl5iZmqKjpKWmp6ipqrKztLW2t7i5usLDxMXGx8jJytLT1NXW19jZ2uHi4+Tl5ufo6erx8vP09fb3+Pn6/8QAHwEAAwEBAQEBAQEBAQAAAAAAAAECAwQFBgcICQoL/8QAtREAAgECBAQDBAcFBAQAAQJ3AAECAxEEBSExBhJBUQdhcRMiMoEIFEKRobHBCSMzUvAVYnLRChYkNOEl8RcYGRomJygpKjU2Nzg5OkNERUZHSElKU1RVVldYWVpjZGVmZ2hpanN0dXZ3eHl6goOEhYaHiImKkpOUlZaXmJmaoqOkpaanqKmqsrO0tba3uLm6wsPExcbHyMnK0tPU1dbX2Nna4uPk5ebn6Onq8vP09fb3+Pn6/9oADAMBAAIRAxEAPwD9KfHHxQ8J/DeOB/E/iPTdASb/AFbahcLEH5xxk1yi/tVfB9hn/hZPhn/wZR/418M/8FpgP7B8HZ9G/wDQxXP/AAw/4JB6J46+H+geIJfGcsMmpWUN2YxbMdu9FbH3u2aAP0Db9qr4Q54+JXhj/wAGUX+NL/w1V8If+ileGP8AwZRf418R/wDDlXw//wBDtL/4DN/8VR/w5V8P/wDQ7S/+Azf/ABVAH25/w1V8If8AopXhj/wZRf40f8NVfCH/AKKV4Y/8GUX+NfEf/DlXw/8A9DtL/wCAzf8AxVH/AA5V8P8A/Q7S/wDgM3/xVAH25/w1V8If+ileGP8AwZRf40f8NVfCH/opXhj/AMGUX+NfEf8Aw5V8P/8AQ7S/+Azf/FUf8OVfD/8A0O0v/gM3/wAVQB9uf8NVfCH/AKKV4Y/8GUX+NH/DVXwh/wCileGP/BlF/jXxH/w5V8P/APQ7S/8AgM3/AMVR/wAOVfD/AP0O0v8A4DN/8VQB9uf8NVfCH/opXhj/AMGUX+NH/DVXwh/6KV4Y/wDBlF/jXxH/AMOVfD//AEO0v/gM3/xVH/DlXw//ANDtL/4DN/8AFUAfbn/DVXwh/wCileGP/BlF/jR/w1V8If8AopXhj/wZRf418R/8OVfD/wD0O0v/AIDN/wDFUf8ADlXw/wD9DtL/AOAzf/FUAfbn/DVXwh/6KV4Y/wDBlF/jR/w1V8If+ileGP8AwZRf418R/wDDlXw//wBDtL/4DN/8VR/w5V8P/wDQ7S/+Azf/ABVAH25/w1V8If8AopXhj/wZRf40f8NVfCH/AKKV4Y/8GUX+NfEf/DlXw/8A9DtL/wCAzf8AxVH/AA5V8P8A/Q7S/wDgM3/xVAH25/w1V8If+ileGP8AwZRf40f8NVfCH/opXhj/AMGUX+NfEf8Aw5V8P/8AQ7S/+Azf/FUf8OVfD/8A0O0v/gM3/wAVQB9uf8NVfCH/AKKV4Y/8GUX+NH/DVXwh/wCileGP/BlF/jXxH/w5V8P/APQ7S/8AgM3/AMVR/wAOVfD/AP0O0v8A4DN/8VQB9uf8NVfCH/opXhj/AMGUX+NH/DVXwh/6KV4Y/wDBlF/jXxH/AMOVfD//AEO0v/gM3/xVH/DlXw//ANDtL/4DN/8AFUAfbn/DVXwh/wCileGP/BlF/jR/w1V8If8AopXhj/wZRf418R/8OVfD/wD0O0v/AIDN/wDFUf8ADlXw/wD9DtL/AOAzf/FUAfbn/DVXwh/6KV4Y/wDBlF/jR/w1V8If+ileGP8AwZRf418R/wDDlXw//wBDtL/4DN/8VR/w5V8P/wDQ7S/+Azf/ABVAH25/w1V8If8AopXhj/wZRf40f8NVfCH/AKKV4Y/8GUX+NfEf/DlXw/8A9DtL/wCAzf8AxVH/AA5V8P8A/Q7S/wDgM3/xVAH25/w1V8If+ileGP8AwZRf40f8NVfCH/opXhj/AMGUX+NfEf8Aw5V8P/8AQ7S/+Azf/FUf8OVfD/8A0O0v/gM3/wAVQB9uf8NVfCH/AKKV4Y/8GUX+NH/DVXwh/wCileGP/BlF/jXxH/w5V8P/APQ7S/8AgM3/AMVR/wAOVfD/AP0O0v8A4DN/8VQB9uf8NVfCH/opXhj/AMGUX+NH/DVXwh/6KV4Y/wDBlF/jXxH/AMOVfD//AEO0v/gM3/xVH/DlXw//ANDtL/4DN/8AFUAfbn/DVXwh/wCileGP/BlF/jR/w1V8If8AopXhj/wZRf418R/8OVfD/wD0O0v/AIDN/wDFUf8ADlXw/wD9DtL/AOAzf/FUAfbn/DVXwh/6KV4Y/wDBlF/jR/w1V8If+ileGP8AwZRf418R/wDDlXw//wBDtL/4DN/8VR/w5V8P/wDQ7S/+Azf/ABVAH25/w1V8If8AopXhj/wZRf40f8NVfCH/AKKV4Y/8GUX+NfEf/DlXw/8A9DtL/wCAzf8AxVH/AA5V8P8A/Q7S/wDgM3/xVAH25/w1V8If+ileGP8AwZRf40f8NVfCH/opXhj/AMGUX+NfEf8Aw5V8P/8AQ7S/+Azf/FUf8OVfD/8A0O0v/gM3/wAVQB9uf8NVfCH/AKKV4Y/8GUX+NH/DVXwh/wCileGP/BlF/jXxH/w5V8P/APQ7S/8AgM3/AMVR/wAOVfD/AP0O0v8A4DN/8VQB9uf8NVfCH/opXhj/AMGUX+NH/DVXwh/6KV4Y/wDBlF/jXxH/AMOVfD//AEO0v/gM3/xVH/DlXw//ANDtL/4DN/8AFUAfbn/DVXwh/wCileGP/BlF/jR/w1V8If8AopXhj/wZRf418R/8OVfD/wD0O0v/AIDN/wDFUf8ADlXw/wD9DtL/AOAzf/FUAfbn/DVXwh/6KV4Y/wDBlF/jR/w1V8If+ileGP8AwZRf418R/wDDlXw//wBDtL/4DN/8VR/w5V8P/wDQ7S/+Azf/ABVAH25/w1V8If8AopXhj/wZRf40f8NVfCH/AKKV4Y/8GUX+NfEf/DlXw/8A9DtL/wCAzf8AxVH/AA5V8P8A/Q7S/wDgM3/xVAH25/w1V8If+ileGP8AwZRf40f8NVfCH/opXhj/AMGUX+NfEf8Aw5V8P/8AQ7S/+Azf/FUf8OVfD/8A0O0v/gM3/wAVQB9uf8NVfCH/AKKV4Y/8GUX+NH/DVXwh/wCileGP/BlF/jXxH/w5V8P/APQ7S/8AgM3/AMVR/wAOVfD/AP0O0v8A4DN/8VQB9uf8NVfCH/opXhj/AMGUX+NH/DVXwh/6KV4Y/wDBlF/jXxH/AMOVfD//AEO0v/gM3/xVH/DlXw//ANDtL/4DN/8AFUAfbn/DVXwh/wCileGP/BlF/jR/w1V8If8AopXhj/wZRf418R/8OVfD/wD0O0v/AIDN/wDFUf8ADlXw/wD9DtL/AOAzf/FUAfbn/DVXwh/6KV4Y/wDBlF/jR/w1V8If+ileGP8AwZRf418R/wDDlXw//wBDtL/4DN/8VR/w5V8P/wDQ7S/+Azf/ABVAH25/w1V8If8AopXhj/wZRf40f8NVfCH/AKKV4Y/8GUX+NfEf/DlXw/8A9DtL/wCAzf8AxVH/AA5V8P8A/Q7S/wDgM3/xVAH25/w1V8If+ileGP8AwZRf40f8NVfCH/opXhj/AMGUX+NfEf8Aw5V8P/8AQ7S/+Azf/FUf8OVfD/8A0O0v/gM3/wAVQB9uf8NVfCH/AKKV4Y/8GUX+NH/DVXwh/wCileGP/BlF/jXxH/w5V8P/APQ7S/8AgM3/AMVR/wAOVfD/AP0O0v8A4DN/8VQB9uf8NVfCH/opXhj/AMGUX+NH/DVXwh/6KV4Y/wDBlF/jXxH/AMOVfD//AEO0v/gM3/xVH/DlXw//ANDtL/4DN/8AFUAfbn/DVXwh/wCileGP/BlF/jR/w1V8If8AopXhj/wZRf418R/8OVfD/wD0O0v/AIDN/wDFUf8ADlXw/wD9DtL/AOAzf/FUAfbn/DVXwh/6KV4Y/wDBlF/jR/w1V8If+ileGP8AwZRf418R/wDDlXw//wBDtL/4DN/8VR/w5V8P/wDQ7S/+Azf/ABVAH25/w1V8If8AopXhj/wZRf40f8NVfCH/AKKV4Y/8GUX+NfEf/DlXw/8A9DtL/wCAzf8AxVH/AA5V8P8A/Q7S/wDgM3/xVAH25/w1V8If+ileGP8AwZRf40f8NVfCH/opXhj/AMGUX+NfEf8Aw5V8P/8AQ7S/+Azf/FUf8OVfD/8A0O0v/gM3/wAVQB9uf8NVfCH/AKKV4Y/8GUX+NH/DVXwh/wCileGP/BlF/jXxH/w5V8P/APQ7S/8AgM3/AMVR/wAOVfD/AP0O0v8A4DN/8VQB9uf8NVfCH/opXhj/AMGUX+NH/DVXwh/6KV4Y/wDBlF/jXxH/AMOVfD//AEO0v/gM3/xVH/DlXw//ANDtL/4DN/8AFUAfbn/DVXwh/wCileGP/BlF/jR/w1V8If8AopXhj/wZRf418R/8OVfD/wD0O0v/AIDN/wDFUf8ADlXw/wD9DtL/AOAzf/FUAfbn/DVXwh/6KV4Y/wDBlF/jR/w1V8If+ileGP8AwZRf418R/wDDlXw//wBDtL/4DN/8VR/w5V8P/wDQ7S/+Azf/ABVAH25/w1V8If8AopXhj/wZRf40f8NVfCH/AKKV4Y/8GUX+NfEf/DlXw/8A9DtL/wCAzf8AxVH/AA5V8P8A/Q7S/wDgM3/xVAH25/w1V8If+ileGP8AwZRf40f8NVfCH/opXhj/AMGUX+NfEf8Aw5V8P/8AQ7S/+Azf/FUf8OVfD/8A0O0v/gM3/wAVQB9uf8NVfCH/AKKV4Y/8GUX+NH/DVXwh/wCileGP/BlF/jXxH/w5V8P/APQ7S/8AgM3/AMVR/wAOVfD/AP0O0v8A4DN/8VQB9uf8NVfCH/opXhj/AMGUX+NH/DVXwh/6KV4Y/wDBlF/jXxH/AMOVfD//AEO0v/gM3/xVH/DlXw//ANDtL/4DN/8AFUAfbn/DVXwh/wCileGP/BlF/jR/w1V8If8AopXhj/wZRf418R/8OVfD/wD0O0v/AIDN/wDFUf8ADlXw/wD9DtL/AOAzf/FUAfbn/DVXwh/6KV4Y/wDBlF/jR/w1V8If+ileGP8AwZRf418R/wDDlXw//wBDtL/4DN/8VR/w5V8P/wDQ7S/+Azf/ABVAH25/w1V8If8AopXhj/wZRf40f8NVfCH/AKKV4Y/8GUX+NfEf/DlXw/8A9DtL/wCAzf8AxVH/AA5V8P8A/Q7S/wDgM3/xVAH25/w1V8If+ileGP8AwZRf40f8NVfCH/opXhj/AMGUX+NfEf8Aw5V8P/8AQ7S/+Azf/FUf8OVfD/8A0O0v/gM3/wAVQB9uf8NVfCH/AKKV4Y/8GUX+NH/DVXwh/wCileGP/BlF/jXxH/w5V8P/APQ7S/8AgM3/AMVR/wAOVfD/AP0O0v8A4DN/8VQB9uf8NVfCH/opXhj/AMGUX+NH/DVXwh/6KV4Y/wDBlF/jXxH/AMOVfD//AEO0v/gM3/xVH/DlXw//ANDtL/4DN/8AFUAfbn/DVXwh/wCileGP/BlF/jR/w1V8If8AopXhj/wZRf418R/8OVfD/wD0O0v/AIDN/wDFUf8ADlXw/wD9DtL/AOAzf/FUAfbn/DVXwh/6KV4Y/wDBlF/jR/w1V8If+ileGP8AwZRf418R/wDDlXw//wBDtL/4DN/8VR/w5V8P/wDQ7S/+Azf/ABVAH25/w1V8If8AopXhj/wZRf40f8NVfCH/AKKV4Y/8GUX+NfEf/DlXw/8A9DtL/wCAzf8AxVH/AA5V8P8A/Q7S/wDgM3/xVAH25/w1V8If+ileGP8AwZRf40f8NVfCH/opXhj/AMGUX+NfEf8Aw5V8P/8AQ7S/+Azf/FUf8OVfD/8A0O0v/gM3/wAVQB9uf8NVfCH/AKKV4Y/8GUX+NH/DVXwh/wCileGP/BlF/jXxH/w5V8P/APQ7S/8AgM3/AMVR/wAOVfD/AP0O0v8A4DN/8VQB9uf8NVfCH/opXhj/AMGUX+NH/DVXwh/6KV4Y/wDBlF/jXxH/AMOVfD//AEO0v/gM3/xVH/DlXw//ANDtL/4DN/8AFUAfbn/DVXwh/wCileGP/BlF/jR/w1V8If8AopXhj/wZRf418R/8OVfD/wD0O0v/AIDN/wDFUf8ADlXw/wD9DtL/AOAzf/FUAfbn/DVXwh/6KV4Y/wDBlF/jR/w1V8If+ileGP8AwZRf418R/wDDlXw//wBDtL/4DN/8VR/w5V8P/wDQ7S/+Azf/ABVAH25/w1V8If8AopXhj/wZRf40f8NVfCH/AKKV4Y/8GUX+NfEf/DlXw/8A9DtL/wCAzf8AxVH/AA5V8P8A/Q7S/wDgM3/xVAH25/w1V8If+ileGP8AwZRf40f8NVfCH/opXhj/AMGUX+NfEf8Aw5V8P/8AQ7S/+Azf/FUf8OVfD/8A0O0v/gM3/wAVQB9uf8NVfCH/AKKV4Y/8GUX+NH/DVXwh/wCileGP/BlF/jXxH/w5V8P/APQ7S/8AgM3/AMVR/wAOVfD/AP0O0v8A4DN/8VQB9uf8NVfCH/opXhj/AMGUX+NH/DVXwh/6KV4Y/wDBlF/jXxH/AMOVfD//AEO0v/gM3/xVH/DlXw//ANDtL/4DN/8AFUAfbn/DVXwh/wCileGP/BlF/jR/w1V8If8AopXhj/wZRf418R/8OVfD/wD0O0v/AIDN/wDFUf8ADlXw/wD9DtL/AOAzf/FUAfbn/DVXwh/6KV4Y/wDBlF/jR/w1V8If+ileGP8AwZRf418R/wDDlXw//wBDtL/4DN/8VR/w5V8P/wDQ7S/+Azf/ABVAH25/w1V8If8AopXhj/wZRf40f8NVfCH/AKKV4Y/8GUX+NfEf/DlXw/8A9DtL/wCAzf8AxVH/AA5V8P8A/Q7S/wDgM3/xVAH25/w1V8If+ileGP8AwZRf40f8NVfCH/opXhj/AMGUX+NfEf8Aw5V8P/8AQ7S/+Azf/FUf8OVfD/8A0O0v/gM3/wAVQB9uf8NVfCH/AKKV4Y/8GUX+NH/DVXwh/wCileGP/BlF/jXxH/w5V8P/APQ7S/8AgM3/AMVR/wAOVfD/AP0O0v8A4DN/8VQB9uf8NVfCH/opXhj/AMGUX+NH/DVXwh/6KV4Y/wDBlF/jXxH/AMOVfD//AEO0v/gM3/xVH/DlXw//ANDtL/4DN/8AFUAfbn/DVXwh/wCileGP/BlF/jR/w1V8If8AopXhj/wZRf418R/8OVfD/wD0O0v/AIDN/wDFUf8ADlXw/wD9DtL/AOAzf/FUAfbn/DVXwh/6KV4Y/wDBlF/jW74N+OXw/wDiBrA0rw34y0XXNS8tpfslheJLJsXGW2g5wMj86+BJP+CK+gLGxHjWYkDp9mb/AOKrxH/gmF4Xj8E/t6apoaSecLHSdQhEn97DRjNAHtH/AAWn/wCQB4O+jf8AoYr7z/Zx/wCSF+Bv+wPaf+iUr4M/4LT/APIA8HfRv/QxX3l+zed3wL8Df9ge0/8ARKUAek0UUUAFFFFABRRRQAUUUUAFFFFABRRRQAUUUUAFFFFABRRRQAUUUUAFFFFABRRRQAUUUUAFFFFABRRRQAUUUUAFFFFABRRRQAUUUUAFFFFABRRRQAUUUUAFFFFABRRRQAUUUUAFFFFABRRRQAUUUUAFFFFABRRRQAUUUUAFFFFABRRRQAUUUUAFFFFABRRRQAUUUUAFFFFABRRRQAUUUUAFFFFABRRRQAUUUUAFFFFABRRRQAUUUUAFFFFABRRRQAUUUUAFFFFABRRRQAUUUUAFFFFABRRRQAUUUUAFFFFABRRRQAUUUUAFFFFABRRRQAUUUUAFFFFABRRRQAUUUUAFFFFABRRRQAUUUUAFFFFABRRRQAUUUUAFFFFABRRRQA1/ut9K/Hn/AIJ9/wDKSPxP/wBg/Uv/AENK/YZ/ut9K/Hn/AIJ9/wDKSPxP/wBg/Uv/AENKAPTP+C1H/IA8HfRv/QxX3l+zd/yQnwN/2B7T/wBEpXwb/wAFqP8AkAeDvo3/AKGK+8v2bv8AkhPgb/sD2n/olKAPSqKKKACiiigAooooAKKKKACiiigAooooAKKKKACiiigAooooAKKKKACiiigAooooAKKKKACiiigAooooAKKKKACiiigAooooAKKKKACiiigAooooAKKKKACiiigAooooAKKKKACiiigAooooAKKKKACiiigAooooAKKKKACiiigAooooAKKKKACiiigAooooAKKKKACiiigAooooAKKKKACiiigAooooAKKKKACiiigAooooAKKKKACiiigAooooAKKKKACiiigAooooAKKKKACiiigAooooAKKKKACiiigAooooAKKKKACiiigAooooAKKKKACiiigAooooAKKKKACiiigAooooAKKKKACiiigAooooAKKKKACiiigAooooAa/3W+lfjz/wT7/5SR+J/wDsH6l/6GlfsM/3W+lfjz/wT7/5SR+J/wDsH6l/6GlAHpn/AAWo/wCQB4O+jf8AoYr7y/Zu/wCSE+Bv+wPaf+iUr4N/4LUf8gDwd9G/9DFfeX7N3/JCfA3/AGB7T/0SlAHpVFFFABRRRQAmaTzF9apa1K0VhKyNsbH3q88/ti9/5+X/ADNeZisbHDNJowqVVTdmeobx60bx615h/bN9/wA/Mn501tYvv+fmT864v7Xp9jneLgeo7x60bx615b/bN9/z8yf99Uf2zff8/Mn/AH1R/bFPsH1yB6lvHrRvHrXlv9s33/PzJ/31R/bN9/z8yf8AfVH9sU+wfXIHqW8etG8eteW/2zff8/Mn/fVH9s33/PzJ/wB9Uf2xT7B9cgepbx60bx615b/bN9/z8yf99Uf2zff8/Mn/AH1R/bFPsH1yB6lvHrRvHrXlv9s33/PzJ/31R/bN9/z8yf8AfVH9sU+wfXIHqW8etG8eteW/2zff8/Mn/fVH9s33/PzJ/wB9Uf2xT7B9cgepbx60bx615b/bN9/z8yf99Uf2zff8/Mn/AH1R/bFPsH1yB6lvHrRvHrXlv9s33/PzJ/31R/bN9/z8yf8AfVH9sU+wfXIHqW8etG8eteW/2zff8/Mn/fVH9s33/PzJ/wB9Uf2xT7B9cgepbx60bx615b/bN9/z8yf99Uf2zff8/Mn/AH1R/bFPsH1yB6lvHrRvHrXlv9s33/PzJ/31R/bN9/z8yf8AfVH9sU+wfXIHqW8etG8eteW/2zff8/Mn/fVH9s33/PzJ/wB9Uf2xT7B9cgepbx60bx615b/bN9/z8yf99Uf2zff8/Mn/AH1R/bFPsH1yB6lvHrRvHrXlv9s33/PzJ/31R/bN9/z8yf8AfVH9sU+wfXIHqW8etG8eteW/2zff8/Mn/fVH9s33/PzJ/wB9Uf2xT7B9cgepbx60bx615b/bN9/z8yf99Uf2zff8/Mn/AH1R/bFPsH1yB6lvHrRvHrXlv9s33/PzJ/31R/bN9/z8yf8AfVH9sU+wfXIHqW8etG8eteW/2zff8/Mn/fVH9s33/PzJ/wB9Uf2xT7B9cgepbx60bx615b/bN9/z8yf99Uf2zff8/Mn/AH1R/bFPsH1yB6lvHrRvHrXl7arqCnBuXzjP3qZ/bl7/AM/L/maP7Yp9g+uQPU949aN49a8s/ty9/wCfl/zNJ/bl7/z9SfmaP7Yp9g+uQPVN49aN49a8rGuXrHH2qT/vo046xfKm/wC0yben3qP7Xp9ifrsD1LePWjePWvLP7Yvj0uZP++jTm1a/jbabmQHr96j+2KfYPrkD1HePWjePWvLv7Yv/APn5k/76pP7Yv+n2mT1+9R/a9PsX9bgepbx60bx615ausX7dLmT/AL6pV1a/Y4FzJn/eo/tin2J+uQPUd49aN49a8tGsXzZIuZOOPvGkOs3y9bmT/vo0f2vT7C+uwPU949aN49a8t/tm+P8Ay8yf99Uf2xf/APPzJ/31R/bFPsUsZA9S3j1o3j1ry06zfDrcyf8AfRpv9t3p/wCXmT/vo0f2xT7A8ZBHqm8etG8eteWf2xff8/Mn/fRp39rX+0N9pkwePvUf2xT7E/XYHqO8etG8eteVtrd6rEG5kz/vGj+3L0/8vMn/AH0aP7Yp9g+uwPVN49aN49a8s/tm+P8Ay8yf99Gj+2L7/n5k/wC+jR/bFPsH12B6nvHrRvHrXlv9s33/AD8yf99Uf21fH/l5k/76NH9sU+xX1yB6lvHrRvHrXli61fMocXUm3/eNH9tXx/5eZP8Avo0f2xT7A8ZBHqe8etG8eteWf2xff8/Mn/fRoGtXzNtFzJn/AHjR/bFPsT9dgep7x60bx615Y2tXyqSbmQAdfmNL/bF9/wA/Mn/fRo/ten2D67A9S3j1o3j1ry3+2L//AJ+ZP++qT+2r7/n5k/M0f2xT7DWMgz1PePWjePWvLf7Zvv8An5f/AL6o/tq+/wCfl/8Avo0f2xT7FfW4HqW8etG8eteWf21ff8/Un5ml/tq+P/LzJ+Zo/tin2F9cgepbx60bx615edV1ALk3EmP96mf21fdPtMn5mj+2KfYX1yB6nvHrRvHrXlv9sX3/AD8v/wB9Uf2zff8APzJ/31R/bFPsP65A9S3j1o3j1ry3+2b7/n5k/wC+qcmrahI2FuXz/vUf2xT7B9cgeobx60bx615adYv1YqbmTI/2qX+2L/8A5+ZP++qP7Yp9g+uQPUd49aN49a8u/tbUP+fmT/vqkOsX463Mn/fVH9r0+wfXIHqW8etG8eteW/2xf4z9pf8A76pG1q+VdxuZMZx1NH9sU+wfXIHqe8etG8eteXrqmoOpIuJMD/apn9tXx6XTn/gVH9sU+wfXIHqe8etG8eteW/2zff8APzJ/31R/bN9/z8yf99Uf2xT7B9cgepbx60bx615b/bN9/wA/Mn/fVKusX3/PzJ+dH9r0+wfXInqO8etG8eteX/2xe/8APzJ+dH9sXv8Az8yfnT/ten2F9cj2PUN49aN49a8v/ti9/wCfmT86P7Yvf+fmT86P7Xp9g+uR7HqG8etG8eteX/2xe/8APzJ+dH9sXv8Az8yfnR/a9PsH1yPY9Q3j1o3j1ry/+2L3/n5k/Oj+2L3/AJ+ZPzo/ten2D65Hseobx60bx615f/bF7/z8yfnR/bF7/wA/Mn50f2vT7B9cj2PUN49aN49a8v8A7Yvf+fmT86P7Yvf+fmT86P7Xp9g+uR7HqG8etG8eteX/ANsXv/PzJ+dH9sXv/PzJ+dH9r0+wfXI9j1DePWjePWvL/wC2L3/n5k/Oj+2L3/n5k/Oj+16fYPrkex6hvHrRvHrXl/8AbF7/AM/Mn50f2xe/8/Mn50f2vT7B9cj2PUN49aN49a8v/ti9/wCfmT86P7Yvf+fmT86P7Xp9g+uR7HqG8etG8eteX/2xe/8APzJ+dH9sXv8Az8yfnR/a9PsH1yPY9Q3j1o3j1ry/+2L3/n5k/Oj+2L3/AJ+ZPzo/ten2D65Hseobx60bx615f/bF7/z8yfnR/bF7/wA/Mn50f2vT7B9cj2PUN49aN49a8v8A7Yvf+fmT86P7Yvf+fmT86P7Xp9g+uR7HqG8etG8eteX/ANsXv/PzJ+dH9sXv/PzJ+dH9r0+wfXI9j1DePWjePWvL/wC2L3/n5k/Oj+2L3/n5k/Oj+16fYPrkex6hvHrRvHrXl/8AbF7/AM/Mn50f2xe/8/Mn50f2vT7B9cj2PUN49aN49a8v/ti9/wCfmT86P7Yvf+fmT86P7Xp9g+uR7HqG8etG8eteX/2xe/8APzJ+dTWerXj3UYa4kIJ6ZpxzanJpJFRxcZOx6WDS1BBu8sE+gqZa9yL5lc7RaKKKoY1/ut9K/Hn/AIJ9/wDKSPxP/wBg/Uv/AENK/YZ/ut9K/Hn/AIJ9/wDKSPxP/wBg/Uv/AENKAPTP+C1H/IA8HfRv/QxX3l+zd/yQnwN/2B7T/wBEpXwb/wAFqP8AkAeDvo3/AKGK+8v2bv8AkhPgb/sD2n/olKAPSqKKKACiiigDM19f+JbKfavNK9N17/kFzfSvMuwr5PNv4iR5OMVpJhSNS0jV80eZdiUlLRQkUJzRzS0VXKISiloqShKOaWigBOaOaWigkTmjmlooATmilooGhOaOaWigGJzRzS0UCE5o5paKBiUc0tFAxOaOaWigkTmjmlooATmilooKE5o5paKCROaOaWigBOaKWigaE5o5paKAYnNHNLRTsI4T42fFaz+DXw7v/FlzbzXlvZsivFCRvbcccZr5Ab/grd4RX/mUNXP/AAKL/wCKr7H+L3wx0/4xeBb3wtqk8lvZ3RVmkiALDac96+Vm/wCCU/w7bP8AxPtTB9fJSvVwkcLy/wC0bnZR9l/y8Of/AOHuHhDy93/CIavn+7ui/wDiqT/h7j4Q/wChQ1f/AL6i/wDiq+Fv2pvhLp3wV+LWpeF9KuJbq1tWKrLMAGOD3Ar6w/Zd/wCCffg34z/BvQ/FWr6xfQXl6jM0UUSFVwzDgn6V7U8JgqdNVJLRnbKlQirs92+Cv/BRfw38aPHll4Ys/DWpWc10CVmnaMoMY64bPetj9pL9uvQf2dPH/wDwi1/oN/qE32eO4MtsUCYcEgckHPFL8If+CfXgz4OeNrXxLper31zdW6lVimjQKc49PpXxR/wVLfb+0gw/6htr/wCgmuGlQwlevy09jkhRp1Klo7H0B/w9q8IwtlfCOsFuw3Rf/FVreGv+Cr3gPVr4RX3hvV7Mt1ndoto/8erxT9jX9hfwj+0J8JJPE2uavfWd2L54NtvGjDaFU9/rXS/H7/gmLpXg7wVqfiDwjr17dy2EJlNrcRoocDsMc5rodHL1N0mnc39lh1Lk6n3v8LfjV4P+MWkf2h4Z1q3v0XAkjjY7oyex4rH/AGifjzpv7PPw8m8V6lp0+owRzxw+XblQ/wA7bQeSBX4+fsmfFLWPhL8ctA+y3Usdvc3a2d3CW+UozgNx68V+iH/BTWYXX7LMs6D5JbuzkH0Lg1yVMBCliYU2/dkRUoxjUjFbM2v2df2+fD/7QvjkeGtP8PX+n3DKXEtwUKgYJ7E+lfVAIbjoDX48f8EwVP8Aw0JFx/ywP/oLV+w6nmsMdhqdCtyQ0Ry4mmqc7RPmf9pr9tjQv2Z/FGnaNqmi6hqbXtu1wjWpQBQG24O4jmuu/Zn/AGldL/aW8Palq2laZdaZFZSpEyXRUltwJyNpPpXwZ/wVmbPxZ8K/9gyT/wBGmvbP+CTjf8Wu8Vf9fkP/AKC9ddXBUY4RVVubOhH2Kn1Oz+Of/BRLw58D/iFeeFL3w7qV9cW0aOZoGj2ncM9zXAf8PbvCW7B8I6wPfdF/8VXyP/wUHOf2mdc/694P/QTX0B+zD/wT58G/GH4Tad4n1TWL63urn70UUSFRwD1P1roeFwdGjGpVW5uqNKMFKXU7cf8ABXHwh38I6x/31F/8VXvX7MX7Xmk/tMS6iNK0a80tLI7XN0VO44B42k15Mf8AglT8Ov8AoOakP+2KV7V+zv8AsoeHP2cZNRbQ7+6vTesC32hFXbxjjH0rz67wHI/Zp3Maio293c9yBzVHxBqqaD4f1LVHVpFs7eS5ZV6kIpYge/FXVrA+JH/JOfFH/YLuv/RTV41Fc80mjhhFOSTPieP/AIK1eFZZGRPButSFe4MZ/wDZqlH/AAVi8Lqw3+CNd298CP8A+KrxX/glj4L0Txh8RPHUWtadDqUUOlwvGky5CkzYyK/SF/gX8P5VKP4VsCrdfkP+NfQYiODw8+Rwv8zvnGjCXLynj/wf/wCCgXw0+K2pRadJPL4av5mCRQakwzIx6Abc19NRSpPGkkbB42GVZehFfnn+3j+xp4Z8NeC5fH3gu1/sO9sW/f29vkJIDkl8kkgjHGPWvX/+CdHxmvvih8GvsOr3LXmpaRJ5TTNyxQkhAfoBXPWwlJ0VXpbGcqMLc0dj6d8SeI9N8JaLc6tq13HZWFuu6SaU4AFfGHxD/wCCovgzRNWuLDw1o19ryxMVF7DtMMo/vLyDj615V/wUG+NuqfEj4qaX8J/DssiWkUqfaJIGOZWc7Sreylc19TfAD9ifwN8J/CNrFfaVDquvyRj7Ve3C5Yn+6B0xn2q44fD4ekqlfVsv2cKcU5LU8e8G/wDBU7wxfavBZ+IvD+o6VBMwU3TbRHH7nnOK+z/Anj7QfiRoMOs+HNSh1TTpRlZoTkZ9K8y+L37Inw++K3he70650W3srxoysF9AmHhbswGcfnXwj+yl8QNd/Zb/AGk7r4ca5cTf2TeXH2b7O548xiBE3twc/jQ6GGxEJOho0JwhUjeK1P1e+VVJZgoHrXzr8dv25vh78Dbw6bcSNr+s5IaxsWG+L0LZxx9K9M+NHjCfwf8ACnxFrFuAZorKby8dmKNtb8DzX5r/APBP34R6P+0J8TPE3iPxqv8AbEtnGl0sM5JDyM5BJxWOFwtOVOVaq9ETSoxknKWx663/AAVYtZJvn8Gaj9lB+6FGcf8AfVfRHwF/ba+H3x2kjsrO4fRNYchU06/Yea59tuR+teoP8KPB1xp4sj4dsfse3aI/KHT69a/Ov9t/9mw/BXxponjL4Z2c+nvI3myQWYP7qTdwR14wO9aUo4TFXhFOL9S1TpTWisfqTj5cjnivlrwD+3hoPj/45XPwzg0LUIL+G5uLb7VKU8rMRIY8HODjivYvgJ4wvfHHwu0DVtQha3vJbcJKjdSygKSfqRX5j/s1t/xsN1X/ALCupf8AoT0sHhIVPa8+tthU6MbSb6H3X+0p+2Jo/wCzjrlnp9/4f1DV2uUDhrPbhc565PtXiw/4Kw+FxkjwPrm3ucR//FV9qeIfh94c8YTpNrOkW+ovGcKZlzxXE+OPgl4Ft/CertH4YsVIt2K4TpWVOWFjaFSGve5EJUrarU+Xo/8AgrV4TmYrH4M1p2H8KmMn/wBCp/8Aw9h8NtwvgjXQfUCP/wCKrwH/AIJ5eD9G8TftJa9Zarp0N9apbXZSKUZVcOAK/Tdfgd4EH/Mr2H/fuu3EQweHlyuF/mb1I0Iu1hfh/wDFe38efDBfGcNlcWtu1q10LebHmYVNxHpmvKf2cf21tE/aP8Yav4f07RL/AE6bToRO8t0UKspbbgYJ5zXtviLS7XRvh/rdnZQJbWsenXASKMYA/dNX5r/8EtP+S3eNf+wcn/o0VyYajTrU6k3HbYyjGnJNpbH1l+0h+2ppX7N/iiy0fWPDeo3/ANsgNxDPalApUNt7n1Br6D8H+JbLxp4Z07XNOkElpewrKhB6ZHIPuOlfJ/8AwUq+Fv8AwmnwXbxBbQbrzQ286SVRkiEBiR9Mmp/+CafxUHjj4Jf2DPJvutBl8ktnLMHLMM/TFFShT+rKtBarcjljKnzRR9f815z8evjbpHwD+H954o1aGS7WHAjtYSBJISQPlzx3zXpC9/oa/NL/AIKifEt9a8T+GvAFjKwuFdZ5lU8MJRtUH8RWGDw/1iorrQmnFSkk0fYX7M/7SVv+0l4d1HW7HQr7SrKzkMXnXRTDsADgYJ7GvGfif/wUw8NfDPx9q/hefwvq15cafL5TSwmPa5wDxls969q/ZP8Ahanwf+Bfh/R3iEeoyWyy3uP+euMH9AK/O+PSLHXP+Cik9he2sdxaS6xGrxPyCMJXZQoUKlapdXilobU6cJTaa0R9A/8AD2Tw1/0JOu/lH/8AFUH/AIKveHJPlHgrXM/SP/4qvrb/AIUX4F/6Fux/790qfA/wKrZ/4RqxP/bOp58EtHB/eTJ0k7KJJ8Hfibb/ABa8B2Hie1sZrGG8QOsE+N4yAecfWuH+PX7X3gb4AxNDq119u1fbuXTLVh5p/Pj9a9H8QCz8B+BdRk0+2W1gsrV2hiiGApCnFflp+x38P7f9qb9o7Xda8dyHVYrQNfSW8zErMwYLtPoMHt6VGFoUq3PUl8MegU6UZXk9ke2Xn/BVy3luGNv4L1J7XPyl0BYj3w1erfBX/gop8PviZqEGk6lFceFb+QhI/wC0SAsjei7c/rX0VY/CfwfpljHZ2nh+xS1QYVPJB/U18b/t/fsm6J/whZ8a+ENK+w6tYMXnitFIDoATn65xW9OOCrvkjG3zKUaUtErH3fbzR3UavFIsiMoZWU8EEdRUm018w/8ABP3x9rfjL4MLY+ILeZNR0aRbfzrgENIrbmB/AYFfT9eVVo+zqOK1Ry1I8r0Y3aaX7vWlprVlyroSLuo3UlFLkfcli7qN1JRS5WLXsLuo3U3mjn0o5Zdix26jdTefSlpWl2ELuo3UlFJc3YQu6jdSUU5KS6ALuo3UlFCUn0AXdRupKKT5r7ALuo3UlFVaVtgF3UbqSipXN2AXdRupKKclJdAF3UbqSihKT6ALuo3UlFJ819gF3UbqSiqtK2wC7qN1JRUrm7ALuo3UlFOSkugC7qN1JRQlJ9AF3UbqSik1K+wC7qnsW/0uL/eqvU9j/wAfkX+9XRRjLnjoaU/jR6pDzGn+6KkHFRw/6tPoKkFfo0L8qufSC0UUVYDX+630r8ef+Cff/KSPxP8A9g/Uv/Q0r9hn+630r8ef+Cff/KSPxP8A9g/Uv/Q0oA9M/wCC1H/IA8HfRv8A0MV95fs3f8kJ8Df9ge0/9EpXwb/wWo/5AHg76N/6GK+8v2bv+SE+Bv8AsD2n/olKAPSqKKKACiiigDN8Qf8AILm+leY7jivTvEH/ACC5vpXmFfJZt/FXoeTjN0Lk0UUV80edoFFFFUIKKKKACiiigYUUUUCCiiigAooooAKKKKACiiigAooooAKKKKACiiigYUUUUCCiiigAooooGFFFFAgooooAKKKKACiiigAooooATFBpaQ07sZ+KX/BQr/k5XX/+ujfzr9Hv+CfXP7LvhL/rk3/ox6/OH/goX/ycpr//AF0b+dfo9/wT5/5Nd8Jf9cn/APRj19Vjv9wh8j1MR/Biz6PNfkB/wVMH/GSTD/qG2v8A6Ca/X81+QH/BUz/k5Fv+wbbf+gmuLJ7e11MsG/ePoH/gnf8AHfwV8OfgVLpHiDXrPTb3+0JJfLllUHaVUZwT7V6X+0p+2x8NvDvwr1yy0PW01fWL63aG2jtgsq7z0LYJwOK/PH4JfsX+O/jr4NbxH4dggkshO0B8ydVO4AHoT715Z8Ufhjrnwg8a6h4X163a3vrSTYWx8r8DlW6Ec9RXs/VsPUrylF6o6+SEpvXU6/8AZr8Haj8Rvj14cgtIDNu1Fbqcr/BGHBY/hmv0l/4KZWY0/wDZYktg+4RXVmmfo4FW/wDgnn4D+H+n/B2z8S+HbNJNan+W8mmIkkRskYBIyoIHTvVf/gqBI7/syXZIHN/a9P8AroK86rX9tjYQt8LOWpN1MRGK6Hxv/wAEwv8Ak4SL/rgf/QWr9hfWvx3/AOCYswT9oiBSQC0JwD3+Vq/YnaME54HWuXNf94+QYz4z8n/+Csf/ACVrwr/2C5P/AEaa9w/4JOJ/xa7xV/1+Q/8AoL14j/wViwfi14Vwc40yT/0aa9z/AOCTaH/hVvin/r8hx/3y9elX/wBwj8jab/2c+Nv+ChC4/aY1z/r3g/8AQTXsH7O3/BRLS/gv8L9O8Kz6AbyS36zb2GeAOw9q8g/4KE/8nNa3/wBe8H/oJr6S/ZX/AGCfhv8AF74P6b4i1yLUJL6fmRobtkUcA9B9a6Knsfq1P22xTlCNKLmbi/8ABWTRWYD/AIRg9f8Ano3+Ffa3wn8exfFH4f6P4ohgNtFqEXmLEc8ckf0r5uh/4Je/BtZFK22qhs8Z1B6+nfAfgTT/AIaeD9L8N6WJFsbCMxxCVy7YJJ5J+tfPYxYblvQ3Oafs5K8DohXP/Ef/AJJz4o/7Bd1/6Kat9a5/4kf8k68Uf9gu6/8ARTVy4a3tI+pxQ+NH5pf8EmdVtNO+JXj03l1DaI2lQgNK4XP77tmv01k8XaDGjMdaswBz/rl/xr8WP2Qf2e9e/aD8UeINO0HxRL4Ym0+0SeSaLdmVS+3acMO/NfVf/Ds74hhfm+LN0R3yJD/7Ur3MdRoSrc06ln2PTqqnzas9F/4KBftK+FLH4P3XhXS9WtdT1XUWEbQ2siyBEwwYkg8HkcVF/wAEyfh5e+BvhDqWt6hE9v8A2pLvjSQEHahbB/EGq3w1/wCCYHhzw/rVvqfi/XJvFEsZ8zaN0YLD1BJyPavs+x0Ww0fR7fTbG1S2tIovKijjACrgYyQK5qlalTpqhSd77nN7SCXs4H5QfBG3/wCE1/4KI3hvgLiJNWvTtcZwBvKj8DX63sCpIblu9fkd8C77/hC/+CiV/wDbx5MT6rejcwxkHeAR9a/XFgF6Z2+rVnmnxwS2sVirqSDdt59K/KL9viz/AOEd/a48PatbL5U88sUxZe5UoBX6tOwZSM4r8qP29r5vFH7WnhjR7fH2iGaKEKOSC5QjNGVr96/QjCv32j9JZPDMPj34UQ6VfDzBqWlKrtnozw8H8Ca/LeHTviX/AME/fi5qN7aaTJfaBPhWkVS0M0IYlQXwQrd8V+r3hd10HwjpEWoXEVv5NnDGzysEAIQDGTUupaPofjbT5Iby1sdbsnypWRUmT9cjNZ0sV9XbjJXixU6vK3F7Hyz8K/8AgpR8NfHCQ22sSXGhao2AYmhJgH/bQkV9MeG/Enhb4jaf9p0+5sNfgYZ3xlJwnt3xXzx8WP8AgnH8MfHnnXOm202hapKCfNhmPkqf+uYwK+KvGvg34l/sA/ETSru01ue+0aRvMjCuwgmQN91kyRn610rD4evd0JWl2Ohxp1vhP19trGGziCW8SQRqOEjUKo/AV+Rv7Na/8bDNUz/0FdS/9Cev1L+EvxAg+KHw/wBJ8R25XF5CpYDs4A3D881+W37NvH/BQzVMf9BTUv8A0J6vAR5FWj1sZYW/vn67J8ufrWF49BPg/Vv+vZq2h3+tYfjs/wDFH6t/17NXjK0pK5w0/jPzC/4JpsT+1F4g/wCve8/9DFfq8Fr8nv8Agmnn/hqLxB/173n/AKGK/V5Sa780/jKx14r4zI8cceC9f/7B9x/6LavzK/4JZnPxw8a/9g5P/Ror9MvHRP8Awhevf9g+4/8ARTV+Zv8AwSvX/i93jX/sHp/6NFb4G3sKpVH4JH6X+NPCdp418J6joeoIJLHUIWhmX1U9a/L79j3xBefAT9rTUvB+pstrY3sk0Ih38F2YCL8cGv1eX7oGa/ML/goj4In+E/xx8LfEjTbcmOdxcTNGNoSSNlCD8cGs8C1Uc6D+0godUfpvqF9Hpun3V5M22K3ieZ29Aqkn+Vfk74L06b9qL9t+6vrj/StKsbxiX7LChYxn86+w/wBpH9oYaF+yPF4msrmJr3VrGC3CgjOZUCyfiN1eb/8ABLv4SnRPBOreNrxCbvVnNqokXnYhDBsn13VeGg8JRnKT8i4tRi2fdG1Y7dQigLt429Olfjx4s+ImjfC39vbU/EuutMmm2GqxyzmCPe4UKpOB3r9hp2KRhRwAD/KvyG1Dwjpvjj/goJeaRq0AubK71iOOSJujAqlGWRj+8lLaw6LWrZ9k/wDD0L4H/wDP3rn/AILG/wDiq0tA/wCCkXwZ8TaxZ6XZXWtG7u5kgi3acQNzEAZO7gZNdh/wxX8Jl4PhqP8AT/CrWl/se/CzSdQgvbXw8kVxbussbjHDA5Hb1FYVo4PdJ39TN+xuz1/WNNttY0W6sZ23JcwtG3f7wI6V+SvizwH8Rf2D/jLdeI/D9nNqGgzEsJ0QtHJDuztcgEIciv1vlkhtbdppnSGNB80jkKB9Sazbqy0XxhZSwTxWOtWh+R4nCTR/QjkZrHD4r6re6unuFOooO3Q+Q/hb/wAFQvh9r2nxQ+K7a70TUTgMtvCZYwcgH5iR65r6i8H/ABY8E/FixVtD1ex1eJxzb7kd/wDgSZP614r8Sv8Agnv8KvH1094dLm0y8bPFlMYo1yP7qgDrivi746fsq+Of2OJ4fGXhDxBcTaLHNuLQuybMDOHG75hx3r0I4fC13+6fLJl/u63uxdj9ZrDTrPS1ZLS1gtVY5YQRqgJ98CrdeD/se/Hr/hoH4WwardkDVrMrDeBVwu7nH5gV7xXiVqcqM/Zvc4pKzswpGpaRqzaSRIlFFFSIKKKKd2AUUUUczAKKKKLsAoooouwCiiii7AKKKKLsAoooouwCiiii7AKKKKLsAoooouwCiiii7AKKKKLsAoooouwCiiii7AKKKKLsAoooouwCiiii7AKnsf8Aj7i/3qgqex/4+4v96tKMn7SJpT+NHqsPMSfSpKihP7tPoKkr9Jj8KPpBaKKKoBr/AHW+lfjz/wAE+/8AlJH4n/7B+pf+hpX7DP8Adb6V+PP/AAT7/wCUkfif/sH6l/6GlAHpn/Baj/kAeDvo3/oYr7y/Zu/5IT4G/wCwPaf+iUr4N/4LUf8AIA8HfRv/AEMV95fs3f8AJCfA3/YHtP8A0SlAHpVFFFABRRRQBm+IP+QXN9K8wr0/xB/yC5vpXmHavks2/ir0PKxm6Fooor5k8uwUUUVVyrMKKKKLhZhRRRRcLMKKKKLhZhRRRRcLMKKKKLhZhRRRRcLMKKKKLhZhRRRRcLMKKKKLhZhRRRRcLMKKKKLhZhRRRRcLMKKKKLhZhRRRRcLMKKKKLhZhRRRRcLMKKKKLhZhRRRRcLMKRiFHNLSMu4YIz9aaY7M/FT/goapH7SniD/rq386/Rv/gnzx+y74SH/TJ//Rj1yHxy/wCCeeifGz4iaj4qvNevLGe7Yt5UO3aM/Va+gPgX8I7T4I/DfS/CdldS3kFipUTTY3Nliew96+gxWKp1MJGnF6nfWqRlSUUzv6/IL/gqUpb9pBv+wZbf+gmv1+r5T/aP/YR0n9or4hN4o1HW7qwlNvHbiO324wgIHUH1riy2tCjVUpuyMcPJQldmT/wS3AX9nN93T+1JT/44lcf/AMFPvgU3irwfa+O9Mtg97pYK3RVefJ5JY/iRX07+zr8BLD9nvwD/AMIzp99Pfx/aGuDLPjOSAMcAeld74q8L2PjLw7f6LqcK3FjexGKaNhkFTTWKVPFSqRejY3Vcat1sfk3/AME5v2hJPhn8Tl8KatcFdB1pwnlscYuOFQ/Tk1+hX7Y3wpn+M3wH1nQ7Bd9wu28i2H73l5cAfXFfPq/8ErdDg1w6nZ+K9QtJlnM0ZjKgoc5GPl7V9waDor6PoWn6fJMbp7WCOEzyfefaoGT7nFdWLr0faKtRfvGs5xUlOJ+EfwW+Imqfs3/F6y124sJRc6bIyXFq3ysQQVI5+pr9LrL/AIKdfC+88OrevDcW928eX0+RsuD6E7cV13x8/YM8AfHLVJdXlE2i6tIPnnsgo8w/7WQa+dZv+CSS/bj5firNnngN9/H/AHziuyWIweKSnVdmVKdKt8e58h/tP/Hm8/aT+J0msQWMkFtGDBZWv3pAhOcHHU5z0r9Qv+Cf3wjvvhL8ELZNWga11PUv9Ilgbqo525+oIrO+Av8AwT38AfBvVbfWboSeIdWhIeN7wKVhcdGTAH619VR7YYlRBsAG0AdMVyYzHU6kFRpbImvVi4qED8Sv+Cg//JzOt/8AXvB/6Ca+iP2W/wDgoB4K+Dvwh07w3qtjdSXtt1aOQBW4A6Y9q9q+Ov8AwTv0L43fES98VXeu3dlNcoiGGLbtG0YzyK8/P/BJbw1tA/4Si/8A/Hf/AImu76xhKlGEKktjXnpSpxjLodkn/BVD4aswB0m9wev71f8ACvY/gD+1V4a/aMnvxoFvcQfYjtfz3DZ4z2FfNR/4JLeG8f8AI0X/AP47/wDE179+y9+yLpX7NP8AabWGqXGoyXzBj52OPlx2ArirfUvZvkd2ZT9mo2gfQS1z/wARmB+HnilR1/su6/8ARTV0NUdd0tdc0PUtOdyiXlrLbMw7B0Kk/rXi0ZqNRPZXOCOkkfmT/wAEi2C/Ezx/76TDj/v9X6iivm79lf8AY10v9mLxFrmqWGr3Optqlqlsyz4+UK+7PAFfSNdeYVYVq/PB3VjorSUptodSFRvDFuAOlG6kb5uleYvMwbtsfmP/AMFCPg1q/wAN/i1pvxU8NxSGxlaPzRbqd0ciHczEjs27FfWv7O37YnhL40+DLKS61G307XggS6tLlwuH7kE8Yr23xL4X0zxfo11pWr2cV7ZXCFHjkGRzXxP4/wD+CWPhnVb6W78M67d6V5jbjbOQIk9lwM4r3adehiaap13ZrqdilGpFKR9HfGD9prwL8H/D95falrdrPdRxlobO3kDtK3ZQRkD8a+Av2YPA3iP9qv8AabuPiTrNrIdHsrn7R9pYYUOhBiUZ68L29K9d8Hf8Ep9It9Sim8S+J7q9tkO4wW5BD+x3L0r7a+Hvw70H4X+HLbQvDunw6dp1uuFjhXGT3J9yf51cq2HwtNxoO7fUd4U4vk3POf2wvAutePPgXrNj4buJbLVodlzHJESGKxncyjHqBivk79gn9rey8Dw6h4D+I1/LYXXntLb3V9uJLsQCnTjAHf1r9Hvlbhs7fTsa+bfjp+wn8P8A416pNqzpLoWqSDLz6eFBkb1bINcuHxFKcHRrLTuYwafuzPcv+E88NSW32qPXtPNuRkN9qQcfTNfnF/wUj+P3hz4oXGjeDPDE66zd2sm6aW3UkowJ+Qcc5BzxXSXX/BKKd9QYxeMZBZbvlDOd4H/fOK90+Bf/AAT8+H/wg1SHWbxZPEWsQuJIpr4KwiYd1wBXTSlhcL+8jNyZ0JU6WsWej/sq+C774dfAfwxpGoxqLtYTO20YOH+YD8jX5x/s2lm/4KFaoQjH/iaal3/2nr9eNihlwMKo2hR0xXy58Pf2F9H8AfHi4+Jdvrl5NdzXNzcG1bbsBlzx07ZrLC4qCdWU3bmRnRko81z6gjyQcrt571jePGB8H6vz0tmrc9Cevf61Q1zSU1nR7yxJ8sXClWZevNeSpe8jjhpK5+Wf/BNNCP2otf8AQ214f/Igr9XMGvmT9nf9ifSfgD8StQ8XWesXV9PdxyxmGXG0ByCegHpX05ur0MdVhWqc0Wb13zSujD8bxs/gzX8D/mH3H/opq/M3/gliwX41eNWPQacmf+/or9Qta09Na0XUNPdii3VvJAWHUblK5/WvnP8AZp/Ys0r9nXxhq+vWesXN9JqFstu0UmNvDhs8AVWFrQp0qkZPV7FUpKMWmfSYr5+/bi+FY+KHwD1qCKLzbuw/06Mj737sMcD619BeWF4Xgdqr6lpsOq2FxZ3May286GORG6MpGCK5KVVUaimjOD5WfhbH8RNe+J3hfwV8LLhZZFsdSdC+eW82VQF/4Div2p+EPge3+HPw40Dw7BGY2sbSOKUHu4UAn9K+efhz/wAE8fC3gP4uHxqdSuLwLcS3EdjIF8tWZiw7dj0+lfXkkm/ooAzmu/MMXCtyxpbbm1aSk7R2Klyp2njsf5V+S9jq1lov/BRKa+vrhLe1i1mJnlkOFUbVr9ctxC4AGG4bPpivij4o/wDBNbQ/iR8QNW8Tv4hvLOXUJfNeKMrhTgDj5faoy+rCnKSqOyaClKMb3PqX/hc3go5x4ksP+/wpn/C5PBf/AEMdh/3+Wvjb/h0/4fP/ADNup/8AfS//ABNLH/wSh0CNgR4t1P8A76X/AOJrZ0sFJ83tA9nS3TPqz41aZN8Vfgj4l0/wvqe26urb9xdW7dCpDcEew/Wvhb9h79qCT4P+Jte8E/Ee7nszcT+ZHc32SVk+Vdv0wM19+/A/4V23wX8B2Xhm3u5b+G1+7LMQWPAHP5V538fv2L/Avx4up9Qu4DpWryZ/060UCRvqTmsKNajaVCp8L2YouPwvY9e0/wAfeHNSsY7u313T3hkG5W+0oP0Jr5F/4KEftI+EIfhHqfgzT9Rt9V1jUVMDQwHd5Skfez06j9a4S7/4JRzrdOLPxlKtrn5Vkc7v0Wu/+GH/AATB8FeFtSh1DxHfz+IJI3DG2mwYm9jwDXVT+qUJqoqjdjaMaVPWLLn/AAS/8C6n4P8Agzq99qNtJCur3cc0AkGDtVWUnFfZi9aqaXpdpo2nwWNlAtta26hI4oxhVA6VaH3q8nE1vbVXU7nBP95U5mPpGo3UhrFyQrMKKKKi4rMKKKKLjsFFFFFxWYUUUUXCzCiiii4WYUUUUXCzCiiii4WYUUUUXCzCiiii4WYUUUUXCzCiiii4WYUUUUXCzCiiii4WYUUUUXCzCiiii4WYUUUUXCzCiiii4WYUUUUXCzCprL/j7i/3qhqay/4+4v8AerSj/Ej6l00+ZHqkP+qT/dFSZqOH/VJ/uin1+lx+FH0I4UtIvSlqixr/AHW+lfjz/wAE+/8AlJH4n/7B+pf+hpX7DP8Adb6V+PP/AAT7/wCUkfif/sH6l/6GlAHpn/Baj/kAeDvo3/oYr7y/Zu/5IT4G/wCwPaf+iUr4N/4LUf8AIA8HfRv/AEMV95fs3f8AJCfA3/YHtP8A0SlAHpVFFFABRRRQBm69zpkwPpXmWw46MK1v2hNP1/VvhTrlr4XcJrjRf6OS23B+tfk+3wn/AGuVOP7Qj/8AAz/61fPZhh/a1FJyS9Tz8RH2jSufqVtPoaNp9DX5af8ACp/2uP8AoIR/+Bf/ANaj/hU/7XH/AEEI/wDwL/8ArV5f1KH/AD8j95x/V/7yP1L2H0NGw+9flp/wqf8Aa4/6CEf/AIF//Wo/4VP+1x/0EI//AAL/APrUfUof8/I/eHsP7yP1L2H3o2H3r8tP+FT/ALXH/QQj/wDAv/61H/Cp/wBrj/oIR/8AgX/9aj6lD/n5H7w9h/eR+pew+9Gw+9flp/wqf9rj/oIR/wDgX/8AWo/4VP8Atcf9BCP/AMC//rUfUof8/I/eHsP7yP1L2H3o2H3r8tP+FT/tcf8AQQj/APAv/wCtR/wqf9rj/oIR/wDgX/8AWo+pQ/5+R+8PYf3kfqXsPvRsPvX5af8ACp/2uP8AoIR/+Bf/ANaj/hU/7XH/AEEI/wDwL/8ArUfUof8APyP3h7D+8j9S9h96Nh96/LT/AIVP+1x/0EI//Av/AOtR/wAKn/a4/wCghH/4F/8A1qPqUP8An5H7w9h/eR+pew+9Gw+9flp/wqf9rj/oIR/+Bf8A9aj/AIVP+1x/0EI//Av/AOtR9Sh/z8j94ew/vI/UvYfejYfevy0/4VP+1x/0EI//AAL/APrUf8Kn/a4/6CEf/gX/APWo+pQ/5+R+8PYf3kfqXsPvRsPvX5af8Kn/AGuP+ghH/wCBf/1qP+FT/tcf9BCP/wAC/wD61H1KH/PyP3h7D+8j9S9h96Nh96/LT/hU/wC1x/0EI/8AwL/+tR/wqf8Aa4/6CEf/AIF//Wo+pQ/5+R+8PYf3kfqXsPvRsPvX5af8Kn/a4/6CEf8A4F//AFqP+FT/ALXH/QQj/wDAv/61H1KH/PyP3h7D+8j9S9h96Nh96/LT/hU/7XH/AEEI/wDwL/8ArUf8Kn/a4/6CEf8A4F//AFqPqUP+fkfvD2H95H6l7D70bD71+Wn/AAqf9rj/AKCEf/gX/wDWo/4VP+1x/wBBCP8A8C//AK1H1KH/AD8j94ew/vI/UvYfejYfevy0/wCFT/tcf9BCP/wL/wDrUf8ACp/2uP8AoIR/+Bf/ANaj6lD/AJ+R+8PYf3kfqXsPvRsPvX5af8Kn/a4/6CEf/gX/APWo/wCFT/tcf9BCP/wL/wDrUfUof8/I/eHsP7yP1L2H3o2H3r8tP+FT/tcf9BCP/wAC/wD61H/Cp/2uP+ghH/4F/wD1qPqUP+fkfvD2H95H6l7D70bD71+Wn/Cp/wBrj/oIR/8AgX/9aj/hU/7XH/QQj/8AAv8A+tR9Sh/z8j94ew/vI/UvYfejYfevy0/4VP8Atcf9BCP/AMC//rUf8Kn/AGuP+ghH/wCBf/1qPqUP+fkfvD2H95H6l7D70bD71+Wn/Cp/2uP+ghH/AOBf/wBaj/hU/wC1x/0EI/8AwL/+tR9Sh/z8j94ew/vI/UvYfejYfevy0/4VP+1x/wBBCP8A8C//AK1H/Cp/2uP+ghH/AOBf/wBaj6lD/n5H7w9h/eR+pew+9Gw+hr8tP+FT/tcf9BCP/wAC/wD61H/Cp/2uP+ghH/4F/wD1qPqUP+fkfvD2H95H6l7D70bD6Gvy0/4VP+1x/wBBCP8A8C//AK1H/Cp/2uP+ghH/AOBf/wBaj6lD/n5H7x+w/vI/UvYfQ0bD71+Wn/Cp/wBrj/oIR/8AgX/9aj/hU/7XH/QQj/8AAv8A+tR9Sh/z8j94vYf3kfqVyvak3t/d/Svy2/4VL+1wf+X+P/wL/wDrUf8ACpf2uP8An/j/APAz/wCtS+pQ/wCfkfvD2H95H6k72/u/pRuY8Y/Svy2/4VL+1x/z/wAf/gZ/9aj/AIVL+1x/z/x/+Bn/ANaj6lD/AJ+L7w9h/eR+pO1vQ/lRtb0P5V+W3/Cp/wBrj/oIR/8AgX/9aj/hU/7XH/QQj/8AAv8A+tR9Sh/z8j94ew/vI/Una3ofyo2t6H8q/Lb/AIVP+1x/0EI//Av/AOtR/wAKn/a4/wCghH/4F/8A1qPqUP8An5H7w9h/eR+pO1vQ/lRtb0Nflt/wqf8Aa4/6CEf/AIF//Wo/4VP+1x/0EI//AAL/APrUfUof8/I/eP2P95H6lYb0P5UYPoa/LX/hU/7XH/QQj/8AAv8A+tR/wqf9rj/oIR/+Bf8A9aj6lD/n5H7xew/vI/UrDelJtb0P5V+W3/Cp/wBrj/oIR/8AgX/9aj/hU/7XH/QQj/8AAv8A+tR9Sh/z8j94ew/vI/Una3ofyo2t6H8q/Lb/AIVP+1x/0EI//Av/AOtR/wAKn/a4/wCghH/4F/8A1qPqUP8An5H7w9h/eR+pO1vQ/lRhvQ1+W3/Cp/2uP+ghH/4F/wD1qP8AhU/7XH/QQj/8C/8A61NYGL/5eL7w9jb7SP1J2t6H8qNreh/Kvy6t/g3+17cfMuoR7f8Ar7/+tU0nwX/a9jXIvo2P/X3/APWrRZbfaaL+rS7n6fncOx/KkyfQ/lX5ef8ACm/2vj/y9p/4F/8A1qX/AIU1+17/AM/af+Bf/wBaq/sx/wAyF9Wl3P1CyfQ/lRk+h/Kvy9/4Uz+19/z9p/4Gf/Wo/wCFM/tff8/af+Bn/wBaj+zH/Mg+rS7n6hZPofyoyfQ/lX5e/wDCmf2vv+ftP/Az/wCtR/wpn9r7/n7T/wADP/rUf2Y/5kP6tLufqFk+hoyfQ/lX5e/8KZ/a+/5+0/8AAz/61H/Cmf2vv+ftP/Az/wCtR/Zb/mQvq0u5+oWW9DRk+h/Kvy9/4Uz+19/z9p/4Gf8A1qP+FM/tff8AP2n/AIGf/Wo/st/zIf1aXc/ULJ9D+VGT6H8q/L3/AIUz+19/z9p/4Gf/AFqP+FM/tff8/af+Bn/1qP7Mf8yF9Wl3P1CyfQ/lRk+h/Kvy9/4Uz+19/wA/af8AgZ/9aj/hTP7X3/P2n/gZ/wDWo/sx/wAyD6tLufqFk+h/KjJ9D+Vfl7/wpn9r7/n7T/wM/wDrUf8ACmf2vv8An7T/AMDP/rUf2Y/5kH1aXc/ULLeh/KjJ9D+Vfl7/AMKZ/a+/5+0/8DP/AK1H/Cmf2vv+ftP/AAM/+tR/Zj/mQfVpdz9Qsn0P5UZPofyr8vf+FM/tff8AP2n/AIGf/Wo/4Uz+19/z9p/4Gf8A1qP7Mf8AMg+rS7n6hZb0NGT6H8q/L3/hTP7X3/P2n/gZ/wDWo/4Uz+19/wA/af8AgZ/9aj+zH/Mh/Vpdz9Qsn0P5Uc+h/Kvy9/4Uz+19/wA/af8AgZ/9aj/hTP7X3/P2n/gZ/wDWo/sx/wAyD6tLufqF83ofyoyfQ/lX5e/8KZ/a+/5+0/8AAz/61H/Cmf2vv+ftP/Az/wCtR/Zj/mQvq0u5+oWT6H8qMn0P5V+Xv/Cmf2vv+ftP/Az/AOtR/wAKZ/a+/wCftP8AwM/+tR/Zj/mQfVpdz9Qsn0P5UZPofyr8vf8AhTP7X3/P2n/gZ/8AWo/4Uz+19/z9p/4Gf/Wo/sx/zIPq0u5+oWT6H8qMn0P5V+Xv/Cmf2vv+ftP/AAM/+tR/wpn9r7/n7T/wM/8ArUf2Y/5kH1aXc/ULJ9D+VGT6H8q/L3/hTP7X3/P2n/gZ/wDWo/4Uz+19/wA/af8AgZ/9aj+zH/Mg+rS7n6hZPofyoyfQ/lX5e/8ACmf2vv8An7T/AMDP/rUf8KZ/a+/5+0/8DP8A61H9mP8AmQfVpdz9Qsn0P5UZPofyr8vf+FM/tff8/af+Bn/1qP8AhTP7X3/P2n/gZ/8AWo/sx/zIPq0u5+oWT6H8qMn0P5V+Xv8Awpn9r7/n7T/wM/8ArUf8KZ/a+/5+0/8AAz/61H9mP+ZB9Wl3P1CyfQ/lRk+h/Kvy9/4Uz+19/wA/af8AgZ/9aj/hTP7X3/P2n/gZ/wDWo/sx/wAyD6tLufqFk+h/KjJ9D+Vfl7/wpn9r7/n7T/wM/wDrUf8ACmf2vv8An7T/AMDP/rUf2Y/5kH1aXc/ULJ9D+VGT6H8q/L3/AIUz+19/z9p/4Gf/AFqP+FM/tff8/af+Bn/1qP7Mf8yD6tLufqFk+h/KjJ9D+Vfl7/wpn9r7/n7T/wADP/rUf8KZ/a+/5+0/8DP/AK1H9mP+ZB9Wl3P1CyfQ/lRk+h/Kvy9/4Uz+19/z9p/4Gf8A1qP+FM/tff8AP2n/AIGf/Wo/sx/zIPq0u5+oWT6H8qMn0P5V+Xv/AApn9r7/AJ+0/wDAz/61H/Cmf2vv+ftP/Az/AOtR/Zj/AJkH1aXc/ULJ9D+VGT6H8q/L3/hTP7X3/P2n/gZ/9aj/AIUz+19/z9p/4Gf/AFqP7Mf8yD6tLufqFk+h/KjJ9D+Vfl7/AMKZ/a+/5+0/8DP/AK1H/Cmf2vv+ftP/AAM/+tR/Zj/mQfVpdz9Qsn0P5UZPofyr8vf+FM/tff8AP2n/AIGf/Wo/4Uz+19/z9p/4Gf8A1qP7Mf8AMg+rS7n6hZPofyoyfQ/lX5e/8KZ/a+/5+0/8DP8A61H/AApn9r7/AJ+0/wDAz/61H9mP+ZB9Wl3P1CyfQ/lRk+h/Kvy9/wCFM/tff8/af+Bn/wBaj/hTP7X3/P2n/gZ/9aj+zH/Mg+rS7n6hZPofyoyfQ/lX5e/8KZ/a+/5+0/8AAz/61H/Cmf2vv+ftP/Az/wCtR/Zj/mQfVpdz9Qsn0P5VPYttu4i3A3ck1+W3/Cmf2vv+ftP/AAM/+tXQ/D34P/tXweNtGk1O6jOnrcKZs3eRt79quGWuMk+ZFxw8lJO5+v0X+qTHTAp4FU9JWSHSrOOb/XLCgf8A3sDP61dWvqo6JI9UKWiiqKGv91vpX48/8E+/+Ukfif8A7B+pf+hpX7DP91vpX48/8E+/+Ukfif8A7B+pf+hpQB6Z/wAFqP8AkAeDvo3/AKGK+8v2bv8AkhPgb/sD2n/olK+Df+C1H/IA8HfRv/QxX3l+zd/yQnwN/wBge0/9EpQB6VRRRQAUUUUAZmu4FjMRwcda8yNem69/yD5fpXmVfJZxJ+0UfI8nGRSkmhPwo/Clor5255on4UfhS0UXAT8KPwpaKLgJ+VGM9qpa4zro960ZKyiJihXrnHFfjF44+NHx/s/GOvQ2XinxYlpHf3CQrHJJsCCRgAOOmMV6OFwv1i95Wsb0qXtOp+1e0+lG0+lfhRq37R/x40GKOTUPHHiiySQlUaa4ddxHUDNN0n9pL4769v8A7P8AHXii82ct5Nw7Y/KvT/siy5nPQ6/qT7n7s7T6UmPavxE0n43ftDPqECyeKvFzKXGQZJMH9K+4/wBvb4neLvh/8B/Cuo6Fr9/oupTxWpnmtpSkjMVG7cfrXJPL+WpGmpXuZPCtSUbn2x+FH5V+EWl/tL/HDXJjFp/jvxPeSLyVhuXYj8q0x+0D8f8ARphcXHirxWUXqJnk2/jxXX/ZHLo56mn1Po5H7ldegzR+Fflf+zj/AMFL/Evh3xBZaR492alpE0gR70g+bH/tMSTkfQV+jfxE8Sb/AIS63rel3RjJ057iCeFuVyuQQfWvKrYSpQmoy6mEsPKDV2drj2o/CvxM8D/tPfFjUvi9othP8QNdks5dbigeCS7Yo0ZmAKkemOK/ayxkL2sOSS+wbj68Vpi8G8Ly63uKrR9n1J++OM0flXyv/wAFD/HPiD4efB+z1Tw3rV3ol81yyGezkKORt6ZFfL//AATz+PHxA8efGuXTvEXi3Vtcsfspk+zXlwXXO5RnB70UsG6lCVa+wQo88Oe5+pH4UbT6V8A/8FP/AIveMvhjrXgweE/EmoeH47yzmaZLGYxh2EigE47gV8SaT+0l8dtcWQ6f468UXnl43+TcO23PTOK66GWOrTVRytc1p4bnjzXP3Zx7UH5eoxX4bf8AC9P2if8AobPGH/fyT/Cvc/2M/il8ZPE3x68NWPinX/El9pMk+J4b53MRXa33silUy1U4uXtL2CWF5VfmP1W/Cj8KkOAT2pGxivESd7HFbVjBz0waPyr8jPi98Wfi7rf7Smq+EPC3jrWtPWS6eOC3iumCL8xGAK9JP7PX7Wi8/wDCxNYY4xxdN/jXtf2fHlTdS1zq9gkk3I/SncOnGaUjHUYr8rfE2oftT/s3keINY1HUte0q3Pzy3cpli49V3Zr7S/ZK/amsf2jvDLyuotdcsQI7q1c8k4zuUelcdfBzox54vmXkT7HS6eh9Abfams6opZiqqOSSeBXI/FD4nab8IfBuo+IdYlVLW3jJAJxvfB2oPcnivza1D9oD48fteeKrqz+H6XWi6IrbN9ifL2pkj523YJx6U6GDnWXPeyCnR5766H6mQ6pZ3DBIrq3lb+6kik/pVntnHFfl9qX7Kv7TXgi0TVNK8Y32o3UZ3/Z7eZlfgepOK739lP8Abo8Rw+PIfhz8VYhBqJkFtBdSqVO/+65JOT15raWAunKlLmSHKg7Xg7n6CfhSEgdcClVhIquDuVgGB9jXwZ+2D+2lr2k+Oovh38NovtOtuUjku4xk72wAqcjBBODmuPD4eeIbUehjCm5ux91zajaW77JbmCJ/7ryAH9amjkSVQyMrr6qcivzO079k39pfxzbDV9X8e3el3jfMba6ld2X2ypxXPap8QP2hf2O9dsLzxXqF94h8MvP5PnXLl45MAkgDdxxzzXof2epK1OonLsdTw8baS1P1T9aWvPPgf8ZNH+OfgGx8TaQ20TIPPgLAtC/Pyn8s18TftufGbxx4L/aN8NaToXirUtJ02aSMS2ttOURslOo/E1yUMK6tV05O1jGNHmk4tn6OfhR+FeDfHjw98QfHHwT0uHwHrF1pniCaG3ka6t5CrnhS2TnvzXyZ/wAM+/tbMwx8Q9ZH/b03/wAVWtLC0535qlghTjLeR+lnvjij8K/FvxL8Qv2gPCvxUHw+ufiNr39tNc/ZtovGxux9a92t/wBn39rS4hSRfiPrG1gGA+1N359a6p5bCmryqJHR9WitXI/S78qPyr55/ZC+H/xR8D6Tr8XxN8QXevXNxJGbRrqQuUUBtwGT3yK+RviB8dPH1h+2dH4etPFerW+hm6jRrBbg+Tt3kY21x08Iqk5RjLRHPGlzSaT2P0/7ZxxRXgf7bkHim1+B+qax4Q1290S/0hfPP2ByjzAkLjj0zmvKv+Cbnx61n4oeE9b0fxPq1xq2s2U+6Oa6k3OYdoyTn3NR9V/dOqnsKNK8ea59pr9KWha4P45eP7f4afDDX9dnn+ym3tJVilBwRMUPl/8Aj2K44RdSSjEzjHmklc7zjpQV6jHNfnB/wTy8efEn4yfFDWNc8Q+LtXvdC09PNFpNOzQyM5ZSuPbip/8AgpD8ZPHfgH4j6DZeFfFWpeH4ri2Vmjs5yisxZhnAr0fqf+0fV1LU6PYe/wAlz9Ffwo/CvzD0X4I/tY69pNpf2/xF1owXMYlX/Sm7/jV4fs9/tar1+Imtf+Bbf41u8DRWntVcv6vFfaP0u98UHjrxXzb+x94A+K3giLXh8TvEN9rpnEf2X7ZKX2YJ3YyfpXA/tsftp3fwq1KHwR4IRbvxPcKokmYbvKDcKFxghsg1xwwkqlT2dN3OeNPmlyxZ9kXGoWtqQJ7iGEnoJJAv86limjmTfG6SJ/eUgivzK8O/sxftM/Fixi1XW/HF7ojzfvEt7qV2Kk9htPFY3ibUP2kP2QbqLV9V1u78RaBFIEZrh2kt89fu7s9jXQ8AvhjUTl2NpYdJaS1P1QBDdMGl/CvJP2afj1pn7QXw+g12yCw3cfyXdsDzG/Qn6EgkV64eK8upCVOTjLdHM4NbifhR+FLRWdyBPwo/CloouAn4UY3ZA5NLXmnxy+P3h79n3Q7LV/ECyfZryYwI0ZwdwXdz+VaU4ynJRiVGN3oewaP/AKoir/FfG3hz/gpp8Kr67is8TpJM2wfN/wDWr7AsbxNSsra7i5iniWVD/ssAR+hr6qjB04JSR6ai7ItUUi0tbWQahRRRRoGoUYPpQfu8fpX5Gf8ABQz9of4lfDz9pLUdI8NeN9a0XTEsLZ1tLO6KRhiDk496unBVNjSMXLqfrnzS4PpX4Hab+0V+0RrNsLmy8beLruAnAkjnkZfzAq5/wvb9pP8A6Gzxl/38l/wrb2CW7L9k+5+8e4etLXwx/wAEx/HHxB8Z+HvGB8f6jrGqXEN5Ets2qsxKoYySF3ds11H/AAUi/aE1H4L/AAjt7Lw5qsmleI9SnU280DFZAisN+COnBqPZrm5SOV3sfX5BHUYor8M/gd+258UdC+K3h661/wAba1rmktcJDPZXV0WjbeQuSD6Zz+FfuJp99b6lZw3dq4kgmUOjqcgg96KlNUyp03BXuWKKr6xdNDpczxDbIkZwfWvwl1H9qz4vx/Em9tF+I3iBbddUljEP2xtoUSkBcemKmnTVRXM4Rcj94QQaWud+Ht1LfeBvDt1cStPcT6bbSySsclmMSlifck10eDWdohZiUjMEXcx2j1Nc38SPHenfDPwPrHibU5FistNgM8rE4OMgcfiRX4+/G/8A4KIfEv4s65c2Phq/uvD+mtIY7WHTyVmdfcg8k1rGi5bDUWz9nRq1i0nli8tzJ/d81c/lmrKsG6HP0r8G59S/aKsIDrL3vieNQu/7R5rZxjOfWvWf2Z/+Cj/jn4d+JrLSPHFzN4h0OSXyp5Lkk3MeTjO5j0B5Ix2rWWHSVy/ZvufsZkbsZ59KK4vWvFln4h+F974j0O83xXGnvdWt3E3OChKkelfhncftafGiS/khi+JXiJj5jBVF43qeBWVKmqlwVNu+p/QBRX4M/wDC9f2jmAZfFvjIqRkHzJf8KUfHT9o//obPGX/fyX/CtPYLuHs9Nz95aK+WP+Cenirxj4q+Dstz4zvtS1DU/OAEupMS+35s9fwr6nrmaSM2mgorwb9uDxdrXgj9mvxTq/h/UbjStVgEXlXlq+ySPMgBwfcV+cXwEj/ab/aI0e61Pw78Sdea2tpjHIzXjcNge/uK2jTi1dmip6XbP2WPy9eKTcB1Nfl9efs6fthLGZF+JGuTuvSP7W2T/wCPVk+A/wBtz4t/s8+P7Xwr8YLGa5sd4SSW6+aULkfPuyQRg54p+yjb3WJw7M/Vj0orI8LeJLHxVoenavYyCWyvYUmidTnCsAR+hr5c/ba/betf2f4V8OeGfK1LxjdjCpjcsCnozDvnkDB61DprSxPKz60uL23swDPPFAD08xwv86dDcxXK7oZUlX1RgR+lfk74W+Df7U37RVj/AMJHf+LNS0HT7s+bbQ3ErbCp7qobIH1qh4kl/aj/AGPbpdc1DVL/AF7QA3zS3DmS2z7puz0FaqjBrcrk8z9dc8Z7UV4Z+yn+1Bon7S3gUahaD7Fq9rtS9sWYblfB+bjscE16X8TPiJpfwr8Gaj4k1mRYrOzjLHccbmxwo9yeK5Z2jLlsTys6d3WNSzsFUdWY4FVodUsriQJFdwSOTgKkqk/zr8orr46ftAftreOdQs/h1NfeH/DdtIcyWUnliOInA8w7vmPTpXRaj+xp+054X0tNU0v4j3d3qEY80W1rK6S7vTJOM10qlG3vMrkfc/UWivzb/Zb/AG6PGXh/4kW/w1+LsTR3skwtoruUYk8wkAB2JOc5r7/+IF/JafD3xFe2kzRSx6bcTQyxnBUiJirA/lWMocrsxcj7nS0V+bX/AATf+NXjz4jfGLxnp/ibxXqmuWNrEhgt72cyJH87jgH6Cu9/aW+C37Rni/4m3uo+BfHGpaPoMn+qtbedlReT2BrV0op2bHyO9rn3RRX5O/Eb4UftYfDLwLrninU/iZrh03SbVrq423bA7F6964H9nu//AGl/2jrfVpfDHxM18Jp8iRzeZeMeWBI7+gqvYxaumP2b7n7Q7T6UlfmZpf7Ov7XkOpWjz/ErWngSVDIpu2wVDDI+96V9bftGa14l8A/sn6teRarc23iOzsYg9/FIRL5m5QzZrLkheyZHK72ue++3eivg3/glv8VvF/xO0HxNP4r8Sahr0sMxEb30xkKj5eBn6mvLf24/ip8UP2df2k9L1W28Y6w3hXUnF9Fpa3DC3VFIUx7emCQTVeyXNylcjva5+olFc98PvE8PjLwXousQSCVby1jlLA5+YoCw/M10P6Vg7c1jOzvYKPT36V+fv/BTz9o7xD8P5vDPhLwT4gutF1qabzrmSxlKSNE64QZH+0K+i/2ZtN8V6L+zvpF54v1rUNV8R3Nn9pmkvpS8kT8jANbuklFMpxaV7nu5468UV+Jnw1+IX7QXx4+Lmr+EvDHxI14XUT3M4VrxtqxpJjAGfcV7n/wzX+2B2+JeuY/6+2/+Kq3RhHRs09n5n6gUV+Y9j+zh+17Fe27y/EnW2iWRS6m6bkZGR96vv/T9an+F/wAIIdX8W33m3Gl2Cvf3ExJZnHByfqRUOnC2jJ5OzO4Zgqkk4HqarJqtlI+xLy3d842rKpP86/KfxF+058b/ANsT4mXnh/4XS3mg6HFKQslm+xkj4GXYHB5Pb2rpZ/2I/wBpfS7FdQtvilcPe4MhgjkkEm7sM5xmhUo2952H7N9z9PMg9DS1+YnwD/bc+IHwZ+J0Xw8+M0c00bSiBLyf/WqzHarMxJyCSDxX6ZWN3DqFrFcW8qzwSKGSRejA9xWcocrJcWupZooorPQy1CiinAUaD17jaltf+PhPrTNoqS3/AOPiL/eqo25kVFO6Oxh/1a/SpKZD/q1+lPr2FseiFFFFWA1/ut9K/Hn/AIJ9/wDKSPxP/wBg/Uv/AENK/YZ/ut9K/Hn/AIJ9/wDKSPxP/wBg/Uv/AENKAPTP+C1H/IA8HfRv/QxX3l+zd/yQnwN/2B7T/wBEpXwb/wAFqP8AkAeDvo3/AKGK+8v2bv8AkhPgb/sD2n/olKAPSqKKKACiiigDM17/AJB8v0rzKvTde/5B8v0rzKvkM4/jL0PLxu6CiiivnjywooooAKKKKAEIB61A1jbFv+PaHHX7gqxRVKTirJjV07o/Oj/grhbww+H/AAN5cSR/6ZNnYoH/ACzWsr/gkvEkl94r3Irgw9GUEfeWtn/grp/yL/gf/r8m/wDRa1kf8Ek/+P8A8Vf9cR/6EtfWXf8AZ56/M1Q5rn6Rx2VsXUC1hBz1CCviD/gq6qf8Kl0xgvP2qMf+PV9yxfLIv1r4X/4KtNu+Emmf9faf+hV4mBlL6xBN9Tipe9Vi2zw//glLDHJ8TNe3JG3+jr98Z7NX6h654Z0nXtLudOvrWCe1uIykqsgwRX4afs1/tKar+zfr19q+laZa6pLcIEaK5kZBxnpge9e8eJ/+Cqnj3X9JuLO08P6fpE0yFPtEM7sy59ARXu4zCYitW5qbsjsq0akqnMtj53/aa8K6Z4G/aA8aaFoyLHptjqLRW6r0C4U/zNfqh8Hb641H9hOC51B3+1Po1wct1IDMB+lfmj8EfgP40/ao+IEl2izSwzXAk1DVZV+RScZ5xjPSv188YeF7XwL+z1rOhWUapb2ejyRADp93k/nmlmElD2cE7tBVa92J+Jnw6lVfjdoB/wCo/D/6PFfv3ppDWsJ9Y1/lX4B/D/8A5LdoH/YwQ/8ApQK/oAsR/oNt/wBcx/KufN9oMxxmkUfH/wDwVE/5IPZf9fb/APoAr5C/4Jg/8nAyf9eJ/wDQ1r69/wCCon/JB7L/AK+3/wDQBXyF/wAEwf8Ak4KT/rxP/oa1pg9cDMuj/AZ6n/wV6/5DngD/AK8rj/0atWf+CRMUM0nxB85YpNotcGQA/wB/1qt/wV5/5Dnw/wD+vO4/9GLXxX8K0+ITrfnwJFqcpG37T/ZyFsddu7H411Yanz4JQvY3px5qNj9/Psdj/wA8bf8A75WpIbWzRhJHHEsgPBjUZr8PvL/aG/58/E//AH6av0E/4JxxeOj4N1n/AITkahDcLdlol1BSrYwvTPbrXj4nCvD0+dVLnHUpezjfmufYkmfMJPeg9KJMhiD1oNeNGTZxPRn5Bqf+M+2/6/3/APQzX69V+LPxO8fW/wAM/wBsjUvEV1E00FneOzIoyT85r6wP/BWDwp1/sG66/wDPM/419FicNVrKEoLSyPSnSc1F26H3B4s0Wx8Q+G9QsNRhjuLSaJlkikGQwxX5X/8ABPXUJNJ/au1mw06ZnsXhukMQ6f6wAH8K7P4sf8FGte+LGizeFfh54emS71GMwtcKG85c/wB1ec16h/wTy/ZX1r4Xz6h458XQfZdavkZYLdx84jbltwI4ORRGH1TDzVZ6voTGPJTlF9Tgf+Cp3xAvdS1jwr4EtZyq3DbrmPPDNuXy8/ma+wv2VfhTpfwj+Cnh7TrO3jiuLmBbuZlHJkdVLfrXwZ/wUGWOb9qrw15o+Vp7bP0ylfpx4Kjj/wCER0YR/wCrSzi2f98iufEVHHCQjHZmdR+zpRijZUg9Ru+tfml/wVH+Gtt4V17w34+0qP7FdyN9nlaEY3SEs2764Ar9Lgv4V8P/APBWVR/wo7w8cfN/bK/N/wBs3rny2T+sKPQjCy/eJH0X+y74+m+J3wN8L+IJ23TT2/lt/wAAO3+lfmP4I1SL4Vftx3t54yPkWrajcAPcdAJZD5R/UV95/wDBO2Td+y74aGWyqy8Hp/rG6VD+1l+xVo37Qdsdb04rpnilAq/aY+PMC4C59MY64rqo1IUa9SnLZ6HRGUKc5KXU+lbG8t9SggudPu4bi2mUMjxtkFT0NcH+0V8JY/jL8Ktc8KAwxXt5Dst7qYfLE2Rzx7A1+cDeC/2of2XWNro7ajqWkRMWH2NTcRlfdivFeq/Bn/gptcx6tbaD8S9GGmSh/Ke8jLFh7sDgCspYGrT/AHmHlzGfsZRfPF3PoH9jX9mfWf2afD2t6VqOrQanFfXKzp5JPyYQLjkCvkD/AIKEMG/ao8KkDA8yP+aV+m/hXxLp3jLRbbV9Iu4r7T7lN8M8Lblcexr8w/8AgoPx+1R4W/66R/zStMBOVTESlPewUW5VXzH6deC/+RP0T/ryh/8AQBWxH98VieCf+RP0P/ryh/8AQBW2v3hXj1PjZxfC2fkh8bv+Uh0f/YZ/pX60aT/yD4P+ua/yFfkv8bf+Uh0X/YZ/pX6z6T/yD4P+ua/yFexmH8Kl6HbiPhiXK/IT4lf8n5J/1+p/6Ga/XuvyE+JX/J+Uf/X6n/oZpZb9v0Iw/U/WnxBpcOuaHf2E6CSK4heMqw4OQcfrX5Q/s43l9+zL+2ddeFr4Pb21/d/2azy8KUYhs/Sv1uB+avzP/wCCnvgGXwj448OfEPR4jaSSfJNMnefcxDZ9cCssDLmnKjLaRVFppwP0xjVfJQoQysoYEdDmvgz/AIKo/Ex9K8EaT4Mtp/3urTLNLGh+YeWykfnmvq79nz4hR/FH4Q6B4ihKlJbZVPPOVG0n8xX5t/Fu9f8Aau/bhttI09zNp9lPGvkocgCAgTfntOavAUeWtKUtoioU7Scp9D7U/YH+EsXwq+AulSXECpqGqE3rzY+YpIFKqfpzXyh/wVMkLfF7wkN+f9Hi/wDQ2r9NtF0eHQdJtrC1XyoLeJYo0A4VVGAK/MP/AIKtCRvip4YEPEv2SPYffc2KvB1HUxjk+pVKXPWP0d+FzMvw+0BS2T9kTP5V1ccZkzzgDvX5e+Fz+2J/wj9gum6tcJpnlDyMQIRt7c+XWky/to8Ea5dDnj9wnJ/790p4GDqSl7RDdJOVuY/S5hjoc/Svx9+MVwfh/wDt1San4qhL6cdQ85fM6eUzMEP0zX6n/CA+JW+H+lf8Jc7Sa/5Y+0sRglsDPGB3zXmv7T37Ifhr9ozSxNO7aXr8K/utQhUFmwPlU54x/jU4WtHD1JRls9LmVLlozfW57b4f8SaXr+l295pl1Dd2sigo1ucqR7VhfGD4ewfFT4b6/wCGmSNJNRtXgjlmH+rYjAavzIm+DP7S/wCzHeSS+GZ73UrFTjdp2bkFR2IK8fhXoXwr/wCCm+veE9VXRPil4fkgEbBZruNWNwPqnAqHgKkZe0oSUjWVNyfPB3PoT9jf9k/XP2ZZ9eW+1m21K11J1YJCW+XaCB1A9a+nlU96wPAfjzRviR4ZtNe0K8jvdOul3JJGwOPY+hFdFXBiZynUbnuclSUnJ3EpaKK5SAoorlPid8QrD4W+Dr3xHqaSyWVqMusK7m79vwppOTshxjzOx1dfDP8AwVj/AOSP+F/+wo//AKKNaX/D1L4Xrw1jrIP/AF6D/wCKr5s/bk/bO8HftEeA9F0bw7bX8VzaXrXEhu4Ai7ShXjk969/BYKvTrRlJaHbSouM0z478FnHirTP+u61/Rv4LbPg/RP8Arxg/9FrX83ugagul6xZ3kgJSGQOQK/WXw7/wVf8AhXpOh6bZzWGtb4LWOFitoD8yoAcfN6ivpK9OUmmj0akeZ6H3tRXyN8L/APgpV8Nvip4zsPDel2mrpe3jbY2mtQq59zur64+ZWIYYIOK4nFx0ZzOLjuLRRRUPYkctfiP/AMFPdv8Aw1Zq2eT/AGda4/75av24WvxI/wCCnw/4ys1U4zjT7X+TV0YTc6KZ+gP/AATYt7V/2Z9MMiRu3ntyVB/hWvqn7HZ/88Yv++F/wr8Dfhv+0d8Y/APhuLSvCWt3tnpCNlY4YEZQcDuV+ldWP2xP2isj/iptS/8AAaP/AOJrWpQUpX5jTU/c14xbKWgVIwxH3ABX4q/8FKPi0/xI+PU+m2k7z6dpSLDCM5AkIAcD/gQr9CfAfxo1fw1+xDbePPFmoPNrw0+eRnuQEMswZti8d8DtX5O/BXwre/Hj9onTLdY2uJL/AFT7dPHy37rzQ8n4AE0U6ap+9uTFa3M/4vfBPV/g1a+Gb+5LeRrFjBfQyEYIZlDkfhxX69f8E8vi0Pih+zzokc0qy32kKLCZs5Ziqg7j+deb/wDBTb4HWmp/s96TqOmQADws+1No+by22IB+AFfM/wDwSr+NCeDfitd+D7yY/Y9ejENojHgTbtxP/fK1bXtKd2OprE/XPWlH9kz5OP3Zr+dHVMf8LW1Dn/mLzf8Ao1q/op1gE6VdZOSsZ5r+dHUufitqH/YXl/8ARzVlh1pIiitGf0M/DID/AIVv4V5/5hdr/wCilrpq5f4Yx7fhx4V/7Bdr/wCilrp65HroZPc+Vf8AgpFp2q337NuuPpyt5EKF7tl6CPjr+OK/Lz9i3xN4S8H/AB60G98ZiBNLRgFuLj7kMm4Yc+w5r92PFHhnT/GPh+90bVbdbrT7yMxTQv0YGvyg/aa/4JmeLPC+uX2r/D6F9a0iRi6WcYPnJ/sqoBz+ddlGenK2aR2sz9W9G1PQPE+jw3FhLaahp8yDy3iAKOuK/PX49f8ABLPVvHnxO1XX/C2saTpGmXzecLeTeGEjEljwp7mvh7R/iN8Yf2c9W8qK+1bw9cxHBhulPGPZs19wfswf8FQz4k1ax8PfEe2jt5ZtsUeqRkne54+YcAZOOnrTdOcE3Fl27H1T8KPhbrXwd/ZnvvCuu3tvf3djp8sazWxYqUEeAOR7V+HHg8H/AIWDp4xkG97/AO8a/oW8aahbah8NNdureQSwS6fKySL91hsPIPev5z2WeXW2W1DGczMECfezk9KWFTtK5Uep/R/4bhs/+Ec0nMdv/wAekP8ACv8AcFaPk2X/ADzt/wDvla/CO3H7RMdvEsFp4n8kKNm2FsbccfpU9uf2jPOj3WnijG4Z/ct603RT15jP2fmfu/HHFGmIokjH91BgU6srwn53/CK6N9oDC4+xw+Zu67tgzn3zWrXEzGSPnH/goR/yan4w+kP/AKMWvCv+CQv/ACSvxJ/1/N/JK91/4KEf8mpeMPpD/wCjFr88f2Jf22NG/Zn8I6rpGp6ZLetd3BmVo1JxkLx19q64xcoWRpH3on7OY96+A/8Agrd4J0af4T6X4laGP+27W6jtopVHJjdiW/kKpXX/AAV28JxxMbfw9dPJj5RJGQCfzr58+I3jb4qf8FDvHmm6dpOiS6f4ZjbA2BjBGMjLsxHUcn86mFN05XewKNndn21/wT78VX9x+xzZ6pqUjvPYveH5+vlx8qPpgV8Xfs++E4v2pv23Nb1jXFN7pNjdvctC/I8vc2wfQHFfpJo/w0t/g7+zPq3hmyC5s9Aui7r/ABS/Zm3n8SK/Pv8A4JDxy3vxe8cyzEeaunwk7jznzGq18Mpov7LZ+rkFrHBEI4htiT5VXGABWd4r8K6f428O3uh6vbpd6deRGGWJxkMp6itaPMa7T2p1cd2mZI/ID9lLW7v9m79uC+8NSSH+y7uW4t/sqHCHzGxESPYGvtL/AIKYafear+yxrptAxMdxbs8UfdfMX+VfD/xa/c/8FHLQR/L/AMTOy+7/ALyZr9edd8P2HifSbnTNTt0urG5QxyxSDIIIxXTUSjKMy5aNHwd/wSd+Inha2+FupeFXvoLbxH9vkuTBIcSPGwUDH4g1+ggKOvy4Zm4HvX5o/HP/AIJm6/4W8QXHif4Q608OZTMLGSTyhEOyoRkt+Nea2H7VH7TP7NdwY/GWkXup6TanYv8AaMJjhwO4cLk96JJVtYsa11Pqf9q39hDU/jn8T9M8YeHNVtdEu7aM+YZchmkyNrcA9AK+lvFOl3GjfBHVLC5lE1xaeH5IJZB0dltypP4kV41+y/8At7+Cv2g5LfSJydE8TsvzWsvEbt6ISct1Have/ioNvw18V/8AYKuf/RTVLUlZSFJu5+ZX/BKdt3x08ej/AKYx/wDob1+rbLX5R/8ABKX/AJLt48/65J/6G9fq81PEfFoOpozxH9tT5f2Ufil/2A5/6V8hf8Eb2/4kvxA/6/Lf/wBFtX15+2t/yan8Uv8AsBT/ANK+QP8Agjf/AMgXx/8A9flv/wCi2rSmv3TCL91s/S0tXhH7cTf8YxeNP+uCf+hivddteE/txf8AJsfjP/rgn/oYrkhFcyMov3kfLH/BH/8A5FnxX/13P8lr1D/gp98IW8e/BFtftIfMvdDbz5GA5EADFv1Iry//AII//wDIteK/+u5/9lr9A/G3hG18d+EtW8P3uPsuo27W0mR2aumbtULm7TPkn/glv8YP+E4+Csvh65mM17oMux2c8lXLMAPoBX2ZqV0mm2Mt5KNsUaNK2eyqMk/lX5I/sX+ILz9nP9sHWfBGssttYXks0XlhvvMxxDx9DX6DftifFZPhF8AfEerhwlzNEbSJGPXzPkyPpuqJ017RJdQcfePzZ1e1uf2uf28ZIPN8/Sbe/MUcjcqsEZZk/DNfrvrVsLTwrcQxqqLDblQq9MAV+fn/AASX+ETrpfiD4i6gplmvHNlF5g5BRg28fUNX6FeJP+Rf1D/ri38qus7NRB6ux+Sn/BMmQr+2V4gPH/HjqH/o1a/YHzyO6mvwP+AjfE1fjtrZ+FF01p4o/wBLy6KGPk+b84wQe+O1fVO79uUnP9t3QH/XvH/8brSpTUne9i5Ru73P1I80sOwzXhH7cOk6prn7Lvjq00lWkvHsRiOP7zYkQnH4Cvn39nZv2rf+FtaKvj/WJrjwsQ/2qN4UUH5Tjog7+9feGpWdvqGnz211GslvKhR0YZBBri+CS1uZbM/M/wD4JHfEbw14fh8T+FtSlhtvEl7eie3Mpw7IEVSo/wCBV+mXWQNuEyYI47V+cv7RH/BMa/8A7en8UfCPUzZTysZWsZJDEsZ9EYZJ/wDr15NYfHz9p39l2cR+JNM1DV9Gt+B9siKwsB/thc4roko1dYvU19D6/wD20/2KZv2ldc0DVdD1G10nULEMJ55chpPu7egPTFfSPwt8K3PgX4deHfD95cC6u9NsYrWWdejsqgE181/su/8ABRTwb8brqLRdfWHwv4kkO0Qu37iRuwVmOST6Y6mvr1uprKakkoyMZtiUUUVkYhShqSikWO3U+3P+kR/Woqltf+PiP61UfiRUXqjsof8AUr9KeDmmQ/6lfpTlr2VsegOoooqwGv8Adb6V+PP/AAT7/wCUkfif/sH6l/6GlfsM/wB1vpX48/8ABPv/AJSR+J/+wfqX/oaUAemf8FqP+QB4O+jf+hivvL9m7/khPgb/ALA9p/6JSvg3/gtR/wAgDwd9G/8AQxX3l+zd/wAkJ8Df9ge0/wDRKUAelUUUUAFFFFAGZr3/ACD5fpXmVem69/yD5fpXmVfIZx/GXoeXjd0FFFFfPHlhRRRQAUUUUAFFFFAH52/8FdB/xT/gb/r8n/8ARa1jf8Ek/wDkIeLP+vcH/wAeWuk/4Ky6Ve6poHgcWdpPdFbyfcIY2fH7sdcCsX/glDo99pmpeK/tlncWu63GPOiZM/OvqK+r5l/Z+56l17Cx+j6feFfCv/BVb/kkumf9fSf+hV91L94V8P8A/BUjTLvUvhTpqWlrNdOLpCVhjLn73sK8jB29vD1OSg/3kT5R/wCCePwZ8K/GLx9q9h4psGvrWCFXRVkKYOG9PpXrH7fn7FPh/wCHfg218Y+BrCS3gt3KahBvLhI8cNz6sazP+CV2h6jpvxM117uwubVDbrhpoWQdG9RX6V+PvB9l488IaloWowia0vIWjdT344/I4r16+KdLF6PQ7KtZxqqz0Py7/wCCY/xxTwT8QZfB2oyKllrRH2f188kDk+mAa/TP4u2cmofDHxLb26+ZLNYSKijuStfiX8TPhX4r+A3xgv7GytL43GlXZNte28L4cD+JSBx1r9iP2ZvimPjR8JtM1S8t5YNQjhEV3azRlCGGQM5HOQM/jWOYwtOOIi9GTiI8slNH4peGbqPQPjJplxefuo7TXEkmJ/hCTgn+Vfvp4W1i11/w/p2oWU6z2tzbpLG69CCMivy6/bc/Yb13wl4rv/F3g+ze/wBDuyZpraIbpIXPLfXJJ6DivFPBH7Tnxn+E+lppenXV8loieWkd9bSPsAGABk8V14iiswpRcJWNJxjiIppn3Z/wVO8QWdn8ING02SeMXVzePti3Dd9zOSPTivmT/gljotxqHx6v51G2C309meQ9B86/rXh2tTfFT9o7xTarqNvqesXk7hY98Mnkx5zzzwor9Sv2K/2T4/2d/B4vNTPneJNRUSXIU8Rjps/QGlUlTwWGdJvViaVOi4X1Pmv/AIK6SL/wkPw+AGcWdx2/6arVj/gkXbwXX/CxhLCknNqRvQHH3/Wp/wDgrVot9qmueATZWNxd7LK43eREz7f3i9cDivjH4Y/EH4lfCBL8+F7fUdP+2lfO22snzbc46Y9TWuHiquDUE9yqfvUeU/eH+yrL/n0h/wC/Y/wqaK1ht43SKJI1brsUD+Vfij/w1h8d/wDn61T/AMBZa9g/ZN/aI+Lni/49eE9K8RXN++kXF1tnWWCRVK7W4JPA5xXkVMslCLk53scssM4q9z9VFG1QKk7UzO7Bp5rxlocPNrY/HjUNNtdW/bymtby3jubaS+cNFKgZT856g1+pq/BfwMo2/wDCKaRj/ryi/wDia/MpdB1Jv28muRp10bf7c583yW2/fPfGK/Wn1r3sZXlCMFF9Ed1eo1yqL6HP6R8NvCmhyLJY+HNKtpQ24SR2UQYH2IXNdC0a/LgYA6AU5aWvAlUlUd5M5eZs/Mn/AIKjeE7jwz8RPCXjKFC8cnzSHsrIU2j8cV93/s7+O7D4gfCHw1qdlMsoazijk2nO2RUG4fgah/aI+B+i/Hz4d33hzUlWOZgJLa5x88ciglefTOMjvX5v+C/GHxe/YR8W3Wj3ekXet+G5HYrHFG0iMuThlPIQnjNe1GP1zDKnH4onZFKtT5eqP1vZgqtkZ9/Svzr/AOCsHxAt7jS/DHguKVZLkzC+dI8MVxuTB9Dz0qLW/wDgqRquraWbTQfhzqltqhUjzZH85c4/uhK5b9m39mrxr+0n8VV+JHxNimi0tJxP9nuVK+b0+QIfuj8K0w9B4OXt62lhU4Ok+aR9i/sz6HN8Gf2XdCivIHL2FnJcugU7mDEuBjvwazvgH+2R4f8Ajx42v/DOn2k1pe2u/wCWQFc7M7uv0r6EWwt109LIRiS0SMRCNxkbQMYxX5kfG79mn4ifs0/Fm9+I3w2SS602SZrl0jyxQudzqVByQckdK5qCpYqU+Z2k9jK8KsmpH6dybZYfImRZYjwVcZFfJP7e37OfhDxR8Gdf8VQadb6drOjwfaYprdBEGO4LhsYz949a8v8ADn/BUa7sdOW38TfDjVjqiqN80bGJHPshTivMfjN+1J8S/wBrSH/hC/CPhO+0jR75tk0ckZJdD2MmAMZA6+ldGGwlejVvJ2S8zelSlSleT0PZf+CUvjTUtY8AeI9GvJnngsb1Y7csxIjXywcD8TXkP/BQpN37VXhYjj95H/NK+z/2Nv2cD+zr8MxY3jLJrGpOtzeFedrgbcA/TFfHH7fui6jfftReGJrexuriFZI8yRRMyjlO4FbUJwljZyjsOElKvKS2P0u8FRkeD9E5/wCXKH/0AVtAAVjeC1K+D9EDAhhZQgg/7grZrwKnxs8+XxH5HfGrn/gofH/2Gf6V+tGl8WFv/wBc1/kK/KX4yaHqU3/BQSO5TT7p7b+2N3nLCxTGOucYr9WLDP2G3/65r/IV62YNOlSt2OzEfDEvCvyD+Jf/ACfnH/1+x/8AoZr9eFztr8kviRoepS/t1R3KWF09v9tQ+asLFfvnvjFTlsknO/YWG63P1vrw79sj4Vn4q/AfxLp9vb/adTgt2ns0xk+aBgY/M17dTbhS8ZXqDwa86jP2dVSOWLad0fmD+yL+0UPhz+zn8R9B1G68jVdLDrp8TvjkI5YD0+aun/4Jb/Dka7r/AIq+IupQMLiaWQWkzDgly/mYP1NfMX7VHwV17wH8eNd0bR7G8nsL6fzIvs8TlH3AE5wMdWNfq9+y/wDDGD4T/Bbw7okUJhcwrdSq3UPIA7Z/EmvocXONOjKdN6zPTqNRjZdT1pc7eua/Lv8A4KlZb4weEgf+feL/ANDav1E/hr8wP+CpWm6jN8UvDN1Z2FzdrDaxkmGFnGQzHHArzct/3hN9jmw/8Q/RX4WuW+HuhA9Bap/Kuq25r81vC3/BSjxFoOgWOmj4c6nILWJYtwQjdjv9ytX/AIefeI88fDfVB/wE/wDxFXUwNWU3NL8RVKE5SP0OvpjZWN3dbC/kxNIF/vbQTivm74U/tu+H/iX8Vp/AYsHstTjkaIGTIyy5yOR7Vb/ZN/ai1L9o2TxFDqPhu50NNNWIqtyuBLv3AgcD0/Wvmf8Aas/ZR8X/AAz+K0/xX+GQeTdKbuW3jBLxSEksQAeQc4wKzo0IOcqVXR9AjGMfdkz9IuG4KhlPBUjI/KvnH9sv4A+EfH3wd8SarcaZa2eqabZyXMN3BEsbblBI3EAZ/GvnbwT/AMFPdd0TTFtvGvgDUbrVUTDTQIbZHb2QqcVxvxs/bW8eftI6G/g/wb4N1DR7TUj5EzPE0pkU8Ebwo2j61pQweIo1r3skVGjOE+a+h2n/AASj8YamW8VeGp5WnsIZFeLcxIjwGJwO2a/RbcP4WyPcYr5b/YT/AGZLz4BeCLq81rb/AG9rBWSZAc+UoBwM+4NfUX3a4sdONSvKUdjOs1KbaH0tIOgpa4DmCvFf2wtNutW+AviG2s4Zbi4ZRtihQux4PYV7VUc0KXEZSRFdD1VhkVpTm6clJdDSnLklzH89L/CnxnvJ/wCEX1n/AMApP/iazdZ8H654ehEmraRfWCMdqPc27xgn0yR1r+hz+wNN/wCfC3/79ivhv/gqzpdnY/Cnwu9vbRQO2puC0aAE/ujX12FzRV6ig42PShiuZpWPywjVpGCIpZm4CgZJrqY/hb4wlhVh4U1llcBldbGXBH/fNUPBKK3izSwwBBnXNf0R+EPDumN4T0UmwtyfsMH/ACzH/PNa9arU9m7HZOXJY/FT9kH4beK9N+Pnhq4uPDeq20CS5aSa0kRV5Hciv3TGcDJ3VRg0PT7WQSRWUEbjoyxgGr1cM587uckpczuPooorFkjk61+I/wDwU+/5Os1b/sH2v8mr9uE61+LH/BTTw7qt/wDtSarNbaZeXMLWFqBJDbuyk4PcCujC76m1Pc+5P+CcXg/QdW/Zs0y4vdF0+7nadsyT2sbsflXuRX1Efh94X/6FvSf/AABi/wDia+e/+Cb1lcaf+zTpkN1BLbSidsxzIVb7q9jX1JI2yNm64Gazqv3xSfvH5xf8FXvi7a+GPBuhfDXSkS3F4322SOBAiIEYjbgcc7q/Of4XeIPGXgXxAniLwhDdLqMUbxLPBbmQBWGCOBXqv7Zni3xH8Zvjtr+rrpGonT4ZTDax/ZpCFVQAccdyK/T79hz9nvR/APwB0SHW9GtbjV7rdcyPcwBn2udygkjsDXbzKnBG3Ooo/LvxN+0F8dPF+hzaPqz6leafcDEkLWDHP6V5R8PvFGo/DX4jaPq8SSWd9p10rbJAUZD0OfwJr+hp/h34X4P9gacMelsv+FfkJ/wUk+Bd14L+Oc2paJpEz6fq0f2pvsluSiyMzZHyjjgUqdaMvcGpqWjP1r8HeLbPx98L7HxBYSia0v7MSpID17H9Qa/n01Jf+LsX/wD2F5f/AEc1fqz/AME0/idqOv8AwOvfB+rWtza3WiHyLVJ4WTdDjcSCR/eY1+VvjDwv4gg8ea5PDo+oBl1GdlZbWQ/8tWwelFJWckRT3Z/Qn8Msf8K38K/9gu1/9FLXS1+Etj+1p8fNJ0+1soLrUkgt4lijUWcvCqAAPyFW4f2xP2gTIo+1anhiAf8AQ5fWsvq4ezP1E/bI/apvv2V/Dej6xB4bTX4L+5Nsd85i2HaWzwD6Vxf7H/7eyftPeK7zQbzQbfw5cwxmWILd+Y0gGOmQOcmugj+FX/DV/wCx/wCGdO8Wu8eu3ulrOt1IpBiuDkFiOvTj8a/LPx18B/iv+yz48a7srPUIJLWTNvqOnq7K69ednb2JopxjJOL3BRTVj9ufHfwd8HfEjTbmw8QaDZ3kVxxJL5KrL6cPjIr8Kf2sfhlpfwd+OetaBoFz5mnQMJoWR8mPcSduc9RgV6PJ+35+0BcaZ/ZhuT5ZXZvXT3Evp97Oc1xfww/Z5+Jf7SnxCUHS9QlluZxLeX18jRqELZYgvjPGe9dMU4bsu3KfqH+yZ4q1HxZ+xYsmqO0slrp0ltHJJncyLEMEnueetfjX4N5+ImnKehvf/ZjX71+H/hXafCH9nu48I6eGmWx0x4y45MjBMZ/SvwTXw54i03WHu4NH1BZo5mZW+yScHJ9qzovWQRasz+iXwzpNj/wjek5s7cn7JFyYl/uD2rT/ALJsf+fK3/79L/hX4b2/7XPx9tYI4YrrUxHGoRR9jl4AGBUn/DYH7QP/AD96n/4BzVLot9TL2fmfujjaAAMAUV8w/wDBP3x/4r+Ivwfm1LxdLPNqImCj7RGyNj5uzc9q+nq45KzsZSVj5x/4KEf8mp+MPpD/AOjFr5m/4JU+AvDvi34c69JrOiWGpyLesFe6tkkIGF4BYGvp/wDb+tJ779lnxdDbwyTzMIcRxKWY/vF6AV4T/wAElNLvNN+HGvpeWk9qxvWIE0bITwvqK6FK1N2LjpE+ym+CPgNmUnwjovynI/0CL/4muj0fwxpHh2Mx6XpVlpynqLS3SL/0ECtSkrkc5S0bJMrxRpJ17wzrGmDGbyymtxk4+/GV/rX5I/sWa8vwF/bS1vwjqMi2cN3dSaeZJDhf3ZYjk+pr9gSSP4d59M4r8/f27P2JdY8Wa8PiX8PotniK3xJc2sTbd+3ncOR82SfriuilO6cGaxatZn6ANuLFnGGbkgVFdXkGm2Nxd3UyRW8I3u7sAqqOpJr8w/hv/wAFMvHfw30O30fx54C1LWr2zURG4WM27NjudynJ965v4wftqfFj9qaH/hEPAng/UNBtNQUxzK0ZLODx/rAAAOaUaD6sjk10Oc+DcbfH/wDb+uNUijeW0tbmSYSgHb+4YY598V+jP7U/7T+lfsxaTo9/qlhJew6g7x/ugTt2geg964T9hP8AZLb9nbwlNqmvxpceLNWw8zHDeSMH5QeeoPP0r039qL9n2x/aM+GN5oFyVhvYx5lpPjlHHOPxwBVVLSkk9hy1Z1fwc+KenfF74e6T4n0pdtnfRLKI2HKEjODmug1zwxpPia0e21XTbXUIWGClzCsg/UGvye+Gfxe+Mn7B+r3fhbWvDd7r3hmOYhY4omf8VkwQo4HFezal/wAFZopdPVLD4X6yuouMbWn3BT9NnNDouLvAaR89/t1/D3Tv2Yf2ivD2teCt2ntdZv1hic4RkdRjA7H0r9TtU1SXWv2ebjUJzme78M+fIf8Aaa13H9TX5k+B/hP8Tf25vjpbeMfFemzab4dt7hWlFzEYgsWRmNFOOoHUV+o/jbSU0n4Q65plqhMdtos1tEoGTtWAqB+gq6klZLqKXQ/Nb/glL/yXbx5/1xT/ANDev1favys/4Ja6LqGm/HDx3JdWFzbRtEgVpoWQH536Eiv1QyTUYj4x1XqeJ/trf8mp/FL/ALAU/wDSvkD/AII3/wDIF8f/APX5b/8Aotq+wv2z7eW7/ZZ+J0MMbzSvokyrHGpZmPHAA618k/8ABH/R7/S9F8ei8sri0LXluV8+Jkz+7bpkVpTa9kxRfuM/SCvCP24v+TY/Gf8A1wT/ANDFe714Z+2zbTXn7NPjGKCKSeVoExHGpZj846AVyw+JGUN0fKn/AAR9/wCRa8V/9dz/ACSv0gWvzq/4JF6Tfab4b8Ui8s7i0LTkjz4mTP3emRX6KLWtd+9oXV+I/LH/AIKU+A5PhT8fvCnxT02NlFzLHPcNGOFaFkCjA9cGqP8AwUC+PA+MGk/DLwdo10s8+ow21zerE27LTLGVBA6YJNfa37eHwh/4W5+z3rlpbxKb+wAvon2bnIjDMVHfmvzX/YJ+CurfE39oLTbrxHp95/ZmkR75DcRMmCoPlAbh2KitoSVud7o1TVrn6vfs3fDKP4S/Bfwz4eWNYbm3tUNzt/jk2gMf0ruvEn/Iv6h/1xb+VaoUY6Vl+KFLeH78KMt5LcAe1cUm3K5hF+8fkt/wTEx/w2Rr/Q/6BqI5/wCuq1+vskY3Z5/Ovwo/Z++LXiD9mn46a34ui8Kajqpf7XaeSsDrw8mc5K/7NfVTf8FWvFO/j4ZamB/uH/4iu2pCUpXRvKHM7n6VbQWGa8k/aa/aI039nHwnaa3qdhNf2tzOYMRqx2YXdk4FfG1r/wAFU/FE1xEh+GmpKGYKTsPGT/uV9e+MvBdj+1d+zxb2mrWjWTa7YLOquMPbucHr2PGPxrlVJwfvMz5bbm/8A/jfpH7QHgO38T6OvlQSECSLPKN6EduK7zWtB03xFavbanY299AwwUuIlcfqK/JfwTrXxq/4J5eLLvTLjQZ9a8LXUhlEdvGZlkUYG4EZCHAxzXtMv/BXCGSxVI/hdrC3pGNvndG9cbP0rX2TTvA1t2PFf+ClnwY0H4EfEjwl4q8Ip/Zs+pSNK1vCdojeIqQRjpkmv00/Z78SXni74JeDtYv9xvLrTIJZGbqzFQSa/Lybwv8AFz/goF8XtP1XWdJl0rw3aTL/AMfEJiWKEEZABxklR1Ffrb4N8L2vgjwnpOgWX/HpptsltFn+6owK0rNcqXUzqbJGyDS02nVxswCiiikAVLa/8fEf1qKpbX/j4j+tVH4kVHdHZQ/6lfpTlpI/9Uv0py17KWh6ItFFFUA1/ut9K/Hn/gn3/wApI/E//YP1L/0NK/YZ/ut9K/Hn/gn3/wApI/E//YP1L/0NKAPTP+C1H/IA8HfRv/QxX3l+zd/yQnwN/wBge0/9EpXwb/wWo/5AHg76N/6GK+8v2bv+SE+Bv+wPaf8AolKAPSqKKKACiiigDM17/kHy/SvMq9N1/C6dKScDFeZfK3IYYr4/N9ayt2PLxvQKKOPUUYHqK8CzPMswoowPUUYHqKLMLMKKMD1FGB6iizCzCijA9RRgeooswsyhq3h/TNeSMajYwXgjJKCZN2DTNJ8N6Toqs2n6bBYOww3lIASK0sD1FGB6inrsGoVR1TQrDXIRDf2sd1EDnbIMjNXsD1FGB6ijULMzNJ8K6RoEjyafYwWrsMMYlxmtLcWJ7ClwPUUYHqKNQ1MjV/Buh69Ks1/p1vcz9PMkTJAqxo/h/T9CjaKwtYbKNjuYQrtDEdKv4HqKMD1FHvD1GzKsiFGQOrDBBrktU+E/g7W7jzb/AMN2Fy3UtJCCSfWuvwPUUYHqKLyFqYmgeENJ8LKE0nT7ewiJwy26bcr6Vull7cCkwP7wpu0f3hVa9Rq5m6p4b0vXnRtRsobtkBCeYucA9qoN8O/DPlgf2Haf9+xXQ7R/eFOwP7wquZrYtHN/8K98Mf8AQEtP+/Yqey8F+H9NuFubXSbaC4j5SRUAIPtW7gf3hSbVPcUe0k9Bajc08/d9aaVH94U7Ix94UhWMaPwpo63xvhptut5n/XBPm/OtXbTwF/vClwP7wrOV2P1GrSN1p+B/eFN2j+8KcRDD7jIqrq2l2OtWJtb6yivLc9YpFyDV3b/tCk2/7S1qnYNTkdL+EPgvSbgXVj4Z0+0uM53pCA31zXYqojUKAoUdNopm3/aWlVQB94VMpXQ9R9DKHUqcEHg5o49RRkeoqFci2pyWtfCnwfrd0JtQ8N6ffy/89JIQTWto3g/Q/CqFNG063sFYYIgTbx6Vr5HqKQ49RV3fcNSNlNZl94R0nVrkXN3Ywzzr92SRcmtfA/vCl49ajW5S0IoYRDGqKNqqMAegp46807I9RSHH94VTFZmVN4R0W51AX01hbveqdyz7Pmz9a0kG1Qg+6vAp20f3hRgeoqXcWoVjyeEdGkvftzaXam8znzSnzfXNbGB6ijA9RS1DUQDFLRgeoowPUUahZmTdeF9L1HUUu7uxhmmT7srLlhWqq7RjOQOB7DtS4HqKMD1FPUNQrJ1bwnpXiBi2o2ENyycq0i5Na2B6inZHqKFcNTl2+Gfhn5P+JNaHA/55ilHw18MDro1p/wB+66fI9RTWAPcU7sepnaH4Z0vw60p06yhtDJjf5a4zjpWlIN2eM0DHqKXI9RRqLU5LXPhX4T8TTC51Xw/YX87dXuIQzCrfh3wRoXhFWTRdIt9NU8EQIFzXRceopuB6ii8h6ke0+lJtPpUuB6ijA9RU2ZNmIv3RS0YHqKMD1FFmOzCijA9RRgeooswswr4d/wCCrGn3OofCnwstrbTXLDU3ysMZcj90fSvuLA9RTGs4ZiDKiS4OdrKGH6114Wt9XqqbRpTk4STP57vBHhfWF8WaWx0m+CidST9mf/Cv6H/B/HhXRVIIYWMAIIx/yzWn6ZptouD9gtwfXyl/wrYaQYAA4+lfVOr9YSmkem6iqDNpowaN478Uu5f71SSLRSbl/vCjcv8AeFSMe2ezbaxdU8G6Frl6LjUNJgu5cYMkiAk46VseYvrQHUfxUJ6DK2n6ZaaPb/Z7G3jtoM5EcYwBVnqMGk3L/eo3L6imxHOSfDnwzI7O2iWhZjknyxya6OONIIUijUIiKFVR0AHQUbl/vUbl/vVVyROaztW8L6X4h2jU7GG9VOVEy5xWluX+8KUSL61DGjJsfB+j6EWOm6fbWpPykwpg4qm3w38NSSF30OyZmOWYxdTXR+YvrR5i+tFxnMD4Z+GN2f7Bsf8Av1U0fw38LKTnQrEf9sq6HzF9aazK38VNMCG1s7fT7eO2tYlht4xtSOMYVR6Ci+0y11izktL2FLm3kGDHKMrUuV/vCnbl/vVVydThR8EvAMcwkHhHTN4bduEAzn1rs9NsrXSrVbexgW1t16RoMAVKSP7woBH94VnLUNR0iiZGQhWVhhgw4IrmJPht4X3E/wBg2ZJ5JMYrpw6+opGZW/iFOLsPU5yP4d+FlXnQLL/v2Kf/AMK88K/9ACy/79Ct/wCX+8KAV/vCruBBpujWOhwmLTraG1iPVYV2irlMDqP4qXzF9aV0UQahptpqls1veQLcQt1jcZU1W0fw/pugxtHp1lFZRsdxWJcAmr5dT/FQJF/vUm9AH0lJ5i+tJ5i+tQAUDO4EcEdDSbl/vClDr6iqI1Od8SfDTwv4ulM2uaHY6pKT96aLLVa8O+C/D/hIbdG0i307t+4QKK2fMX1pu5f71NMepISTRTfMX1o8xfWm2LUqaxotl4gs3tNQt47q3YcxyjKmuQt/gn4Gs7gXKeFNMWZWyJEgAYGu68xfWm7l/vCouNbCWtvFa26RQxiKJRhUXoKJIkmR0kXcjAhl9QacJFA+9Sbl/vCgZk6P4W0fRZ5ZrDTYbOVz8zxqAWrXpuV/vCl3L/eFU2DIL+xh1G1lt7iJJ4JF2vFIMqw9DVXRfDumeH45E02wisN5y3lKADWjuX+8KNy/3hSuLUXnvyahvLO31C3eC6iE8DjDRsODUu5f7wo3L/eFAWKOi6Dpegwsmm2MNijHlYlxmtGowVH8QpwkX1ouAssaXELxSqHjYYZT0IrK0jwlpOgzTXGnWMFnNKfnKJgtWr5i+tHmL60XHqGDRtLAjjB4O7pR5i+tHmL609BHOt8N/CsrO8uiWbSMckmMZJqJPhj4T3c6DZY/65CulZlb+KgMv96quBzw+GXhJemhWWf+uQrdtLOGwto7e3iWGCMbUjUYCj0FSbl/vUbl/vUXGQ32mWuq2r297AtzAww0bjINcj/wo/wCs63CeEdL87P3vIGR712m5f71G5f71FxakFrYwafAkFrCIIUGFjXgCptppdy/3qNy/wB6i5QmDTqTcv8Aeo3L/eFS2SLRSbl/vCjcv94UgFqW1/4+I/rUO5f7wqazYG5jAOSTVw+JDjudnF/qV+lOWmQ/6pfpTxxXtnoC0UUUDGv91vpX48/8E+/+Ukfif/sH6l/6GlfsM/3W+lfjz/wT7/5SR+J/+wfqX/oaUAemf8FqP+QB4O+jf+hivvL9m7/khPgb/sD2n/olK+Df+C1H/IA8HfRv/QxX3l+zd/yQnwN/2B7T/wBEpQB6VRRRQAUUUlAEN1At1C0bjKsMVif8IfYf88v1NdDtFG2sZ0adR3mjKVNT+I5//hD7D/nl+ppf+EP0/wD55fqa3ttG33rL6pQ/lF7GHYwf+EP0/wD55fqaP+EP0/8A55fqa3tvvRt96PqlD+UfsYdjB/4Q/T/+eX6mj/hD9P8A+eX6mt7b70bfej6pQ/lD2MOxg/8ACH6f/wA8v1NH/CH6f/zy/U1vbfejb70fVKH8oexh2MH/AIQ/T/8Anl+po/4Q/T/+eX6mt7b70bfej6pQ/lD2MOxg/wDCH6f/AM8v1NH/AAh+n/8APL9TW9t96NvvR9Uofyh7GHYwf+EP0/8A55fqaP8AhD9P/wCeX6mt7b70bfej6pQ/lD2MOxg/8Ifp/wDzy/U0f8Ifp/8Azy/U1vbfejb70fVKH8oexh2MH/hD9P8A+eX6mj/hD9P/AOeX6mt7b70bfej6pQ/lD2MOxg/8Ifp//PL9TR/wh+n/APPL9TW9t96NvvR9Uofyh7GHYwf+EP0//nl+po/4Q/T/APnl+pre2+9G33o+qUP5Q9jDsYP/AAh+n/8APL9TR/wh+n/88v1Nb233o2+9H1Sh/KHsYdjA/wCEP0//AJ5fqaP+EP0//nl+prf2+9G33pfU6H8oexh2MD/hD9P/AOeX6ml/4Q/T/wDnl+pre2+9G33o+p0P5Q9jDsYP/CH6f/zy/U0f8Ifp/wDzy/U1vbfejb70/qlD+UPYw7GD/wAIfp//ADy/U0n/AAh+n/8APL9TW/t96NvvS+p0P5Q9jDsYH/CH6f8A88v1NH/CH6f/AM8v1Nb+33o2+9H1Oh/KHsYdjB/4Q/T/APnl+po/4Q/T/wDnl+pre2+9G33p/VKH8oexh2MH/hD9P/55fqaP+EP0/wD55fqa3tvvRt96PqlD+UPYw7GD/wAIfp//ADy/U0f8Ifp//PL9TW9t96NvvR9Uofyh7GHYwf8AhD9P/wCeX6mj/hD9P/55fqa3tvvRt96PqlD+UPYw7GD/AMIfp/8Azy/U0f8ACH6f/wA8v1Nb233o2+9H1Sh/KHsYdjB/4Q/T/wDnl+po/wCEP0//AJ5fqa3tvvRt96PqlD+UPYw7GD/wh+n/APPL9TR/wh+n/wDPL9TW9t96NvvR9Uofyh7GHYwf+EP0/wD55fqaP+EP0/8A55fqa3tvvRt96PqlD+UPYw7GD/wh+n/88v1NH/CH6f8A88v1Nb233o2+9H1Sh/KHsYdjB/4Q/T/+eX6mj/hD9P8A+eX6mt7b70bfej6pQ/lD2MOxg/8ACH6f/wA8v1NH/CH6f/zy/U1vbfejb70fVKH8oexh2MH/AIQ/T/8Anl+po/4Q/T/+eX6mt7b70bfej6pQ/lD2MOxg/wDCH6f/AM8v1NH/AAh+n/8APL9TW9t96NvvR9Uofyh7GHYwf+EP0/8A55fqaP8AhD9P/wCeX6mt7b70bfej6pQ/lD2MOxg/8Ifp/wDzy/U0f8Ifp/8Azy/U1vbfejb70fVKH8oexh2MH/hD9P8A+eX6mk/4Q+w/55/qa39vvRtFS8HQ/lD2MOxk2/h21t/urUp0aA9q0too21vGlGKskHs4rYzP7Dt+6U7+w7X/AJ5j860dtG2n7KPYrkRnf2Ha/wDPMfnR/Ydr/wA8x+daO2jbS9jDsPliZ39h2v8AzzH50f2Ha/8APMfnWjto20exh2DliZ39h2v/ADzH50f2Ha/88x+daO2jbR7GHYOWJnf2Ha/88x+dH9h2v/PMfnWjto20exh2DliZ39h2v/PMfnR/Ydr/AM8x+daO2jbR7GHYOWJnf2Ha/wDPMfnR/Ydr/wA8x+daO2jbR7GHYOWJnf2Ha/8APMfnR/Ydr/zzH51o7aNtHsYdg5Ymd/Ydr/zzH50f2Ha/88x+daO2jbR7GHYOWJnf2Ha/88x+dH9h2v8AzzH51o7aNtHsYdg5Ymd/Ydr/AM8x+dH9h2v/ADzH51o7aNtHsYdg5Ymd/Ydr/wA8x+dH9h2v/PMfnWjto20exh2DliZ39h2v/PMfnR/Ydr/zzH51o7aNtHsYdg5Ymd/Ydr/zzH50f2Ha/wDPMfnWjto20exh2DliZ39h2v8AzzH50f2Ha/8APMfnWjto20exh2DliZ39h2v/ADzH50f2Ha/88x+daO2jbR7GHYOWJnf2Ha/88x+dH9h2v/PMfnWjto20exh2DliZ39h2v/PMfnR/Ydr/AM8x+daO2jbR7GHYOWJnf2Ha/wDPMfnR/Ydr/wA8x+daO2jbR7GHYOWJnf2Ha/8APMfnR/Ydr/zzH51o7aNtHsYdg5Ymd/Ydr/zzH50f2Ha/88x+daO2jbR7GHYOWJnf2Ha/88x+dH9h2v8AzzH51o7aNtHsYdg5Ymd/Ydr/AM8x+dH9h2v/ADzH51o7aNtHsYdg5Ymd/Ydr/wA8x+dH9h2v/PMfnWjto20exh2DliZ39h2v/PMfnR/Ydr/zzH51o7aNtHsYdg5Ymd/Ydr/zzH50f2Ha/wDPMfnWjto20exh2DliZ39h2v8AzzH50f2Ha/8APMfnWjto20exh2DliZ39h2v/ADzH50f2Ha/88x+daO2jbR7GHYOWJnf2Ha/88x+dH9h2v/PMfnWjto20exh2DliZ39h2v/PMfnR/Ydr/AM8x+daO2jbR7GHYOWJnf2Ha/wDPMfnR/Ydr/wA8x+daO2jbR7GHYOWJnf2Ha/8APMfnR/Ydr/zzH51o7aNtHsYdg5Ymd/Ydr/zzp0ej28MgdUww5FX8UtNUoroLlQxV5p9JilrUsKKKKAGv91vpX48/8E+/+Ukfif8A7B+pf+hpX7DP91vpX48/8E+/+Ukfif8A7B+pf+hpQB6Z/wAFqP8AkAeDvo3/AKGK+8v2bv8AkhPgb/sD2n/olK+Df+C1H/IA8HfRv/QxX3l+zd/yQnwN/wBge0/9EpQB6VRRRQAUUUUAFFFFABRRRQAUUUUAFFFFABRRRQAUUUUAFFFFABRRRQAUUUUAFFFFABRRRQAUUUUAFFFFABRRRQAUUUUAFFFFABRRRQAUUUUAFFFFABRRRQAUUUUAFFFFABRRRQAUUUUAFFFFABRRRQAUUUUAFFFFABRRRQAUUUUAFFFFABRRRQAUUUUAFFFFABRRRQAUUUUAFFFFABRRRQAUUUUAFFFFABRRRQAUUUUAFFFFABRRRQAUUUUAFFFFABRRRQAUUUUAFFFFABRRRQAUUUUAFFFFABRRRQAUUUUAFFFFABRRRQAUUUUAFFFFABRRRQAUUUUAFFFFABRRRQAUUUUAFFFFABRRRQAUUUUAFFFFABRRRQAUUUUAFFFFADX+630r8ef+Cff/ACkj8T/9g/Uv/Q0r9hn+630r8ef+Cff/ACkj8T/9g/Uv/Q0oA9M/4LUf8gDwd9G/9DFfeX7N3/JCfA3/AGB7T/0SlfBv/Baj/kAeDvo3/oYr7y/Zu/5IT4G/7A9p/wCiUoA9KooooAKKKKACiiigAooooAKKKKACiiigAooooAKKKKACiiigAooooAKKKKACiiigAooooAKKKKACiiigAooooAKKKKACiiigAooooAKKKKACiiigAooooAKKKKACiiigAooooAKKKKACiiigAooooAKKKKACiiigAooooAKKKKACiiigAooooAKKKKACiiigAooooAKKKKACiiigAooooAKKKKACiiigAooooAKKKKACiiigAooooAKKKKACiiigAooooAKKKKACiiigAooooAKKKKACiiigAooooAKKKKACiiigAooooAKKKKACiiigAooooAKKKKACiiigAooooAKKKKACiiigAooooAKKKKACiiigAooooAKKKKACiiigBr/db6V+PP8AwT7/AOUkfif/ALB+pf8AoaV+wz/db6V+PP8AwT7/AOUkfif/ALB+pf8AoaUAenf8Fp1H/CO+D2zzhv8A0MVmfCz/AIK5eFPAfw88PeH5/DdxPNp1jDatIrNhikaqT932r9HvHvwl8IfFBbdfFXh+x11LcYjW9hWQLznjIrjP+GQPg5/0T3Qv/AKP/CgD4+/4fQeD/wDoVrr/AL6b/wCJpP8Ah9B4P/6Fa5/76f8A+Jr7C/4Y/wDg5/0T3Qv/AACj/wAKb/wx78G/+ie6F/4BR/4UAfH/APw+g8H/APQrXP8A30//AMTR/wAPoPB//QrXP/fT/wDxNfYH/DHvwb/6J7oX/gFH/hR/wx78G/8Aonuhf+AUf+FAHx//AMPoPB//AEK1z/30/wD8TR/w+g8H/wDQrXP/AH0//wATX2B/wx78G/8Aonuhf+AUf+FH/DHvwb/6J7oX/gFH/hQB8f8A/D6Dwf8A9Ctc/wDfT/8AxNH/AA+g8H/9Ctc/99P/APE19gf8Me/Bv/onuhf+AUf+FH/DHvwb/wCie6F/4BR/4UAfH/8Aw+g8H/8AQrXP/fT/APxNH/D6Dwf/ANCtc/8AfT//ABNfYH/DHvwb/wCie6F/4BR/4Uf8Me/Bv/onuhf+AUf+FAHx/wD8PoPB/wD0K1z/AN9P/wDE0f8AD6Dwf/0K1z/30/8A8TX2B/wx78G/+ie6F/4BR/4Uf8Me/Bv/AKJ7oX/gFH/hQB8f/wDD6Dwf/wBCtc/99P8A/E0f8PoPB/8A0K1z/wB9P/8AE19gf8Me/Bv/AKJ7oX/gFH/hR/wx78G/+ie6F/4BR/4UAfH/APw+g8H/APQrXP8A30//AMTR/wAPoPB//QrXP/fT/wDxNfYH/DHvwb/6J7oX/gFH/hR/wx78G/8Aonuhf+AUf+FAHx//AMPoPB//AEK1z/30/wD8TR/w+g8H/wDQrXP/AH0//wATX2B/wx78G/8Aonuhf+AUf+FH/DHvwb/6J7oX/gFH/hQB8f8A/D6Dwf8A9Ctc/wDfT/8AxNH/AA+g8H/9Ctc/99P/APE19gf8Me/Bv/onuhf+AUf+FH/DHvwb/wCie6F/4BR/4UAfH/8Aw+g8H/8AQrXP/fT/APxNH/D6Dwf/ANCtc/8AfT//ABNfYH/DHvwb/wCie6F/4BR/4Uf8Me/Bv/onuhf+AUf+FAHx/wD8PoPB/wD0K1z/AN9P/wDE0f8AD6Dwf/0K1z/30/8A8TX2B/wx78G/+ie6F/4BR/4Uf8Me/Bv/AKJ7oX/gFH/hQB8f/wDD6Dwf/wBCtc/99P8A/E0f8PoPB/8A0K1z/wB9P/8AE19gf8Me/Bv/AKJ7oX/gFH/hR/wx78G/+ie6F/4BR/4UAfH/APw+g8H/APQrXP8A30//AMTR/wAPoPB//QrXP/fT/wDxNfYH/DHvwb/6J7oX/gFH/hR/wx78G/8Aonuhf+AUf+FAHx//AMPoPB//AEK1z/30/wD8TR/w+g8H/wDQrXP/AH0//wATX2B/wx78G/8Aonuhf+AUf+FH/DHvwb/6J7oX/gFH/hQB8f8A/D6Dwf8A9Ctc/wDfT/8AxNH/AA+g8H/9Ctc/99P/APE19gf8Me/Bv/onuhf+AUf+FH/DHvwb/wCie6F/4BR/4UAfH/8Aw+g8H/8AQrXP/fT/APxNH/D6Dwf/ANCtc/8AfT//ABNfYH/DHvwb/wCie6F/4BR/4Uf8Me/Bv/onuhf+AUf+FAHx/wD8PoPB/wD0K1z/AN9P/wDE0f8AD6Dwf/0K1z/30/8A8TX2B/wx78G/+ie6F/4BR/4Uf8Me/Bv/AKJ7oX/gFH/hQB8f/wDD6Dwf/wBCtc/99P8A/E0f8PoPB/8A0K1z/wB9P/8AE19gf8Me/Bv/AKJ7oX/gFH/hR/wx78G/+ie6F/4BR/4UAfH/APw+g8H/APQrXP8A30//AMTR/wAPoPB//QrXP/fT/wDxNfYH/DHvwb/6J7oX/gFH/hR/wx78G/8Aonuhf+AUf+FAHx//AMPoPB//AEK1z/30/wD8TR/w+g8H/wDQrXP/AH0//wATX2B/wx78G/8Aonuhf+AUf+FH/DHvwb/6J7oX/gFH/hQB8f8A/D6Dwf8A9Ctc/wDfT/8AxNH/AA+g8H/9Ctc/99P/APE19gf8Me/Bv/onuhf+AUf+FH/DHvwb/wCie6F/4BR/4UAfH/8Aw+g8H/8AQrXP/fT/APxNH/D6Dwf/ANCtc/8AfT//ABNfYH/DHvwb/wCie6F/4BR/4Uf8Me/Bv/onuhf+AUf+FAHx/wD8PoPB/wD0K1z/AN9P/wDE0f8AD6Dwf/0K1z/30/8A8TX2B/wx78G/+ie6F/4BR/4Uf8Me/Bv/AKJ7oX/gFH/hQB8f/wDD6Dwf/wBCtc/99P8A/E0f8PoPB/8A0K1z/wB9P/8AE19gf8Me/Bv/AKJ7oX/gFH/hR/wx78G/+ie6F/4BR/4UAfH/APw+g8H/APQrXP8A30//AMTR/wAPoPB//QrXP/fT/wDxNfYH/DHvwb/6J7oX/gFH/hR/wx78G/8Aonuhf+AUf+FAHx//AMPoPB//AEK1z/30/wD8TR/w+g8H/wDQrXP/AH0//wATX2B/wx78G/8Aonuhf+AUf+FH/DHvwb/6J7oX/gFH/hQB8f8A/D6Dwf8A9Ctc/wDfT/8AxNH/AA+g8H/9Ctc/99P/APE19gf8Me/Bv/onuhf+AUf+FH/DHvwb/wCie6F/4BR/4UAfH/8Aw+g8H/8AQrXP/fT/APxNH/D6Dwf/ANCtc/8AfT//ABNfYH/DHvwb/wCie6F/4BR/4Uf8Me/Bv/onuhf+AUf+FAHx/wD8PoPB/wD0K1z/AN9P/wDE0f8AD6Dwf/0K1z/30/8A8TX2B/wx78G/+ie6F/4BR/4Uf8Me/Bv/AKJ7oX/gFH/hQB8f/wDD6Dwf/wBCtc/99P8A/E0f8PoPB/8A0K1z/wB9P/8AE19gf8Me/Bv/AKJ7oX/gFH/hR/wx78G/+ie6F/4BR/4UAfH/APw+g8H/APQrXP8A30//AMTR/wAPoPB//QrXP/fT/wDxNfYH/DHvwb/6J7oX/gFH/hR/wx78G/8Aonuhf+AUf+FAHx//AMPoPB//AEK1z/30/wD8TR/w+g8H/wDQrXP/AH0//wATX2B/wx78G/8Aonuhf+AUf+FH/DHvwb/6J7oX/gFH/hQB8f8A/D6Dwf8A9Ctc/wDfT/8AxNH/AA+g8H/9Ctc/99P/APE19gf8Me/Bv/onuhf+AUf+FH/DHvwb/wCie6F/4BR/4UAfH/8Aw+g8H/8AQrXP/fT/APxNH/D6Dwf/ANCtc/8AfT//ABNfYH/DHvwb/wCie6F/4BR/4Uf8Me/Bv/onuhf+AUf+FAHx/wD8PoPB/wD0K1z/AN9P/wDE0f8AD6Dwf/0K1z/30/8A8TX2B/wx78G/+ie6F/4BR/4Uf8Me/Bv/AKJ7oX/gFH/hQB8f/wDD6Dwf/wBCtc/99P8A/E0f8PoPB/8A0K1z/wB9P/8AE19gf8Me/Bv/AKJ7oX/gFH/hR/wx78G/+ie6F/4BR/4UAfH/APw+g8H/APQrXP8A30//AMTR/wAPoPB//QrXP/fT/wDxNfYH/DHvwb/6J7oX/gFH/hR/wx78G/8Aonuhf+AUf+FAHx//AMPoPB//AEK1z/30/wD8TR/w+g8H/wDQrXP/AH0//wATX2B/wx78G/8Aonuhf+AUf+FH/DHvwb/6J7oX/gFH/hQB8f8A/D6Dwf8A9Ctc/wDfT/8AxNH/AA+g8H/9Ctc/99P/APE19gf8Me/Bv/onuhf+AUf+FH/DHvwb/wCie6F/4BR/4UAfH/8Aw+g8H/8AQrXP/fT/APxNH/D6Dwf/ANCtc/8AfT//ABNfYH/DHvwb/wCie6F/4BR/4Uf8Me/Bv/onuhf+AUf+FAHx/wD8PoPB/wD0K1z/AN9P/wDE0f8AD6Dwf/0K1z/30/8A8TX2B/wx78G/+ie6F/4BR/4Uf8Me/Bv/AKJ7oX/gFH/hQB8f/wDD6Dwf/wBCtc/99P8A/E0f8PoPB/8A0K1z/wB9P/8AE19gf8Me/Bv/AKJ7oX/gFH/hR/wx78G/+ie6F/4BR/4UAfH/APw+g8H/APQrXP8A30//AMTR/wAPoPB//QrXP/fT/wDxNfYH/DHvwb/6J7oX/gFH/hR/wx78G/8Aonuhf+AUf+FAHx//AMPoPB//AEK1z/30/wD8TR/w+g8H/wDQrXP/AH0//wATX2B/wx78G/8Aonuhf+AUf+FH/DHvwb/6J7oX/gFH/hQB8f8A/D6Dwf8A9Ctc/wDfT/8AxNH/AA+g8H/9Ctc/99P/APE19gf8Me/Bv/onuhf+AUf+FH/DHvwb/wCie6F/4BR/4UAfH/8Aw+g8H/8AQrXP/fT/APxNH/D6Dwf/ANCtc/8AfT//ABNfYH/DHvwb/wCie6F/4BR/4Uf8Me/Bv/onuhf+AUf+FAHx/wD8PoPB/wD0K1z/AN9P/wDE0f8AD6Dwf/0K1z/30/8A8TX2B/wx78G/+ie6F/4BR/4Uf8Me/Bv/AKJ7oX/gFH/hQB8f/wDD6Dwf/wBCtc/99P8A/E0f8PoPB/8A0K1z/wB9P/8AE19gf8Me/Bv/AKJ7oX/gFH/hR/wx78G/+ie6F/4BR/4UAfH/APw+g8H/APQrXP8A30//AMTR/wAPoPB//QrXP/fT/wDxNfYH/DHvwb/6J7oX/gFH/hR/wx78G/8Aonuhf+AUf+FAHx//AMPoPB//AEK1z/30/wD8TR/w+g8H/wDQrXP/AH0//wATX2B/wx78G/8Aonuhf+AUf+FH/DHvwb/6J7oX/gFH/hQB8f8A/D6Dwf8A9Ctc/wDfT/8AxNH/AA+g8H/9Ctc/99P/APE19gf8Me/Bv/onuhf+AUf+FH/DHvwb/wCie6F/4BR/4UAfH/8Aw+g8H/8AQrXP/fT/APxNH/D6Dwf/ANCtc/8AfT//ABNfYH/DHvwb/wCie6F/4BR/4Uf8Me/Bv/onuhf+AUf+FAHx/wD8PoPB/wD0K1z/AN9P/wDE0f8AD6Dwf/0K1z/30/8A8TX2B/wx78G/+ie6F/4BR/4Uf8Me/Bv/AKJ7oX/gFH/hQB8f/wDD6Dwf/wBCtc/99P8A/E0f8PoPB/8A0K1z/wB9P/8AE19gf8Me/Bv/AKJ7oX/gFH/hR/wx78G/+ie6F/4BR/4UAfH/APw+g8H/APQrXP8A30//AMTR/wAPoPB//QrXP/fT/wDxNfYH/DHvwb/6J7oX/gFH/hR/wx78G/8Aonuhf+AUf+FAHx//AMPoPB//AEK1z/30/wD8TR/w+g8H/wDQrXP/AH0//wATX2B/wx78G/8Aonuhf+AUf+FH/DHvwb/6J7oX/gFH/hQB8f8A/D6Dwf8A9Ctc/wDfT/8AxNH/AA+g8H/9Ctc/99P/APE19gf8Me/Bv/onuhf+AUf+FH/DHvwb/wCie6F/4BR/4UAfH/8Aw+g8H/8AQrXP/fT/APxNH/D6Dwf/ANCtc/8AfT//ABNfYH/DHvwb/wCie6F/4BR/4Uf8Me/Bv/onuhf+AUf+FAHx/wD8PoPB/wD0K1z/AN9P/wDE0f8AD6Dwf/0K1z/30/8A8TX2B/wx78G/+ie6F/4BR/4Uf8Me/Bv/AKJ7oX/gFH/hQB8f/wDD6Dwf/wBCtc/99P8A/E0f8PoPB/8A0K1z/wB9P/8AE19gf8Me/Bv/AKJ7oX/gFH/hR/wx78G/+ie6F/4BR/4UAfH/APw+g8H/APQrXP8A30//AMTR/wAPoPB//QrXP/fT/wDxNfYH/DHvwb/6J7oX/gFH/hR/wx78G/8Aonuhf+AUf+FAHx//AMPoPB//AEK1z/30/wD8TR/w+g8H/wDQrXP/AH0//wATX2B/wx78G/8Aonuhf+AUf+FH/DHvwb/6J7oX/gFH/hQB8f8A/D6Dwf8A9Ctc/wDfT/8AxNH/AA+g8H/9Ctc/99P/APE19gf8Me/Bv/onuhf+AUf+FH/DHvwb/wCie6F/4BR/4UAfH/8Aw+g8H/8AQrXP/fT/APxNH/D6Dwf/ANCtc/8AfT//ABNfYH/DHvwb/wCie6F/4BR/4Uf8Me/Bv/onuhf+AUf+FAHx/wD8PoPB/wD0K1z/AN9P/wDE0f8AD6Dwf/0K1z/30/8A8TX2B/wx78G/+ie6F/4BR/4Uf8Me/Bv/AKJ7oX/gFH/hQB8f/wDD6Dwf/wBCtc/99P8A/E0f8PoPB/8A0K1z/wB9P/8AE19gf8Me/Bv/AKJ7oX/gFH/hR/wx78G/+ie6F/4BR/4UAfH/APw+g8H/APQrXP8A30//AMTR/wAPoPB//QrXP/fT/wDxNfYH/DHvwb/6J7oX/gFH/hR/wx78G/8Aonuhf+AUf+FAHx//AMPoPB//AEK1z/30/wD8TR/w+g8H/wDQrXP/AH0//wATX2B/wx78G/8Aonuhf+AUf+FH/DHvwb/6J7oX/gFH/hQB8f8A/D6Dwf8A9Ctc/wDfT/8AxNH/AA+g8H/9Ctc/99P/APE19gf8Me/Bv/onuhf+AUf+FH/DHvwb/wCie6F/4BR/4UAfH/8Aw+g8H/8AQrXP/fT/APxNH/D6Dwf/ANCtc/8AfT//ABNfYH/DHvwb/wCie6F/4BR/4Uf8Me/Bv/onuhf+AUf+FAHx/wD8PoPB/wD0K1z/AN9P/wDE0f8AD6Dwf/0K1z/30/8A8TX2B/wx78G/+ie6F/4BR/4Uf8Me/Bv/AKJ7oX/gFH/hQB8fn/gtB4PII/4Ra5/77f8A+Jr5/wD+CYviiPxp+3xqutwxmKK90nUJlU9gWQ4r9QP+GPfg5/0T3Qv/AACj/wAK3/Af7Pnw9+Getf2x4a8J6Xo2p+W0P2m0tkjfY2MjIHQ4FAH/2Q==)\n",
        "\n",
        "\n",
        "![recall.jpg](data:image/jpeg;base64,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)\n",
        "\n",
        "\n",
        "Images from Adam Shafi (2022)."
      ],
      "metadata": {
        "id": "61ZjtfIbTAB4"
      }
    },
    {
      "cell_type": "markdown",
      "source": [
        "# Let's create a histogram"
      ],
      "metadata": {
        "id": "IlZ5xXHQVF_w"
      }
    },
    {
      "cell_type": "code",
      "source": [
        "#Let's import one more library\n",
        "\n",
        "import seaborn as sns\n",
        "\n"
      ],
      "metadata": {
        "id": "1RN7xxUnVMqO"
      },
      "execution_count": 201,
      "outputs": []
    },
    {
      "cell_type": "code",
      "source": [
        "# Now, let's plot 'age'\n",
        "\n",
        "# plotting histogram\n",
        "plt.hist(water_df['arsenic'],bins = 35,\n",
        "         alpha = 0.45, color = 'green')\n",
        "plt.show()\n",
        "\n",
        "\n",
        "# Now, use the same code to create histogram for any variable you want"
      ],
      "metadata": {
        "colab": {
          "base_uri": "https://localhost:8080/",
          "height": 430
        },
        "id": "psXp3juTVWd5",
        "outputId": "e959b9dc-b135-4982-e8fa-7d85bbef4f84"
      },
      "execution_count": 205,
      "outputs": [
        {
          "output_type": "display_data",
          "data": {
            "text/plain": [
              "<Figure size 640x480 with 1 Axes>"
            ],
            "image/png": "[encoded data removed]"
          },
          "metadata": {}
        }
      ]
    }
  ]
}